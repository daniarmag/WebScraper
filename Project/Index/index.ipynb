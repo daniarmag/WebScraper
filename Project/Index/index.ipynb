{
  "cells": [
    {
      "cell_type": "markdown",
      "metadata": {
        "id": "view-in-github",
        "colab_type": "text"
      },
      "source": [
        "<a href=\"https://colab.research.google.com/github/ndvp39/CloudComputing-tirgul/blob/main/Project/Index/index.ipynb\" target=\"_parent\"><img src=\"https://colab.research.google.com/assets/colab-badge.svg\" alt=\"Open In Colab\"/></a>"
      ]
    },
    {
      "cell_type": "code",
      "execution_count": 19,
      "metadata": {
        "id": "Qu-nszRXeyxQ",
        "colab": {
          "base_uri": "https://localhost:8080/"
        },
        "outputId": "366b6eb2-2265-4364-95fc-a3e2f5770c39"
      },
      "outputs": [
        {
          "output_type": "stream",
          "name": "stdout",
          "text": [
            "Requirement already satisfied: requests in /usr/local/lib/python3.10/dist-packages (2.31.0)\n",
            "Requirement already satisfied: beautifulsoup4 in /usr/local/lib/python3.10/dist-packages (4.12.3)\n",
            "Requirement already satisfied: charset-normalizer<4,>=2 in /usr/local/lib/python3.10/dist-packages (from requests) (3.3.2)\n",
            "Requirement already satisfied: idna<4,>=2.5 in /usr/local/lib/python3.10/dist-packages (from requests) (3.6)\n",
            "Requirement already satisfied: urllib3<3,>=1.21.1 in /usr/local/lib/python3.10/dist-packages (from requests) (2.0.7)\n",
            "Requirement already satisfied: certifi>=2017.4.17 in /usr/local/lib/python3.10/dist-packages (from requests) (2024.2.2)\n",
            "Requirement already satisfied: soupsieve>1.2 in /usr/local/lib/python3.10/dist-packages (from beautifulsoup4) (2.5)\n",
            "Requirement already satisfied: firebase in /usr/local/lib/python3.10/dist-packages (4.0.1)\n",
            "Requirement already satisfied: requests in /usr/local/lib/python3.10/dist-packages (from firebase) (2.31.0)\n",
            "Requirement already satisfied: charset-normalizer<4,>=2 in /usr/local/lib/python3.10/dist-packages (from requests->firebase) (3.3.2)\n",
            "Requirement already satisfied: idna<4,>=2.5 in /usr/local/lib/python3.10/dist-packages (from requests->firebase) (3.6)\n",
            "Requirement already satisfied: urllib3<3,>=1.21.1 in /usr/local/lib/python3.10/dist-packages (from requests->firebase) (2.0.7)\n",
            "Requirement already satisfied: certifi>=2017.4.17 in /usr/local/lib/python3.10/dist-packages (from requests->firebase) (2024.2.2)\n",
            "Requirement already satisfied: firebase-admin in /usr/local/lib/python3.10/dist-packages (5.3.0)\n",
            "Requirement already satisfied: cachecontrol>=0.12.6 in /usr/local/lib/python3.10/dist-packages (from firebase-admin) (0.14.0)\n",
            "Requirement already satisfied: google-api-python-client>=1.7.8 in /usr/local/lib/python3.10/dist-packages (from firebase-admin) (2.84.0)\n",
            "Requirement already satisfied: google-cloud-storage>=1.37.1 in /usr/local/lib/python3.10/dist-packages (from firebase-admin) (2.8.0)\n",
            "Requirement already satisfied: google-api-core[grpc]<3.0.0dev,>=1.22.1 in /usr/local/lib/python3.10/dist-packages (from firebase-admin) (2.11.1)\n",
            "Requirement already satisfied: google-cloud-firestore>=2.1.0 in /usr/local/lib/python3.10/dist-packages (from firebase-admin) (2.11.1)\n",
            "Requirement already satisfied: requests>=2.16.0 in /usr/local/lib/python3.10/dist-packages (from cachecontrol>=0.12.6->firebase-admin) (2.31.0)\n",
            "Requirement already satisfied: msgpack<2.0.0,>=0.5.2 in /usr/local/lib/python3.10/dist-packages (from cachecontrol>=0.12.6->firebase-admin) (1.0.8)\n",
            "Requirement already satisfied: googleapis-common-protos<2.0.dev0,>=1.56.2 in /usr/local/lib/python3.10/dist-packages (from google-api-core[grpc]<3.0.0dev,>=1.22.1->firebase-admin) (1.63.0)\n",
            "Requirement already satisfied: protobuf!=3.20.0,!=3.20.1,!=4.21.0,!=4.21.1,!=4.21.2,!=4.21.3,!=4.21.4,!=4.21.5,<5.0.0.dev0,>=3.19.5 in /usr/local/lib/python3.10/dist-packages (from google-api-core[grpc]<3.0.0dev,>=1.22.1->firebase-admin) (3.20.3)\n",
            "Requirement already satisfied: google-auth<3.0.dev0,>=2.14.1 in /usr/local/lib/python3.10/dist-packages (from google-api-core[grpc]<3.0.0dev,>=1.22.1->firebase-admin) (2.27.0)\n",
            "Requirement already satisfied: grpcio<2.0dev,>=1.33.2 in /usr/local/lib/python3.10/dist-packages (from google-api-core[grpc]<3.0.0dev,>=1.22.1->firebase-admin) (1.62.1)\n",
            "Requirement already satisfied: grpcio-status<2.0.dev0,>=1.33.2 in /usr/local/lib/python3.10/dist-packages (from google-api-core[grpc]<3.0.0dev,>=1.22.1->firebase-admin) (1.48.2)\n",
            "Requirement already satisfied: httplib2<1dev,>=0.15.0 in /usr/local/lib/python3.10/dist-packages (from google-api-python-client>=1.7.8->firebase-admin) (0.22.0)\n",
            "Requirement already satisfied: google-auth-httplib2>=0.1.0 in /usr/local/lib/python3.10/dist-packages (from google-api-python-client>=1.7.8->firebase-admin) (0.1.1)\n",
            "Requirement already satisfied: uritemplate<5,>=3.0.1 in /usr/local/lib/python3.10/dist-packages (from google-api-python-client>=1.7.8->firebase-admin) (4.1.1)\n",
            "Requirement already satisfied: google-cloud-core<3.0.0dev,>=1.4.1 in /usr/local/lib/python3.10/dist-packages (from google-cloud-firestore>=2.1.0->firebase-admin) (2.3.3)\n",
            "Requirement already satisfied: proto-plus<2.0.0dev,>=1.22.0 in /usr/local/lib/python3.10/dist-packages (from google-cloud-firestore>=2.1.0->firebase-admin) (1.23.0)\n",
            "Requirement already satisfied: google-resumable-media>=2.3.2 in /usr/local/lib/python3.10/dist-packages (from google-cloud-storage>=1.37.1->firebase-admin) (2.7.0)\n",
            "Requirement already satisfied: cachetools<6.0,>=2.0.0 in /usr/local/lib/python3.10/dist-packages (from google-auth<3.0.dev0,>=2.14.1->google-api-core[grpc]<3.0.0dev,>=1.22.1->firebase-admin) (5.3.3)\n",
            "Requirement already satisfied: pyasn1-modules>=0.2.1 in /usr/local/lib/python3.10/dist-packages (from google-auth<3.0.dev0,>=2.14.1->google-api-core[grpc]<3.0.0dev,>=1.22.1->firebase-admin) (0.4.0)\n",
            "Requirement already satisfied: rsa<5,>=3.1.4 in /usr/local/lib/python3.10/dist-packages (from google-auth<3.0.dev0,>=2.14.1->google-api-core[grpc]<3.0.0dev,>=1.22.1->firebase-admin) (4.9)\n",
            "Requirement already satisfied: google-crc32c<2.0dev,>=1.0 in /usr/local/lib/python3.10/dist-packages (from google-resumable-media>=2.3.2->google-cloud-storage>=1.37.1->firebase-admin) (1.5.0)\n",
            "Requirement already satisfied: pyparsing!=3.0.0,!=3.0.1,!=3.0.2,!=3.0.3,<4,>=2.4.2 in /usr/local/lib/python3.10/dist-packages (from httplib2<1dev,>=0.15.0->google-api-python-client>=1.7.8->firebase-admin) (3.1.2)\n",
            "Requirement already satisfied: charset-normalizer<4,>=2 in /usr/local/lib/python3.10/dist-packages (from requests>=2.16.0->cachecontrol>=0.12.6->firebase-admin) (3.3.2)\n",
            "Requirement already satisfied: idna<4,>=2.5 in /usr/local/lib/python3.10/dist-packages (from requests>=2.16.0->cachecontrol>=0.12.6->firebase-admin) (3.6)\n",
            "Requirement already satisfied: urllib3<3,>=1.21.1 in /usr/local/lib/python3.10/dist-packages (from requests>=2.16.0->cachecontrol>=0.12.6->firebase-admin) (2.0.7)\n",
            "Requirement already satisfied: certifi>=2017.4.17 in /usr/local/lib/python3.10/dist-packages (from requests>=2.16.0->cachecontrol>=0.12.6->firebase-admin) (2024.2.2)\n",
            "Requirement already satisfied: pyasn1<0.7.0,>=0.4.6 in /usr/local/lib/python3.10/dist-packages (from pyasn1-modules>=0.2.1->google-auth<3.0.dev0,>=2.14.1->google-api-core[grpc]<3.0.0dev,>=1.22.1->firebase-admin) (0.6.0)\n"
          ]
        }
      ],
      "source": [
        "\n",
        "!pip install requests beautifulsoup4\n",
        "!pip install firebase\n",
        "!pip install firebase-admin\n"
      ]
    },
    {
      "cell_type": "code",
      "source": [
        "\n",
        "from nltk.stem import PorterStemmer\n",
        "from bs4 import BeautifulSoup\n",
        "from collections import defaultdict\n",
        "from firebase_admin import credentials\n",
        "from firebase_admin import firestore\n",
        "import firebase_admin\n",
        "import requests\n",
        "import re\n",
        "import json\n",
        "import os\n",
        "\n",
        "\n",
        "# activate only if run this file directly and not from searchEngine\n",
        "!git clone \"https://github.com/ndvp39/CloudComputing-tirgul.git\"\n"
      ],
      "metadata": {
        "id": "fyPfzgti9aB2",
        "outputId": "59eaeddf-db8d-45f8-c706-4b233cd1a3e9",
        "colab": {
          "base_uri": "https://localhost:8080/"
        }
      },
      "execution_count": 20,
      "outputs": [
        {
          "output_type": "stream",
          "name": "stdout",
          "text": [
            "fatal: destination path 'CloudComputing-tirgul' already exists and is not an empty directory.\n"
          ]
        }
      ]
    },
    {
      "cell_type": "code",
      "execution_count": 21,
      "metadata": {
        "id": "pMW9CHqNe4eZ"
      },
      "outputs": [],
      "source": [
        "# Function to extract text from a webpage\n",
        "def get_page_text(url):\n",
        "    try:\n",
        "        response = requests.get(url)\n",
        "        soup = BeautifulSoup(response.text, 'html.parser')\n",
        "        return soup.get_text()\n",
        "    except Exception as e:\n",
        "        return \"\""
      ]
    },
    {
      "cell_type": "code",
      "source": [
        "# Function to extract links from a webpage\n",
        "def get_links(url):\n",
        "    try:\n",
        "        response = requests.get(url)\n",
        "        soup = BeautifulSoup(response.text, 'html.parser')\n",
        "        links = [link.get('href') for link in soup.find_all('a', href=True)]\n",
        "        return links\n",
        "    except Exception as e:\n",
        "        print(\"Error:\", e)\n",
        "        return []"
      ],
      "metadata": {
        "id": "t7M-PSVLZbNF"
      },
      "execution_count": 22,
      "outputs": []
    },
    {
      "cell_type": "code",
      "execution_count": 23,
      "metadata": {
        "id": "rn3hNM37pgNk"
      },
      "outputs": [],
      "source": [
        "# Removes stop words from the given text - done to skip nonimportant words.\n",
        "def remove_stop_words(text):\n",
        "  stop_words = {'ha','thi','skip','-','&', 'i', 'me', 'my', 'myself', 'we', 'our', 'ours', 'ourselves', 'you', \"you're\", \"you've\", \"you'll\", \"you'd\", 'your', 'yours', 'yourself', 'yourselves', 'he', 'him', 'his', 'himself', 'she', \"she's\", 'her', 'hers', 'herself', 'it', \"it's\", 'its', 'itself', 'they', 'them', 'their', 'theirs', 'themselves', 'what', 'which', 'who', 'whom', 'this', 'that', \"that'll\", 'these', 'those', 'am', 'is', 'are', 'was', 'were', 'be', 'been', 'being', 'have', 'has', 'had', 'having', 'do', 'does', 'did', 'doing', 'a', 'an', 'the', 'and', 'but', 'if', 'or', 'because', 'as', 'until', 'while', 'of', 'at', 'by', 'for', 'with', 'about', 'against', 'between', 'into', 'through', 'during', 'before', 'after', 'above', 'below', 'to', 'from', 'up', 'down', 'in', 'out', 'on', 'off', 'over', 'under', 'again', 'further', 'then', 'once', 'here', 'there', 'when', 'where', 'why', 'how', 'all', 'any', 'both', 'each', 'few', 'more', 'most', 'other', 'some', 'such', 'no', 'nor', 'not', 'only', 'own', 'same', 'so', 'than', 'too', 'very', 's', 't', 'can', 'will', 'just', 'don', \"don't\", 'should', \"should've\", 'now', 'd', 'll', 'm', 'o', 're', 've', 'y', 'ain', 'aren', \"aren't\", 'couldn', \"couldn't\", 'didn', \"didn't\", 'doesn', \"doesn't\", 'hadn', \"hadn't\", 'hasn', \"hasn't\", 'haven', \"haven't\", 'isn', \"isn't\", 'ma', 'mightn', \"mightn't\", 'mustn', \"mustn't\", 'needn', \"needn't\", 'shan', \"shan't\", 'shouldn', \"shouldn't\", 'wasn', \"wasn't\", 'weren', \"weren't\", 'won', \"won't\", 'wouldn', \"wouldn't\"}\n",
        "\n",
        "  words = [word for word in text if word.lower() not in stop_words]\n",
        "  return words"
      ]
    },
    {
      "cell_type": "code",
      "execution_count": 24,
      "metadata": {
        "id": "L2vktA22phqW"
      },
      "outputs": [],
      "source": [
        "# Trimming unnecessary chars.\n",
        "def trim_words(words):\n",
        "    cleaned_words = [word.rstrip(\",.\\\\/?!\") for word in words]\n",
        "    return cleaned_words"
      ]
    },
    {
      "cell_type": "code",
      "execution_count": 25,
      "metadata": {
        "id": "veWH8BZgpk8l"
      },
      "outputs": [],
      "source": [
        "# Applies stemming to a list of words.\n",
        "def apply_stemming(words):\n",
        "    stemmer = PorterStemmer()\n",
        "    stemmed_words = [stemmer.stem(word) for word in words]\n",
        "    return stemmed_words"
      ]
    },
    {
      "cell_type": "code",
      "execution_count": 26,
      "metadata": {
        "id": "sbxUcYpEn2bl"
      },
      "outputs": [],
      "source": [
        "# Function to create index database.\n",
        "def create_index(url):\n",
        "    index = defaultdict(list)\n",
        "    visited = set()\n",
        "    queue = [url]\n",
        "    loop = 0\n",
        "    # Limit the search depth.\n",
        "    while queue and loop < 80:\n",
        "        loop+=1\n",
        "        current_url = queue.pop(0)\n",
        "        if current_url in visited:\n",
        "            continue\n",
        "        visited.add(current_url)\n",
        "        text = get_page_text(current_url)\n",
        "        words = remove_stop_words(text.split())\n",
        "        words = trim_words(words)\n",
        "        words = apply_stemming(words)\n",
        "        for word in words:\n",
        "            index[word].append(current_url)\n",
        "        links = get_links(current_url)\n",
        "        for link in links:\n",
        "            if link.startswith(url) and link not in visited:\n",
        "                queue.append(link)\n",
        "    return index"
      ]
    },
    {
      "cell_type": "code",
      "source": [
        "# This creates a dict with an id for each link and word counter based on the index that was returned in create_index.\n",
        "def update_dict(word, link):\n",
        "    global link_ids\n",
        "    if link not in link_ids:\n",
        "        link_ids[link] = len(link_ids) + 1\n",
        "    link_id = link_ids[link]\n",
        "    if link not in index[word]:\n",
        "        index[word][link] = {'id': link_id, 'counter': 0}\n",
        "    index[word][link]['counter'] += 1"
      ],
      "metadata": {
        "id": "PB0kfsUP5gs4"
      },
      "execution_count": 27,
      "outputs": []
    },
    {
      "cell_type": "code",
      "execution_count": 28,
      "metadata": {
        "id": "btytvwAQe3NN"
      },
      "outputs": [],
      "source": [
        "# Ranking the words based on how many times they appeared.\n",
        "def create_ranked_words(index):\n",
        "    sorted_dict = {}\n",
        "    counter_for_each_word = 0\n",
        "    for word, links in index.items():\n",
        "        for link in links.keys():\n",
        "            counter_for_each_word += index[word][link]['counter']\n",
        "        sorted_dict[word] = counter_for_each_word\n",
        "        counter_for_each_word = 0\n",
        "    # Sort the dictionary by counts in descending order\n",
        "    sorted_dict = {k: v for k, v in sorted(sorted_dict.items(), key=lambda item: item[1], reverse=True)}\n",
        "    ranked_dict = {}\n",
        "    rank = 1\n",
        "    for word, counter in sorted_dict.items():\n",
        "        # highest rank = biggest counter\n",
        "        ranked_dict[word] = {'rank': rank, 'counter': counter}\n",
        "        rank += 1\n",
        "    return ranked_dict"
      ]
    },
    {
      "cell_type": "code",
      "execution_count": 29,
      "metadata": {
        "id": "3xis_RWStxOu"
      },
      "outputs": [],
      "source": [
        "# Creates a dict that can fit into the firestore format.\n",
        "def create_data_for_db(final_index):\n",
        "    data_list = []\n",
        "    for word, doc_ids in final_index.items():\n",
        "        term_data = {\n",
        "            'term': word,\n",
        "            'DocId': doc_ids\n",
        "        }\n",
        "        data_list.append(term_data)\n",
        "    return data_list"
      ]
    },
    {
      "cell_type": "code",
      "source": [
        "# In case we want to generate a json file and upload it to db and not directly from code. ## NOT IN USE ##\n",
        "def generate_json_file(data_list, is_desktop):\n",
        "    if is_desktop:\n",
        "      filepath = os.path.join(os.path.dirname(os.path.abspath(__file__)), \"indexDb.json\")\n",
        "    else:\n",
        "      filepath = \"/content/drive/My Drive/CloudComputing/project/indexDb.json\"\n",
        "    with open(filepath, \"w\") as json_file:\n",
        "        json.dump(data_list, json_file, indent = 2)"
      ],
      "metadata": {
        "id": "izeILoTI5tCA"
      },
      "execution_count": 30,
      "outputs": []
    },
    {
      "cell_type": "code",
      "source": [
        "# Prints the content from data base.\n",
        "def print_collection_from_db(collection_name):\n",
        "    collection_ref = db.collection(collection_name)\n",
        "    docs = collection_ref.get()\n",
        "    i = 0\n",
        "    for doc in docs:\n",
        "        term = doc.to_dict()['term']\n",
        "        print(f\"{i} -- Document ID: {doc.id}, Data: {term}\")\n",
        "        i += 1"
      ],
      "metadata": {
        "id": "WV_K6sn95xK1"
      },
      "execution_count": 31,
      "outputs": []
    },
    {
      "cell_type": "code",
      "source": [
        "# Uploads the index to the db.\n",
        "def upload_to_db(data_list, collection_name):\n",
        "  try:\n",
        "    for data in data_list:\n",
        "        doc_ref = db.collection(collection_name).add(data)\n",
        "    print(\"All documents uploaded successfully.\")\n",
        "  except Exception as e:\n",
        "      print(\"Error:\", e)"
      ],
      "metadata": {
        "id": "xaHHTntkxRUl"
      },
      "execution_count": 32,
      "outputs": []
    },
    {
      "cell_type": "code",
      "source": [
        "# Gets the index from db, used in searchEngine and in chatbot files.\n",
        "def get_index_from_db(db_con = None):\n",
        "    dcon = db_con if db_con is not None else db\n",
        "    imported_dict = {}\n",
        "    collection_ref = dcon.collection(db_collection_name)\n",
        "    docs = collection_ref.get()\n",
        "    for doc in docs:\n",
        "        # Checks if the doc is indeed in the db.\n",
        "        if doc.exists:\n",
        "            term = doc.to_dict()['term']\n",
        "            doc_id = doc.to_dict()['DocId']\n",
        "            imported_dict[term] = doc_id\n",
        "    return imported_dict"
      ],
      "metadata": {
        "id": "_FwisRME2Fxd"
      },
      "execution_count": 33,
      "outputs": []
    },
    {
      "cell_type": "markdown",
      "source": [
        "Main section for index.ipynb"
      ],
      "metadata": {
        "id": "VWRdzavL_2ob"
      }
    },
    {
      "cell_type": "code",
      "source": [
        "website_url = 'https://www.redhat.com/en'\n",
        "db_collection_name = \"PantherIndex\"\n",
        "\n",
        "# createing the index, only once.\n",
        "'''\n",
        "link_ids = {}\n",
        "index_db = create_index(website_url)\n",
        "index = defaultdict(dict)\n",
        "\n",
        "for word, links in index_db.items():\n",
        "    for link in links:\n",
        "        update_dict(word, link)\n",
        "\n",
        "ranked_words = create_ranked_words(index)\n",
        "chosen_words = list(ranked_words.keys())[:110]\n",
        "final_index = {word:index[word] for word in chosen_words}\n",
        "data_list_for_db = create_data_for_db(final_index)\n",
        "'''\n",
        "\n",
        "# db connection.\n",
        "cred = credentials.Certificate(\"/content/CloudComputing-tirgul/Project/Json/sak.json\")\n",
        "if not firebase_admin._apps:\n",
        "  firebase_admin.initialize_app(cred)\n",
        "db = firestore.client()\n",
        "\n",
        "#upload_to_db(data_list_for_db, db_collection_name)\n",
        "#print_collection_from_db(db_collection_name)"
      ],
      "metadata": {
        "id": "PNgxBfn814Zm",
        "colab": {
          "base_uri": "https://localhost:8080/"
        },
        "outputId": "871298c6-9b1b-433d-c1e1-36a9bdec98af"
      },
      "execution_count": 36,
      "outputs": [
        {
          "output_type": "stream",
          "name": "stdout",
          "text": [
            "0 -- Document ID: 0EFrD1jE9UHO6kYHOxxE, Data: across\n",
            "1 -- Document ID: 0Qm3wbBUJ4aqALTibZg8, Data: us\n",
            "2 -- Document ID: 0nOUNHPATVbLDxYiEs36, Data: resourc\n",
            "3 -- Document ID: 1a7JnrApFoau0r5iZ5Gp, Data: stori\n",
            "4 -- Document ID: 1rztxcrAHRq9wQ24GQFU, Data: commit\n",
            "5 -- Document ID: 210VMFXH30D1dLUNiWqG, Data: customerscustom\n",
            "6 -- Document ID: 2hjEe0Jue7yNMUyPU2QA, Data: manag\n",
            "7 -- Document ID: 2pvsQ30iIVddZypLe1sS, Data: trial\n",
            "8 -- Document ID: 3WMrUOYhKn919yHHk9vM, Data: make\n",
            "9 -- Document ID: 475z4lczulz5mw69EZu3, Data: model\n",
            "10 -- Document ID: 4r5PNs5P2N92T6nA1F8W, Data: search\n",
            "11 -- Document ID: 53VPaz3ggyy71h1mtPEM, Data: featur\n",
            "12 -- Document ID: 5HBJAb2PiIVIjPOGXZKf, Data: open\n",
            "13 -- Document ID: 5kZxo2XwEazJA7GgDfaQ, Data: administr\n",
            "14 -- Document ID: 6MkkzWroWukuMJiaZEou, Data: deliv\n",
            "15 -- Document ID: 6SbAeEtSitWreIq5gRNG, Data: commun\n",
            "16 -- Document ID: 6mu9EnbngwF3mUpwFp5b, Data: support\n",
            "17 -- Document ID: 8ZzuZH7w0CEOfcU20FWy, Data: process\n",
            "18 -- Document ID: 8e6MAnv3kkxki8XU1soT, Data: partner\n",
            "19 -- Document ID: 99B4EKfmRb3gCTEeOcBn, Data: like\n",
            "20 -- Document ID: 9NB4EiT0a8S2ornpE7N9, Data: edg\n",
            "21 -- Document ID: AN1R47y6gIrAb2CyZn3C, Data: see\n",
            "22 -- Document ID: BLJTeQJktsLDIKTYA2Y5, Data: newsroom\n",
            "23 -- Document ID: BOJeYxuG8rpM8eT04eXW, Data: event\n",
            "24 -- Document ID: CNucbByZhWUPvolS7R73, Data: product\n",
            "25 -- Document ID: DGp5RFbFa1y4XlNjjq7O, Data: buy\n",
            "26 -- Document ID: E07Tvauaty4PcrGgA6eC, Data: supportbecom\n",
            "27 -- Document ID: EkgMsYpKiwHua1zsWDpc, Data: compani\n",
            "28 -- Document ID: FiaAKYq6bYs5us4csdSE, Data: linux\n",
            "29 -- Document ID: FnbCd5JAVrdcC5HHbV0U, Data: select\n",
            "30 -- Document ID: G6A03Qr6MxWO0VgzFdf0, Data: modern\n",
            "31 -- Document ID: HSY7szc7tfYMHlwQ9Jdf, Data: applic\n",
            "32 -- Document ID: IzoP1kRWa3GRSzdTTlm1, Data: new\n",
            "33 -- Document ID: KKwkmupYKbBG12QTTZIj, Data: data\n",
            "34 -- Document ID: KNuAvxx8Eh6kGUR2WPK2, Data: portalpartn\n",
            "35 -- Document ID: LcSABdtzRYrCr0ie0MtX, Data: consult\n",
            "36 -- Document ID: MCq7KW2J8DW0zM2XH7fD, Data: devop\n",
            "37 -- Document ID: Mj1cvWk2fbCjyXcdNeJW, Data: topic\n",
            "38 -- Document ID: NKVWPl4vBhI8SIipWGsI, Data: secur\n",
            "39 -- Document ID: NyBR2d5nCCtGfV8EqE64, Data: foundat\n",
            "40 -- Document ID: OVn54yubOBp9QkYQTP7x, Data: hat\n",
            "41 -- Document ID: PmuL1vIHHgS0f4C2XjYU, Data: organ\n",
            "42 -- Document ID: Q19QloYUFgj3qDhTIhnj, Data: ecosystem\n",
            "43 -- Document ID: QMCS4qvCN7g1hBpAcEdo, Data: deploy\n",
            "44 -- Document ID: QPBYoRaOOSsVg8NTRxBM, Data: innov\n",
            "45 -- Document ID: Qrn5AGWbEPnytgHnJS7w, Data: legal\n",
            "46 -- Document ID: SFk4kJQvk5bYpb2Kukk1, Data: infrastructur\n",
            "47 -- Document ID: ShofVqyEOqApBHUUAQDD, Data: marketplac\n",
            "48 -- Document ID: T4nZ1PBVoEtLhbpgfmAG, Data: vs\n",
            "49 -- Document ID: UW35CAwA2dbw2SRBv4HN, Data: industri\n",
            "50 -- Document ID: VMPb8VKK7GUdBSoxX5PR, Data: servic\n",
            "51 -- Document ID: VsB38vLhYPN2w9tnMkCZ, Data: architect\n",
            "52 -- Document ID: X9zzZEJGf3Ad4IFtae0C, Data: build\n",
            "53 -- Document ID: XVeb0xI9X0S7IAHZaRf9, Data: sector\n",
            "54 -- Document ID: Xd9OR1zwtB7Kh7YhI5W7, Data: red\n",
            "55 -- Document ID: XdG6JYDVvuX7ANjNKmY7, Data: sellr\n",
            "56 -- Document ID: Xf3a8bBolY8hPdpn95AK, Data: environ\n",
            "57 -- Document ID: XimeGugro4iZe0Ztjwdb, Data: storecontact\n",
            "58 -- Document ID: XwaSJnfNKAn2P45WMKDy, Data: cloud\n",
            "59 -- Document ID: YDhUyUuxkK34Y7jBkjVp, Data: oper\n",
            "60 -- Document ID: ZDNB4kH5pMkIpomVU4SA, Data: access\n",
            "61 -- Document ID: ZY1bol24DZfh2AKs9ls9, Data: engin\n",
            "62 -- Document ID: agcUtXmbjhSQj4T0X0Jj, Data: system\n",
            "63 -- Document ID: anpTCcz8yViEyTRSiIoJ, Data: autom\n",
            "64 -- Document ID: bUHKbPgo9vWhCjsFZcZl, Data: partnerspartn\n",
            "65 -- Document ID: bZjhxslivA97c6rFLnk9, Data: custom\n",
            "66 -- Document ID: c13uCaeirvg3q4BAJ2Uo, Data: kubernet\n",
            "67 -- Document ID: d9RFAVl34DuZkowO0WcM, Data: privaci\n",
            "68 -- Document ID: dL6KRF2S5I8GLAbMB6Om, Data: standard\n",
            "69 -- Document ID: e7y6YpLrbg6GBqXKjubY, Data: use\n",
            "70 -- Document ID: eNSVMBmtfGdHRQJjJRlq, Data: work\n",
            "71 -- Document ID: fcu3ZxgOhQTjMfLXcMIO, Data: success\n",
            "72 -- Document ID: gFsmDesgoFhfmCwOr2QJ, Data: technolog\n",
            "73 -- Document ID: gLjTjNPWZI0zlR48W3Eq, Data: tool\n",
            "74 -- Document ID: gveKEAX8tfmn0twr4mC9, Data: ansibl\n",
            "75 -- Document ID: hKFFy5d5zprccdTwZqVI, Data: casessubscript\n",
            "76 -- Document ID: hPw5BukfPZ1kXkjIAEsa, Data: connect\n",
            "77 -- Document ID: hXaYL04r0wD5BMyBXL9m, Data: integr\n",
            "78 -- Document ID: hq5cmcnH90AdEyMY7KiK, Data: help\n",
            "79 -- Document ID: iusvEtEmy95GM56aFLFS, Data: explor\n",
            "80 -- Document ID: ivNWtgR2KuRDiMJJECZ1, Data: articl\n",
            "81 -- Document ID: jaJiKi3rZ5UHelkXj3wR, Data: partnerfor\n",
            "82 -- Document ID: jrdJYLDs086bduocOeBx, Data: solut\n",
            "83 -- Document ID: mpMNh68SUZK2oUCQ24vy, Data: subscript\n",
            "84 -- Document ID: mrkXmr9kIr3PLBJGmTo1, Data: need\n",
            "85 -- Document ID: nBvO2SV3JeFSTlW9RtP0, Data: ai\n",
            "86 -- Document ID: nGeMb3jbu0UX1peX8SuC, Data: hybrid\n",
            "87 -- Document ID: nI8UFw67tUV9AptzuIMN, Data: busi\n",
            "88 -- Document ID: naCllQcXRPW8MUmBQ9Hv, Data: certif\n",
            "89 -- Document ID: nrpeCvAxedBWNdDpG8yU, Data: train\n",
            "90 -- Document ID: nsKfH1MJPy7HmqBL5wr9, Data: learn\n",
            "91 -- Document ID: opp1VTlQKUoQaTcWaqbI, Data: scale\n",
            "92 -- Document ID: pp0pep3C5ULr4Nr8x7yC, Data: develop\n",
            "93 -- Document ID: q5WDx8JsQWrsJNubGK2g, Data: tri\n",
            "94 -- Document ID: rQ1s397iwrvl43aSqQS9, Data: sourc\n",
            "95 -- Document ID: sr4rySbsblX1VIC55Qaw, Data: healthcar\n",
            "96 -- Document ID: tFzQXOUFj79oGar05TYi, Data: contact\n",
            "97 -- Document ID: u8PNamBr9hwnIfj1vFc8, Data: api\n",
            "98 -- Document ID: ucBpSRTi63a8or8tOvuq, Data: comput\n",
            "99 -- Document ID: urvspxBkP94SQn4hXIGa, Data: enterpris\n",
            "100 -- Document ID: ushHiEPy9h9f3osrVxBV, Data: team\n",
            "101 -- Document ID: vOU9KNG9SoPt4jAnDk4f, Data: openshift\n",
            "102 -- Document ID: w5XmfzefrLtiZWvTCBQC, Data: network\n",
            "103 -- Document ID: wPgwe88rrBLP1WMjNC24, Data: managementr\n",
            "104 -- Document ID: wZcTJ5AYtBA4HAMSLY2T, Data: supportdocumentationsupport\n",
            "105 -- Document ID: wawIAxpYaG9hFdL5je1o, Data: blog\n",
            "106 -- Document ID: wbSABWroRRa2cnE39X8E, Data: platform\n",
            "107 -- Document ID: wdMs91IvNhVFJ3qQMW94, Data: provid\n",
            "108 -- Document ID: x6tLGbr0XbK8iuvbg9dT, Data: contain\n",
            "109 -- Document ID: yJXOQDA5elFzoWbgDHKe, Data: catalogfind\n"
          ]
        }
      ]
    }
  ],
  "metadata": {
    "colab": {
      "provenance": [],
      "include_colab_link": true
    },
    "kernelspec": {
      "display_name": "Python 3",
      "name": "python3"
    },
    "language_info": {
      "name": "python"
    }
  },
  "nbformat": 4,
  "nbformat_minor": 0
}