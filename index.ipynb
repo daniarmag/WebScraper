{
  "cells": [
    {
      "cell_type": "markdown",
      "metadata": {
        "id": "view-in-github",
        "colab_type": "text"
      },
      "source": [
        "<a href=\"https://colab.research.google.com/github/ndvp39/CloudComputing-tirgul/blob/main/index.ipynb\" target=\"_parent\"><img src=\"https://colab.research.google.com/assets/colab-badge.svg\" alt=\"Open In Colab\"/></a>"
      ]
    },
    {
      "cell_type": "code",
      "execution_count": null,
      "metadata": {
        "id": "Qu-nszRXeyxQ",
        "colab": {
          "base_uri": "https://localhost:8080/"
        },
        "outputId": "9840c6ef-9b00-4111-83e8-40950e6fa251"
      },
      "outputs": [
        {
          "output_type": "stream",
          "name": "stdout",
          "text": [
            "Requirement already satisfied: requests in /usr/local/lib/python3.10/dist-packages (2.31.0)\n",
            "Requirement already satisfied: beautifulsoup4 in /usr/local/lib/python3.10/dist-packages (4.12.3)\n",
            "Requirement already satisfied: charset-normalizer<4,>=2 in /usr/local/lib/python3.10/dist-packages (from requests) (3.3.2)\n",
            "Requirement already satisfied: idna<4,>=2.5 in /usr/local/lib/python3.10/dist-packages (from requests) (3.6)\n",
            "Requirement already satisfied: urllib3<3,>=1.21.1 in /usr/local/lib/python3.10/dist-packages (from requests) (2.0.7)\n",
            "Requirement already satisfied: certifi>=2017.4.17 in /usr/local/lib/python3.10/dist-packages (from requests) (2024.2.2)\n",
            "Requirement already satisfied: soupsieve>1.2 in /usr/local/lib/python3.10/dist-packages (from beautifulsoup4) (2.5)\n"
          ]
        }
      ],
      "source": [
        "pip install requests beautifulsoup4\n"
      ]
    },
    {
      "cell_type": "code",
      "source": [
        "!pip install firebase\n",
        "!pip install firebase-admin"
      ],
      "metadata": {
        "id": "fyPfzgti9aB2",
        "colab": {
          "base_uri": "https://localhost:8080/"
        },
        "outputId": "fe53e6f0-42be-480c-97ec-e4cbfa2b09a9"
      },
      "execution_count": null,
      "outputs": [
        {
          "output_type": "stream",
          "name": "stdout",
          "text": [
            "Collecting firebase\n",
            "  Downloading firebase-4.0.1-py3-none-any.whl (12 kB)\n",
            "Requirement already satisfied: requests in /usr/local/lib/python3.10/dist-packages (from firebase) (2.31.0)\n",
            "Requirement already satisfied: charset-normalizer<4,>=2 in /usr/local/lib/python3.10/dist-packages (from requests->firebase) (3.3.2)\n",
            "Requirement already satisfied: idna<4,>=2.5 in /usr/local/lib/python3.10/dist-packages (from requests->firebase) (3.6)\n",
            "Requirement already satisfied: urllib3<3,>=1.21.1 in /usr/local/lib/python3.10/dist-packages (from requests->firebase) (2.0.7)\n",
            "Requirement already satisfied: certifi>=2017.4.17 in /usr/local/lib/python3.10/dist-packages (from requests->firebase) (2024.2.2)\n",
            "Installing collected packages: firebase\n",
            "Successfully installed firebase-4.0.1\n",
            "Requirement already satisfied: firebase-admin in /usr/local/lib/python3.10/dist-packages (5.3.0)\n",
            "Requirement already satisfied: cachecontrol>=0.12.6 in /usr/local/lib/python3.10/dist-packages (from firebase-admin) (0.14.0)\n",
            "Requirement already satisfied: google-api-python-client>=1.7.8 in /usr/local/lib/python3.10/dist-packages (from firebase-admin) (2.84.0)\n",
            "Requirement already satisfied: google-cloud-storage>=1.37.1 in /usr/local/lib/python3.10/dist-packages (from firebase-admin) (2.8.0)\n",
            "Requirement already satisfied: google-api-core[grpc]<3.0.0dev,>=1.22.1 in /usr/local/lib/python3.10/dist-packages (from firebase-admin) (2.11.1)\n",
            "Requirement already satisfied: google-cloud-firestore>=2.1.0 in /usr/local/lib/python3.10/dist-packages (from firebase-admin) (2.11.1)\n",
            "Requirement already satisfied: requests>=2.16.0 in /usr/local/lib/python3.10/dist-packages (from cachecontrol>=0.12.6->firebase-admin) (2.31.0)\n",
            "Requirement already satisfied: msgpack<2.0.0,>=0.5.2 in /usr/local/lib/python3.10/dist-packages (from cachecontrol>=0.12.6->firebase-admin) (1.0.8)\n",
            "Requirement already satisfied: googleapis-common-protos<2.0.dev0,>=1.56.2 in /usr/local/lib/python3.10/dist-packages (from google-api-core[grpc]<3.0.0dev,>=1.22.1->firebase-admin) (1.62.0)\n",
            "Requirement already satisfied: protobuf!=3.20.0,!=3.20.1,!=4.21.0,!=4.21.1,!=4.21.2,!=4.21.3,!=4.21.4,!=4.21.5,<5.0.0.dev0,>=3.19.5 in /usr/local/lib/python3.10/dist-packages (from google-api-core[grpc]<3.0.0dev,>=1.22.1->firebase-admin) (3.20.3)\n",
            "Requirement already satisfied: google-auth<3.0.dev0,>=2.14.1 in /usr/local/lib/python3.10/dist-packages (from google-api-core[grpc]<3.0.0dev,>=1.22.1->firebase-admin) (2.27.0)\n",
            "Requirement already satisfied: grpcio<2.0dev,>=1.33.2 in /usr/local/lib/python3.10/dist-packages (from google-api-core[grpc]<3.0.0dev,>=1.22.1->firebase-admin) (1.62.0)\n",
            "Requirement already satisfied: grpcio-status<2.0.dev0,>=1.33.2 in /usr/local/lib/python3.10/dist-packages (from google-api-core[grpc]<3.0.0dev,>=1.22.1->firebase-admin) (1.48.2)\n",
            "Requirement already satisfied: httplib2<1dev,>=0.15.0 in /usr/local/lib/python3.10/dist-packages (from google-api-python-client>=1.7.8->firebase-admin) (0.22.0)\n",
            "Requirement already satisfied: google-auth-httplib2>=0.1.0 in /usr/local/lib/python3.10/dist-packages (from google-api-python-client>=1.7.8->firebase-admin) (0.1.1)\n",
            "Requirement already satisfied: uritemplate<5,>=3.0.1 in /usr/local/lib/python3.10/dist-packages (from google-api-python-client>=1.7.8->firebase-admin) (4.1.1)\n",
            "Requirement already satisfied: google-cloud-core<3.0.0dev,>=1.4.1 in /usr/local/lib/python3.10/dist-packages (from google-cloud-firestore>=2.1.0->firebase-admin) (2.3.3)\n",
            "Requirement already satisfied: proto-plus<2.0.0dev,>=1.22.0 in /usr/local/lib/python3.10/dist-packages (from google-cloud-firestore>=2.1.0->firebase-admin) (1.23.0)\n",
            "Requirement already satisfied: google-resumable-media>=2.3.2 in /usr/local/lib/python3.10/dist-packages (from google-cloud-storage>=1.37.1->firebase-admin) (2.7.0)\n",
            "Requirement already satisfied: cachetools<6.0,>=2.0.0 in /usr/local/lib/python3.10/dist-packages (from google-auth<3.0.dev0,>=2.14.1->google-api-core[grpc]<3.0.0dev,>=1.22.1->firebase-admin) (5.3.3)\n",
            "Requirement already satisfied: pyasn1-modules>=0.2.1 in /usr/local/lib/python3.10/dist-packages (from google-auth<3.0.dev0,>=2.14.1->google-api-core[grpc]<3.0.0dev,>=1.22.1->firebase-admin) (0.3.0)\n",
            "Requirement already satisfied: rsa<5,>=3.1.4 in /usr/local/lib/python3.10/dist-packages (from google-auth<3.0.dev0,>=2.14.1->google-api-core[grpc]<3.0.0dev,>=1.22.1->firebase-admin) (4.9)\n",
            "Requirement already satisfied: google-crc32c<2.0dev,>=1.0 in /usr/local/lib/python3.10/dist-packages (from google-resumable-media>=2.3.2->google-cloud-storage>=1.37.1->firebase-admin) (1.5.0)\n",
            "Requirement already satisfied: pyparsing!=3.0.0,!=3.0.1,!=3.0.2,!=3.0.3,<4,>=2.4.2 in /usr/local/lib/python3.10/dist-packages (from httplib2<1dev,>=0.15.0->google-api-python-client>=1.7.8->firebase-admin) (3.1.1)\n",
            "Requirement already satisfied: charset-normalizer<4,>=2 in /usr/local/lib/python3.10/dist-packages (from requests>=2.16.0->cachecontrol>=0.12.6->firebase-admin) (3.3.2)\n",
            "Requirement already satisfied: idna<4,>=2.5 in /usr/local/lib/python3.10/dist-packages (from requests>=2.16.0->cachecontrol>=0.12.6->firebase-admin) (3.6)\n",
            "Requirement already satisfied: urllib3<3,>=1.21.1 in /usr/local/lib/python3.10/dist-packages (from requests>=2.16.0->cachecontrol>=0.12.6->firebase-admin) (2.0.7)\n",
            "Requirement already satisfied: certifi>=2017.4.17 in /usr/local/lib/python3.10/dist-packages (from requests>=2.16.0->cachecontrol>=0.12.6->firebase-admin) (2024.2.2)\n",
            "Requirement already satisfied: pyasn1<0.6.0,>=0.4.6 in /usr/local/lib/python3.10/dist-packages (from pyasn1-modules>=0.2.1->google-auth<3.0.dev0,>=2.14.1->google-api-core[grpc]<3.0.0dev,>=1.22.1->firebase-admin) (0.5.1)\n"
          ]
        }
      ]
    },
    {
      "cell_type": "code",
      "execution_count": null,
      "metadata": {
        "id": "pMW9CHqNe4eZ"
      },
      "outputs": [],
      "source": [
        "from google.colab import drive, output\n",
        "from nltk.stem import PorterStemmer\n",
        "from bs4 import BeautifulSoup\n",
        "from collections import defaultdict\n",
        "from firebase_admin import credentials\n",
        "from firebase_admin import firestore\n",
        "import firebase_admin\n",
        "import requests\n",
        "import re\n",
        "import json\n",
        "import os"
      ]
    },
    {
      "cell_type": "code",
      "source": [
        "drive.mount('/content/drive')"
      ],
      "metadata": {
        "id": "t7M-PSVLZbNF",
        "colab": {
          "base_uri": "https://localhost:8080/"
        },
        "outputId": "59abf480-b6b5-48c1-932c-643eb45c8e46"
      },
      "execution_count": null,
      "outputs": [
        {
          "output_type": "stream",
          "name": "stdout",
          "text": [
            "Mounted at /content/drive\n"
          ]
        }
      ]
    },
    {
      "cell_type": "code",
      "execution_count": null,
      "metadata": {
        "id": "rn3hNM37pgNk"
      },
      "outputs": [],
      "source": [
        "# Function to extract text from a webpage\n",
        "def get_page_text(url):\n",
        "    try:\n",
        "        response = requests.get(url)\n",
        "        soup = BeautifulSoup(response.text, 'html.parser')\n",
        "        return soup.get_text()\n",
        "    except Exception as e:\n",
        "        return \"\"\n"
      ]
    },
    {
      "cell_type": "code",
      "execution_count": null,
      "metadata": {
        "id": "L2vktA22phqW"
      },
      "outputs": [],
      "source": [
        "# Function to extract links from a webpage\n",
        "def get_links(url):\n",
        "    try:\n",
        "        response = requests.get(url)\n",
        "        soup = BeautifulSoup(response.text, 'html.parser')\n",
        "        links = [link.get('href') for link in soup.find_all('a', href=True)]\n",
        "        return links\n",
        "    except Exception as e:\n",
        "        print(\"Error:\", e)\n",
        "        return []"
      ]
    },
    {
      "cell_type": "code",
      "execution_count": null,
      "metadata": {
        "id": "veWH8BZgpk8l"
      },
      "outputs": [],
      "source": [
        "def remove_stop_words(text):\n",
        "  stop_words = {'a','as','ha','thi','an', 'the', 'and', 'is', 'are', 'or', 'in', 'on', 'at','skip','-','them','they','than','she',',','.','&','for'}\n",
        "  words = [word for word in text if word.lower() not in stop_words]\n",
        "  return words"
      ]
    },
    {
      "cell_type": "code",
      "execution_count": null,
      "metadata": {
        "id": "sbxUcYpEn2bl"
      },
      "outputs": [],
      "source": [
        "def trim_words(words):\n",
        "    cleaned_words = [word.rstrip(\",.\\\\/\") for word in words]\n",
        "    return cleaned_words"
      ]
    },
    {
      "cell_type": "code",
      "source": [
        "def apply_stemming(words):\n",
        "    stemmer = PorterStemmer()\n",
        "    stemmed_words = [stemmer.stem(word) for word in words]\n",
        "    return stemmed_words"
      ],
      "metadata": {
        "id": "PB0kfsUP5gs4"
      },
      "execution_count": null,
      "outputs": []
    },
    {
      "cell_type": "code",
      "execution_count": null,
      "metadata": {
        "id": "btytvwAQe3NN"
      },
      "outputs": [],
      "source": [
        "# Function to create index database\n",
        "def create_index(url):\n",
        "    index = defaultdict(list)\n",
        "    visited = set()\n",
        "    queue = [url]\n",
        "    loop = 0\n",
        "    while queue and loop < 40:\n",
        "        loop+=1\n",
        "        current_url = queue.pop(0)\n",
        "        if current_url in visited:\n",
        "            continue\n",
        "\n",
        "        visited.add(current_url)\n",
        "        text = get_page_text(current_url)\n",
        "        words = remove_stop_words(text.split())\n",
        "        words = trim_words(words)\n",
        "        words = apply_stemming(words)\n",
        "\n",
        "        for word in words:\n",
        "            index[word].append(current_url)\n",
        "\n",
        "        links = get_links(current_url)\n",
        "        for link in links:\n",
        "            if link.startswith(url) and link not in visited:\n",
        "                queue.append(link)\n",
        "    return index\n"
      ]
    },
    {
      "cell_type": "code",
      "execution_count": null,
      "metadata": {
        "id": "3xis_RWStxOu"
      },
      "outputs": [],
      "source": [
        "def update_dict(word, link):\n",
        "    global link_ids\n",
        "    if link not in link_ids:\n",
        "        link_ids[link] = len(link_ids) + 1\n",
        "    link_id = link_ids[link]\n",
        "    if link not in index[word]:\n",
        "        index[word][link] = {'id': link_id, 'counter': 0}\n",
        "    index[word][link]['counter'] += 1"
      ]
    },
    {
      "cell_type": "code",
      "source": [
        "def create_ranked_words(index):\n",
        "    sorted_dict = {}\n",
        "    counter_for_each_word = 0\n",
        "    for word, links in index.items():\n",
        "        for link in links.keys():\n",
        "            counter_for_each_word += index[word][link]['counter']\n",
        "        sorted_dict[word] = counter_for_each_word\n",
        "        counter_for_each_word = 0\n",
        "    sorted_dict = {k: v for k, v in sorted(sorted_dict.items(), key=lambda item: item[1], reverse=True)}\n",
        "    ranked_dict = {}\n",
        "    rank = 1\n",
        "    for word, counter in sorted_dict.items():\n",
        "        ranked_dict[word] = {'rank': rank, 'counter': counter}\n",
        "        rank += 1\n",
        "    return ranked_dict"
      ],
      "metadata": {
        "id": "izeILoTI5tCA"
      },
      "execution_count": null,
      "outputs": []
    },
    {
      "cell_type": "code",
      "source": [
        "def create_data_for_db(final_index):\n",
        "    data_list = []\n",
        "    for word, doc_ids in final_index.items():\n",
        "        term_data = {\n",
        "            'term': word,\n",
        "            'DocId': doc_ids\n",
        "        }\n",
        "        data_list.append(term_data)\n",
        "    return data_list"
      ],
      "metadata": {
        "id": "WV_K6sn95xK1"
      },
      "execution_count": null,
      "outputs": []
    },
    {
      "cell_type": "code",
      "source": [
        "def generate_json_file(data_list, is_desktop):\n",
        "    if is_desktop:\n",
        "      filepath = os.path.join(os.path.dirname(os.path.abspath(__file__)), \"indexDb.json\")\n",
        "    else:\n",
        "      filepath = \"/content/drive/My Drive/CloudComputing/project/indexDb.json\"\n",
        "    with open(filepath, \"w\") as json_file:\n",
        "        json.dump(data_list, json_file, indent = 2)"
      ],
      "metadata": {
        "id": "xaHHTntkxRUl"
      },
      "execution_count": null,
      "outputs": []
    },
    {
      "cell_type": "code",
      "source": [
        "def print_collection_from_db(db, collection_name):\n",
        "    collection_ref = db.collection(collection_name)\n",
        "    docs = collection_ref.get()\n",
        "    i = 0\n",
        "    for doc in docs:\n",
        "        term = doc.to_dict()['term']\n",
        "        print(f\"{i} -- Document ID: {doc.id}, Data: {term}\")\n",
        "        i += 1"
      ],
      "metadata": {
        "id": "Eyb0n31qyJjH"
      },
      "execution_count": null,
      "outputs": []
    },
    {
      "cell_type": "code",
      "source": [
        "def upload_to_db(db, collection_name):\n",
        "  try:\n",
        "    for data in data_list:\n",
        "        doc_ref = db.collection(collection_name).add(data)\n",
        "    print(\"All documents uploaded successfully.\")\n",
        "  except Exception as e:\n",
        "      print(\"Error:\", e)"
      ],
      "metadata": {
        "id": "CBq_nphZyhln"
      },
      "execution_count": null,
      "outputs": []
    },
    {
      "cell_type": "code",
      "execution_count": null,
      "metadata": {
        "id": "J6h4bYN8zJZQ",
        "colab": {
          "base_uri": "https://localhost:8080/"
        },
        "outputId": "1b032146-c435-4639-8e45-31b289e0e17f"
      },
      "outputs": [
        {
          "output_type": "stream",
          "name": "stdout",
          "text": [
            "Error: Exceeded 30 redirects.\n",
            "Error: Exceeded 30 redirects.\n",
            "Error: Exceeded 30 redirects.\n",
            "Error: Exceeded 30 redirects.\n",
            "Error: Exceeded 30 redirects.\n",
            "Error: Exceeded 30 redirects.\n",
            "Error: Exceeded 30 redirects.\n",
            "Error: Exceeded 30 redirects.\n",
            "0 -- Document ID: 0T4jk18lvS0dmor7kkEo, Data: triallearn\n",
            "1 -- Document ID: 0dC3yFw12YLEqBoyIxaC, Data: buy\n",
            "2 -- Document ID: 0rOjcv363Sdx7bxHCmXz, Data: from\n",
            "3 -- Document ID: 14q8ET1SDE7sGorNMlJH, Data: organ\n",
            "4 -- Document ID: 1OMqSz8Oy3XUhnh2eDe7, Data: sellr\n",
            "5 -- Document ID: 239jIl6zY4B8DRyc8od2, Data: secur\n",
            "6 -- Document ID: 2G9rtYGHlieDnuJOflVa, Data: across\n",
            "7 -- Document ID: 2XtPvNMhEf42gc6jqrfb, Data: kubernet\n",
            "8 -- Document ID: 37PzlFuvqdnSJ8DaMlQa, Data: how\n",
            "9 -- Document ID: 3JlA8NiuJus3xFV9nlux, Data: technolog\n",
            "10 -- Document ID: 3PUtUH4fOrAfqNvfzPjm, Data: build\n",
            "11 -- Document ID: 49ptfniPoRUQURAU8Kug, Data: i\n",
            "12 -- Document ID: 4kd7oscDguWFo1XAx1FM, Data: make\n",
            "13 -- Document ID: 5iIeVk2PXs2CbEfJl1sH, Data: managementr\n",
            "14 -- Document ID: 5yndNLJlUQcJnN2hIut3, Data: servic\n",
            "15 -- Document ID: 5zueNX9sfVLPFGNcm95N, Data: hubinteract\n",
            "16 -- Document ID: 609wbzfpwg7SMBUa7ZLy, Data: by\n",
            "17 -- Document ID: 60gLRy4xWThsl7gIfyK2, Data: contain\n",
            "18 -- Document ID: 695WTouVyvzM1DjRUnns, Data: it\n",
            "19 -- Document ID: 6TvbgolCNah5NVVqtNVq, Data: open\n",
            "20 -- Document ID: 7OmxvmYHoOHfKX9WsX6V, Data: help\n",
            "21 -- Document ID: 7UU5TYjfv2k14KIaXgv2, Data: hat\n",
            "22 -- Document ID: 7atQCKzx04bp6eYpkVzX, Data: salesstart\n",
            "23 -- Document ID: 7qN6FkRLhFC4xHITg27d, Data: learn\n",
            "24 -- Document ID: 88RhY85z8H1jhtQkkoJl, Data: what\n",
            "25 -- Document ID: 9eeYhvzVjMJIy2UtlMxY, Data: administr\n",
            "26 -- Document ID: 9tEBTn046EyqS8zfZLXW, Data: communitiesansiblefor\n",
            "27 -- Document ID: AFhMrGDZQn2gOJihL27B, Data: partnerspartn\n",
            "28 -- Document ID: AKC66mChRvlxgbLs9ksA, Data: cloud\n",
            "29 -- Document ID: Ab2PIv9cj4LKCkbqsMp4, Data: developershybrid\n",
            "30 -- Document ID: AgHjpy31yCBmx90mNNk9, Data: our\n",
            "31 -- Document ID: ArpIYIwJiBV6GB4ZLs0e, Data: linux\n",
            "32 -- Document ID: D3LEriKLPYb4RRf82c7G, Data: casessubscript\n",
            "33 -- Document ID: EkvwurRuj9ohCSoCdLZf, Data: ecosystem\n",
            "34 -- Document ID: FjGVhHX6ssIZqaGLpWhS, Data: deploy\n",
            "35 -- Document ID: Gh5YI5Zf2Iyuq4rkKrHu, Data: product\n",
            "36 -- Document ID: HABy5M7PHjlosoOFNExT, Data: us\n",
            "37 -- Document ID: Hq5pzccvHh9FOpxj7oG0, Data: catalogfind\n",
            "38 -- Document ID: Icpf9w92GvVDm6za4O8m, Data: openshift\n",
            "39 -- Document ID: J64cXgSh68aia5WaDJSB, Data: modern\n",
            "40 -- Document ID: JaqOV8u3IOx6ScmI0AE5, Data: labslearn\n",
            "41 -- Document ID: K7MQftrebmzf8ZqaYUir, Data: supportdocumentationsupport\n",
            "42 -- Document ID: LpYYu15uyhVkT2u2zq1A, Data: tri\n",
            "43 -- Document ID: Me9pEgKs33feYDDjQnrn, Data: applic\n",
            "44 -- Document ID: MgrLxl9GlUUBglaemRrV, Data: autom\n",
            "45 -- Document ID: NuGKJo2ik6RSCjdKMgOg, Data: integr\n",
            "46 -- Document ID: OqBFI5jH6lHdvaV9n68E, Data: data\n",
            "47 -- Document ID: OsVWDDqMbw8V0i5NddGT, Data: platform\n",
            "48 -- Document ID: PY75aLqBC4CVmkck3stY, Data: support\n",
            "49 -- Document ID: PaEJIc0qYjJBXUmWL4Mj, Data: red\n",
            "50 -- Document ID: PooHtqsZlfAs798m9YwN, Data: can\n",
            "51 -- Document ID: Q7hDRgsDOANl7Qr2DtBX, Data: select\n",
            "52 -- Document ID: QC55fnlygHxMuY8cyGU2, Data: engin\n",
            "53 -- Document ID: QKKMjlKcrvtdJUhpYmbe, Data: of\n",
            "54 -- Document ID: QuftN4bfW0GrGMMHLt9J, Data: new\n",
            "55 -- Document ID: RnrUz6mujoFjQmHBU9pI, Data: use\n",
            "56 -- Document ID: TlwJU6wuz2c7SK2ryucz, Data: customerscustom\n",
            "57 -- Document ID: TuVelM8U5RszNobpd13B, Data: innov\n",
            "58 -- Document ID: VK10gKyaJShJcURv38PA, Data: trial\n",
            "59 -- Document ID: Waqz5UcSYnYtgq1olomw, Data: foundat\n",
            "60 -- Document ID: XOl0Io5oELvnWEvzC9C0, Data: comput\n",
            "61 -- Document ID: YVd3X7vqpW4oRk6NAnMC, Data: partner\n",
            "62 -- Document ID: YiMcJV6afuRuigaqH7U6, Data: resourc\n",
            "63 -- Document ID: ZpYRJgNGz3UvskywYm2u, Data: success\n",
            "64 -- Document ID: amj0qJG7AisX75DtQCRV, Data: contact\n",
            "65 -- Document ID: anwoDTNC6FbeZ3lqlDUT, Data: partnerfor\n",
            "66 -- Document ID: ar9QSaMMFxfoP0ckOJL6, Data: tvopen\n",
            "67 -- Document ID: bIYN5NHFkgN23At7IDEb, Data: specialist\n",
            "68 -- Document ID: c6oOWie2lj4HYZIlfJqk, Data: about\n",
            "69 -- Document ID: dpmcte7B08jz2u866SK0, Data: need\n",
            "70 -- Document ID: e1Aym2dUAGD6l08AgCW1, Data: administratorsfor\n",
            "71 -- Document ID: eP6H3IJmABxfne0xSOTM, Data: supportbecom\n",
            "72 -- Document ID: g2R7lDkG8ib63ij0hfr1, Data: system\n",
            "73 -- Document ID: gP9qpS2ioKXrWG6Cjyv8, Data: edg\n",
            "74 -- Document ID: gb5ndXxMzgrTIngZQq49, Data: certifi\n",
            "75 -- Document ID: hA7ivSxc6cie5Xt2RSgF, Data: that\n",
            "76 -- Document ID: hjOYmqtsQLh2QYsY84fw, Data: with\n",
            "77 -- Document ID: i8EzKeHVNhh4PeOykR5B, Data: legal\n",
            "78 -- Document ID: iAf3uKZeXRqZwiHFYiuh, Data: enterpris\n",
            "79 -- Document ID: ikW1e9PLyIHJdpXg8GSf, Data: vs\n",
            "80 -- Document ID: iom0gHEJRnKi0WK7dinz, Data: hybrid\n",
            "81 -- Document ID: j5IMjpSrVtVXeYMjWe1O, Data: manag\n",
            "82 -- Document ID: j9hKhp0Uubc58SDoVovq, Data: your\n",
            "83 -- Document ID: jlzq9KAwUaLmWhidoTRa, Data: privaci\n",
            "84 -- Document ID: juld7kD70Fs7qshgBKks, Data: storecontact\n",
            "85 -- Document ID: kYnkLtT41UiIJajj7r2F, Data: you\n",
            "86 -- Document ID: lvl9lk2Kod8kOgTqDhf8, Data: sourc\n",
            "87 -- Document ID: mMnF1iYiuFGZrezYFhqY, Data: environ\n",
            "88 -- Document ID: mi1EfnPNkjsA7A2s3sQy, Data: more\n",
            "89 -- Document ID: moWi4u50RfSD7ugocRUe, Data: work\n",
            "90 -- Document ID: oBeKf1jv0Q0Nv4GEASwD, Data: marketplac\n",
            "91 -- Document ID: oLNUlRWxjqy3qXPaBPnY, Data: solut\n",
            "92 -- Document ID: oyLdVqitxtZsQ2ZUBdHR, Data: scale\n",
            "93 -- Document ID: pnMN4Fy3E22OIJtvjrM4, Data: access\n",
            "94 -- Document ID: rAHoAdWeucPN4TvSCD7U, Data: api\n",
            "95 -- Document ID: rCY0XyL8w3EqJPUvsIbB, Data: ansibl\n",
            "96 -- Document ID: rN0HSqppgGhzDcP6j82J, Data: resourcestrain\n",
            "97 -- Document ID: rRlxeAlowovUblxRDRdK, Data: 2024\n",
            "98 -- Document ID: rbxzwSboO7a332Pk3U9m, Data: all\n",
            "99 -- Document ID: s4Ts6Q4pixk6LwMC93up, Data: oper\n",
            "100 -- Document ID: saNU82G4ygQMcwEDAcVb, Data: custom\n",
            "101 -- Document ID: w0hNmzPCCMRkNJZrjMUc, Data: communityr\n",
            "102 -- Document ID: w8X73wapRQy0nAlRVkDl, Data: portalpartn\n",
            "103 -- Document ID: weJG2DLuNx6mg48npllK, Data: we\n",
            "104 -- Document ID: xAzuBogmkgiQOgVyfSwz, Data: to\n",
            "105 -- Document ID: xNIrcuUfaJYIfZf8a0Rn, Data: develop\n",
            "106 -- Document ID: xVa7UtohRllpupRsuGmb, Data: certif\n",
            "107 -- Document ID: ygqVsJ8k2yfpWths35Sc, Data: network\n",
            "108 -- Document ID: zad1TbggquClQLSMw6F1, Data: provid\n",
            "109 -- Document ID: zyJYIIeJbDkszty44DDd, Data: infrastructur\n"
          ]
        }
      ],
      "source": [
        "website_url = 'https://www.redhat.com/en'\n",
        "db_collection_name = \"PantherIndex\"\n",
        "\n",
        "link_ids = {}\n",
        "index_db = create_index(website_url)\n",
        "index = defaultdict(dict)\n",
        "\n",
        "for word, links in index_db.items():\n",
        "    for link in links:\n",
        "        update_dict(word, link)\n",
        "\n",
        "ranked_words = create_ranked_words(index)\n",
        "chosen_words = list(ranked_words.keys())[:110]\n",
        "final_index = {word:index[word] for word in chosen_words}\n",
        "data_list = create_data_for_db(final_index)\n",
        "\n",
        "cred = credentials.Certificate(\"/content/drive/My Drive/CloudComputing/project/sak.json\")\n",
        "if not firebase_admin._apps:\n",
        "  firebase_admin.initialize_app(cred)\n",
        "db = firestore.client()\n",
        "\n",
        "print_collection_from_db(db, db_collection_name)\n",
        "\n",
        "\n"
      ]
    },
    {
      "cell_type": "markdown",
      "source": [
        "Assingmnent 7 - ChatBot (**not for assingment 2**)"
      ],
      "metadata": {
        "id": "tz8OjZhOApZG"
      }
    },
    {
      "cell_type": "code",
      "source": [
        "def getLinkFromString(w,linkID):\n",
        "  for word, links in final_index.items():\n",
        "    if(word == w):\n",
        "      return list(links.keys())[linkID]\n",
        "\n",
        "\n",
        "!pip install nltk\n",
        "\n",
        "import nltk\n",
        "from nltk.chat.util import Chat, reflections\n",
        "\n",
        "cloud_explanation = \"\"\"Private Cloud: A private cloud is a cloud computing environment that is dedicated solely to one organization.\n",
        "It is usually managed either by the organization itself or by a third-party service provider. The infrastructure and services are not shared\n",
        "with other organizations, offering greater control, security, and customization options. Private clouds are typically used by large enterprises\n",
        "or organizations with specific compliance or security requirements.\n",
        "Public Cloud: A public cloud is a cloud computing environment that is hosted and managed by a third-party service provider and made available\n",
        "to multiple organizations or individuals over the internet. The infrastructure and resources are shared among multiple users,\n",
        " offering scalability, flexibility, and cost-effectiveness. Public clouds are accessible to anyone who wants to use them and are often used\n",
        " for general-purpose computing needs such as web hosting, development, and testing.\n",
        "Hybrid Cloud: A hybrid cloud is a computing environment that combines elements of both private and public clouds. It allows organizations\n",
        " to leverage the benefits of both environments by integrating on-premises infrastructure with public cloud resources. This integration enables\n",
        " data and applications to be dynamically moved between the two environments based on changing workload demands, security requirements, and cost\n",
        " considerations. Hybrid clouds offer greater flexibility, scalability, and customization options compared to using either private or public clouds alone.\n",
        " They are commonly used by organizations that want to retain control over sensitive data while taking advantage of the scalability and cost-effectiveness of\n",
        " public cloud services.\"\"\"\n",
        "\n",
        "\n",
        "# Download necessary NLTK data\n",
        "nltk.download('punkt')\n",
        "nltk.download('wordnet')\n",
        "\n",
        "# Define some patterns and responses\n",
        "patterns = [\n",
        "    (r'hi|hello|hey', ['Hello!', 'Hi there!', 'Hey!']),\n",
        "    (r'how are you?', ['I\\'m good, thank you!', 'I\\'m doing well, thanks for asking.']),\n",
        "    (r'what is your name?', ['You can call me ChatGPT.', 'I go by the name ChatGPT.']),\n",
        "    (r'your name (.*)', ['You can call me ChatGPT.', 'I go by the name ChatGPT.']),\n",
        "    (r'give me good clud website', ['Sure, here: www.redhat.com', 'ofCourse: you can go to amazon, which works with RedHat website check both']),\n",
        "    (r'What kinds of clouds are there ?', ['There are three main kinds of clouds: private, public, and hybrid would you like me to explain further? ', 'public, hybrid, private - in secured order']),\n",
        "    (r'(.*)kinds of clouds(.*)?(.*)', ['There are three main kinds of clouds: private, public, and hybrid would you like me to explain further? ', 'public, hybrid, private - in secured order']),\n",
        "    (r'please explain further about clouds(.*)', [cloud_explanation, \"for the moment I too tired, may be later I will explain. You should've listen in class \"]),\n",
        "    (r'D|d(escribe) the presentor woman of R|r(ed)H|h(at)(.*)', [\"she is taller than average american probably \", \"She wears Pink\"]),\n",
        "    # You can add more patterns and responses here\n",
        "]\n",
        "\n",
        "for word, links in final_index.items():\n",
        "  answers = []\n",
        "  for i in range(len(links)):\n",
        "    answers.append(getLinkFromString(word,i))\n",
        "  to_append = ( r'(.*)' + word + r'(.*)', answers)\n",
        "  patterns.append(to_append)\n",
        "\n",
        "# Create a chatbot\n",
        "chatbot = Chat(patterns, reflections)\n",
        "\n",
        "# Start the conversation\n",
        "print(\"Hello! I'm ChatGPT. How can I help you today?\")\n",
        "while True:\n",
        "    user_input = input(\"You: \")\n",
        "    response = chatbot.respond(user_input)\n",
        "    print(\"ChatGPT:\", response)"
      ],
      "metadata": {
        "colab": {
          "base_uri": "https://localhost:8080/"
        },
        "id": "IN4h72EnCQFL",
        "outputId": "354739be-39c9-4129-b05e-5f55a3cdea63"
      },
      "execution_count": null,
      "outputs": [
        {
          "output_type": "stream",
          "name": "stdout",
          "text": [
            "Requirement already satisfied: nltk in /usr/local/lib/python3.10/dist-packages (3.8.1)\n",
            "Requirement already satisfied: click in /usr/local/lib/python3.10/dist-packages (from nltk) (8.1.7)\n",
            "Requirement already satisfied: joblib in /usr/local/lib/python3.10/dist-packages (from nltk) (1.3.2)\n",
            "Requirement already satisfied: regex>=2021.8.3 in /usr/local/lib/python3.10/dist-packages (from nltk) (2023.12.25)\n",
            "Requirement already satisfied: tqdm in /usr/local/lib/python3.10/dist-packages (from nltk) (4.66.2)\n"
          ]
        },
        {
          "output_type": "stream",
          "name": "stderr",
          "text": [
            "[nltk_data] Downloading package punkt to /root/nltk_data...\n",
            "[nltk_data]   Unzipping tokenizers/punkt.zip.\n",
            "[nltk_data] Downloading package wordnet to /root/nltk_data...\n"
          ]
        },
        {
          "output_type": "stream",
          "name": "stdout",
          "text": [
            "Hello! I'm ChatGPT. How can I help you today?\n",
            "You: df fsfdfsdf dsfd hat dsfdfds\n",
            "ChatGPT: she is taller than average american probably \n",
            "You: fgfg hat dfdf fd\n",
            "ChatGPT: https://www.redhat.com/en/store\n",
            "You: fgfg hat dfsdsd\n",
            "ChatGPT: https://www.redhat.com/en/topics/devops/what-is-devsecops\n"
          ]
        }
      ]
    }
  ],
  "metadata": {
    "colab": {
      "provenance": [],
      "include_colab_link": true
    },
    "kernelspec": {
      "display_name": "Python 3",
      "name": "python3"
    },
    "language_info": {
      "name": "python"
    }
  },
  "nbformat": 4,
  "nbformat_minor": 0
}