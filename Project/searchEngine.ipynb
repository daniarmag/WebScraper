{
  "cells": [
    {
      "cell_type": "markdown",
      "metadata": {
        "id": "view-in-github",
        "colab_type": "text"
      },
      "source": [
        "<a href=\"https://colab.research.google.com/github/ndvp39/CloudComputing-tirgul/blob/main/Project/searchEngine.ipynb\" target=\"_parent\"><img src=\"https://colab.research.google.com/assets/colab-badge.svg\" alt=\"Open In Colab\"/></a>"
      ]
    },
    {
      "cell_type": "code",
      "source": [
        "!pip install requests beautifulsoup4\n",
        "!pip install firebase\n",
        "!pip install firebase-admin\n",
        "!pip install nltk"
      ],
      "metadata": {
        "colab": {
          "base_uri": "https://localhost:8080/"
        },
        "id": "ea1kjBb4GftH",
        "outputId": "ee105497-1660-449c-8d7e-35d14f8ccc01"
      },
      "execution_count": 399,
      "outputs": [
        {
          "output_type": "stream",
          "name": "stdout",
          "text": [
            "Requirement already satisfied: requests in /usr/local/lib/python3.10/dist-packages (2.31.0)\n",
            "Requirement already satisfied: beautifulsoup4 in /usr/local/lib/python3.10/dist-packages (4.12.3)\n",
            "Requirement already satisfied: charset-normalizer<4,>=2 in /usr/local/lib/python3.10/dist-packages (from requests) (3.3.2)\n",
            "Requirement already satisfied: idna<4,>=2.5 in /usr/local/lib/python3.10/dist-packages (from requests) (3.6)\n",
            "Requirement already satisfied: urllib3<3,>=1.21.1 in /usr/local/lib/python3.10/dist-packages (from requests) (2.0.7)\n",
            "Requirement already satisfied: certifi>=2017.4.17 in /usr/local/lib/python3.10/dist-packages (from requests) (2024.2.2)\n",
            "Requirement already satisfied: soupsieve>1.2 in /usr/local/lib/python3.10/dist-packages (from beautifulsoup4) (2.5)\n",
            "Requirement already satisfied: firebase in /usr/local/lib/python3.10/dist-packages (4.0.1)\n",
            "Requirement already satisfied: requests in /usr/local/lib/python3.10/dist-packages (from firebase) (2.31.0)\n",
            "Requirement already satisfied: charset-normalizer<4,>=2 in /usr/local/lib/python3.10/dist-packages (from requests->firebase) (3.3.2)\n",
            "Requirement already satisfied: idna<4,>=2.5 in /usr/local/lib/python3.10/dist-packages (from requests->firebase) (3.6)\n",
            "Requirement already satisfied: urllib3<3,>=1.21.1 in /usr/local/lib/python3.10/dist-packages (from requests->firebase) (2.0.7)\n",
            "Requirement already satisfied: certifi>=2017.4.17 in /usr/local/lib/python3.10/dist-packages (from requests->firebase) (2024.2.2)\n",
            "Requirement already satisfied: firebase-admin in /usr/local/lib/python3.10/dist-packages (5.3.0)\n",
            "Requirement already satisfied: cachecontrol>=0.12.6 in /usr/local/lib/python3.10/dist-packages (from firebase-admin) (0.14.0)\n",
            "Requirement already satisfied: google-api-python-client>=1.7.8 in /usr/local/lib/python3.10/dist-packages (from firebase-admin) (2.84.0)\n",
            "Requirement already satisfied: google-cloud-storage>=1.37.1 in /usr/local/lib/python3.10/dist-packages (from firebase-admin) (2.8.0)\n",
            "Requirement already satisfied: google-api-core[grpc]<3.0.0dev,>=1.22.1 in /usr/local/lib/python3.10/dist-packages (from firebase-admin) (2.11.1)\n",
            "Requirement already satisfied: google-cloud-firestore>=2.1.0 in /usr/local/lib/python3.10/dist-packages (from firebase-admin) (2.11.1)\n",
            "Requirement already satisfied: requests>=2.16.0 in /usr/local/lib/python3.10/dist-packages (from cachecontrol>=0.12.6->firebase-admin) (2.31.0)\n",
            "Requirement already satisfied: msgpack<2.0.0,>=0.5.2 in /usr/local/lib/python3.10/dist-packages (from cachecontrol>=0.12.6->firebase-admin) (1.0.8)\n",
            "Requirement already satisfied: googleapis-common-protos<2.0.dev0,>=1.56.2 in /usr/local/lib/python3.10/dist-packages (from google-api-core[grpc]<3.0.0dev,>=1.22.1->firebase-admin) (1.63.0)\n",
            "Requirement already satisfied: protobuf!=3.20.0,!=3.20.1,!=4.21.0,!=4.21.1,!=4.21.2,!=4.21.3,!=4.21.4,!=4.21.5,<5.0.0.dev0,>=3.19.5 in /usr/local/lib/python3.10/dist-packages (from google-api-core[grpc]<3.0.0dev,>=1.22.1->firebase-admin) (3.20.3)\n",
            "Requirement already satisfied: google-auth<3.0.dev0,>=2.14.1 in /usr/local/lib/python3.10/dist-packages (from google-api-core[grpc]<3.0.0dev,>=1.22.1->firebase-admin) (2.27.0)\n",
            "Requirement already satisfied: grpcio<2.0dev,>=1.33.2 in /usr/local/lib/python3.10/dist-packages (from google-api-core[grpc]<3.0.0dev,>=1.22.1->firebase-admin) (1.62.1)\n",
            "Requirement already satisfied: grpcio-status<2.0.dev0,>=1.33.2 in /usr/local/lib/python3.10/dist-packages (from google-api-core[grpc]<3.0.0dev,>=1.22.1->firebase-admin) (1.48.2)\n",
            "Requirement already satisfied: httplib2<1dev,>=0.15.0 in /usr/local/lib/python3.10/dist-packages (from google-api-python-client>=1.7.8->firebase-admin) (0.22.0)\n",
            "Requirement already satisfied: google-auth-httplib2>=0.1.0 in /usr/local/lib/python3.10/dist-packages (from google-api-python-client>=1.7.8->firebase-admin) (0.1.1)\n",
            "Requirement already satisfied: uritemplate<5,>=3.0.1 in /usr/local/lib/python3.10/dist-packages (from google-api-python-client>=1.7.8->firebase-admin) (4.1.1)\n",
            "Requirement already satisfied: google-cloud-core<3.0.0dev,>=1.4.1 in /usr/local/lib/python3.10/dist-packages (from google-cloud-firestore>=2.1.0->firebase-admin) (2.3.3)\n",
            "Requirement already satisfied: proto-plus<2.0.0dev,>=1.22.0 in /usr/local/lib/python3.10/dist-packages (from google-cloud-firestore>=2.1.0->firebase-admin) (1.23.0)\n",
            "Requirement already satisfied: google-resumable-media>=2.3.2 in /usr/local/lib/python3.10/dist-packages (from google-cloud-storage>=1.37.1->firebase-admin) (2.7.0)\n",
            "Requirement already satisfied: cachetools<6.0,>=2.0.0 in /usr/local/lib/python3.10/dist-packages (from google-auth<3.0.dev0,>=2.14.1->google-api-core[grpc]<3.0.0dev,>=1.22.1->firebase-admin) (5.3.3)\n",
            "Requirement already satisfied: pyasn1-modules>=0.2.1 in /usr/local/lib/python3.10/dist-packages (from google-auth<3.0.dev0,>=2.14.1->google-api-core[grpc]<3.0.0dev,>=1.22.1->firebase-admin) (0.3.0)\n",
            "Requirement already satisfied: rsa<5,>=3.1.4 in /usr/local/lib/python3.10/dist-packages (from google-auth<3.0.dev0,>=2.14.1->google-api-core[grpc]<3.0.0dev,>=1.22.1->firebase-admin) (4.9)\n",
            "Requirement already satisfied: google-crc32c<2.0dev,>=1.0 in /usr/local/lib/python3.10/dist-packages (from google-resumable-media>=2.3.2->google-cloud-storage>=1.37.1->firebase-admin) (1.5.0)\n",
            "Requirement already satisfied: pyparsing!=3.0.0,!=3.0.1,!=3.0.2,!=3.0.3,<4,>=2.4.2 in /usr/local/lib/python3.10/dist-packages (from httplib2<1dev,>=0.15.0->google-api-python-client>=1.7.8->firebase-admin) (3.1.2)\n",
            "Requirement already satisfied: charset-normalizer<4,>=2 in /usr/local/lib/python3.10/dist-packages (from requests>=2.16.0->cachecontrol>=0.12.6->firebase-admin) (3.3.2)\n",
            "Requirement already satisfied: idna<4,>=2.5 in /usr/local/lib/python3.10/dist-packages (from requests>=2.16.0->cachecontrol>=0.12.6->firebase-admin) (3.6)\n",
            "Requirement already satisfied: urllib3<3,>=1.21.1 in /usr/local/lib/python3.10/dist-packages (from requests>=2.16.0->cachecontrol>=0.12.6->firebase-admin) (2.0.7)\n",
            "Requirement already satisfied: certifi>=2017.4.17 in /usr/local/lib/python3.10/dist-packages (from requests>=2.16.0->cachecontrol>=0.12.6->firebase-admin) (2024.2.2)\n",
            "Requirement already satisfied: pyasn1<0.6.0,>=0.4.6 in /usr/local/lib/python3.10/dist-packages (from pyasn1-modules>=0.2.1->google-auth<3.0.dev0,>=2.14.1->google-api-core[grpc]<3.0.0dev,>=1.22.1->firebase-admin) (0.5.1)\n",
            "Requirement already satisfied: nltk in /usr/local/lib/python3.10/dist-packages (3.8.1)\n",
            "Requirement already satisfied: click in /usr/local/lib/python3.10/dist-packages (from nltk) (8.1.7)\n",
            "Requirement already satisfied: joblib in /usr/local/lib/python3.10/dist-packages (from nltk) (1.3.2)\n",
            "Requirement already satisfied: regex>=2021.8.3 in /usr/local/lib/python3.10/dist-packages (from nltk) (2023.12.25)\n",
            "Requirement already satisfied: tqdm in /usr/local/lib/python3.10/dist-packages (from nltk) (4.66.2)\n"
          ]
        }
      ]
    },
    {
      "cell_type": "code",
      "source": [
        "from google.colab import drive, output\n",
        "from IPython.display import HTML, Javascript\n",
        "from IPython.display import clear_output\n",
        "from firebase_admin import credentials\n",
        "from firebase_admin import firestore\n",
        "import firebase_admin\n",
        "import IPython\n",
        "import random\n",
        "import json\n",
        "import os\n",
        "from nltk.stem import PorterStemmer\n",
        "import re\n",
        "import requests\n",
        "from bs4 import BeautifulSoup\n",
        "import nltk\n",
        "from nltk.chat.util import Chat, reflections\n",
        "\n",
        "# Download necessary NLTK data\n",
        "nltk.download('punkt')\n",
        "nltk.download('wordnet')"
      ],
      "metadata": {
        "colab": {
          "base_uri": "https://localhost:8080/"
        },
        "id": "PH8cmdPQGkbY",
        "outputId": "b4518be2-d5cd-40ab-da78-4ec8ebafb830"
      },
      "execution_count": 400,
      "outputs": [
        {
          "output_type": "stream",
          "name": "stderr",
          "text": [
            "[nltk_data] Downloading package punkt to /root/nltk_data...\n",
            "[nltk_data]   Package punkt is already up-to-date!\n",
            "[nltk_data] Downloading package wordnet to /root/nltk_data...\n",
            "[nltk_data]   Package wordnet is already up-to-date!\n"
          ]
        },
        {
          "output_type": "execute_result",
          "data": {
            "text/plain": [
              "True"
            ]
          },
          "metadata": {},
          "execution_count": 400
        }
      ]
    },
    {
      "cell_type": "code",
      "execution_count": 401,
      "metadata": {
        "colab": {
          "base_uri": "https://localhost:8080/"
        },
        "id": "HVjiDYdKNDJN",
        "outputId": "7113e8cb-3695-4766-a4df-2056c5c5297a"
      },
      "outputs": [
        {
          "output_type": "stream",
          "name": "stdout",
          "text": [
            "Cloning into 'CloudComputing-tirgul'...\n",
            "remote: Enumerating objects: 4322, done.\u001b[K\n",
            "remote: Counting objects: 100% (1063/1063), done.\u001b[K\n",
            "remote: Compressing objects: 100% (466/466), done.\u001b[K\n",
            "remote: Total 4322 (delta 727), reused 862 (delta 564), pack-reused 3259\u001b[K\n",
            "Receiving objects: 100% (4322/4322), 20.31 MiB | 13.77 MiB/s, done.\n",
            "Resolving deltas: 100% (1721/1721), done.\n"
          ]
        }
      ],
      "source": [
        "# Specify the directory path\n",
        "directory = '/content/CloudComputing-tirgul'\n",
        "\n",
        "# Check if the directory exists\n",
        "if os.path.exists(directory):\n",
        "    # If the directory exists, remove it recursively\n",
        "    !rm -r \"$directory\"\n",
        "\n",
        "# Change the current directory to /content\n",
        "os.chdir('/content')\n",
        "\n",
        "# Clone the GitHub repository\n",
        "!git clone \"https://github.com/ndvp39/CloudComputing-tirgul\"\n",
        "\n",
        "# drive.mount('/content/drive')"
      ]
    },
    {
      "cell_type": "markdown",
      "metadata": {
        "id": "kPCWs9v3NEbB"
      },
      "source": [
        "Index:"
      ]
    },
    {
      "cell_type": "code",
      "execution_count": 402,
      "metadata": {
        "colab": {
          "base_uri": "https://localhost:8080/"
        },
        "id": "IeCbeSc1fYXy",
        "outputId": "3011c523-e8b2-4d6a-c3b4-33fa13bb122e"
      },
      "outputs": [
        {
          "output_type": "stream",
          "name": "stdout",
          "text": [
            "/content/CloudComputing-tirgul/Project/Index\n"
          ]
        }
      ],
      "source": [
        "# Run the index.ipynb notebook\n",
        "%cd /content/CloudComputing-tirgul/Project/Index/\n",
        "%run index.ipynb"
      ]
    },
    {
      "cell_type": "markdown",
      "metadata": {
        "id": "P7-9nkXUOpGl"
      },
      "source": [
        "Get index from db"
      ]
    },
    {
      "cell_type": "code",
      "execution_count": 403,
      "metadata": {
        "id": "2g8D2P5PN7_e"
      },
      "outputs": [],
      "source": [
        "# GET INDEX FROM DB\n",
        "index = get_index_from_db()"
      ]
    },
    {
      "cell_type": "markdown",
      "metadata": {
        "id": "R9EWmihbPMd2"
      },
      "source": [
        "ChatBot"
      ]
    },
    {
      "cell_type": "code",
      "execution_count": 404,
      "metadata": {
        "colab": {
          "base_uri": "https://localhost:8080/"
        },
        "id": "7RiylqeyVnEO",
        "outputId": "71096175-ef1a-4672-a3cd-0c6f7a918d7a"
      },
      "outputs": [
        {
          "output_type": "stream",
          "name": "stdout",
          "text": [
            "/content/CloudComputing-tirgul/Project/Chatbot\n",
            "/content/CloudComputing-tirgul/Project/Index\n"
          ]
        }
      ],
      "source": [
        "# Run the chatbot.ipynb notebook\n",
        "%cd /content/CloudComputing-tirgul/Project/Chatbot/\n",
        "%run chatbot.ipynb"
      ]
    },
    {
      "cell_type": "code",
      "execution_count": 405,
      "metadata": {
        "id": "Qr4iI_7SPPP6"
      },
      "outputs": [],
      "source": [
        "# Retrieve chatbot patterns from the database\n",
        "db_collection_name = \"ChatBotPatterns\"\n",
        "chatbot_patterns = get_patterns_from_db(db_collection_name)\n",
        "\n",
        "# Create a new chatbot instance using the retrieved patterns and reflections\n",
        "chatbot = Chat(chatbot_patterns, reflections)\n"
      ]
    },
    {
      "cell_type": "markdown",
      "metadata": {
        "id": "Z2UayQHvO5t0"
      },
      "source": [
        "SearchEngine"
      ]
    },
    {
      "cell_type": "code",
      "execution_count": 406,
      "metadata": {
        "id": "9vReQTw9UoBE"
      },
      "outputs": [],
      "source": [
        "# Load and display a web page.\n",
        "# Display HTML with optional CSS and JavaScript\n",
        "# Supports two types of HTML docs - 1. combined with css and js | 2. 3 separate files\n",
        "def switchToScreen(css_filename_, html_filename_, js_filename_):\n",
        "    clear_output(wait=True) # Clear the current output to display the new content\n",
        "\n",
        "    if css_filename_ is None and js_filename_ is None:\n",
        "        html_response = requests.get(html_filename_)\n",
        "        html_content_ = html_response.text\n",
        "        display(HTML(html_content_))\n",
        "    else:\n",
        "        css_response = requests.get(css_filename_)\n",
        "        css_content_ = css_response.text\n",
        "        display(HTML(f'<style>{css_content_}</style>'))\n",
        "\n",
        "        html_response = requests.get(html_filename_)\n",
        "        html_content_ = html_response.text\n",
        "        display(HTML(html_content_))\n",
        "\n",
        "        js_response = requests.get(js_filename_)\n",
        "        js_content_ = js_response.text\n",
        "        display(Javascript(js_content_))"
      ]
    },
    {
      "cell_type": "code",
      "source": [
        "# Extract title from the HTML content of a given link.\n",
        "def get_title_from_link(link):\n",
        "    try:\n",
        "        # Make an HTTP request\n",
        "        response = requests.get(link)\n",
        "\n",
        "        # Check if the request was successful (status code 200)\n",
        "        if response.status_code == 200:\n",
        "            # Parse the HTML content\n",
        "            soup = BeautifulSoup(response.text, 'html.parser')\n",
        "\n",
        "            # Find the <h1> tag\n",
        "            h1_tag = soup.find('h1')\n",
        "            if h1_tag:\n",
        "                return h1_tag.get_text()\n",
        "            else:\n",
        "                # If <h1> tag not found, try <h2> tag\n",
        "                h2_tag = soup.find('h2')\n",
        "                if h2_tag:\n",
        "                    return h2_tag.get_text()\n",
        "        else:\n",
        "            # Return error message if request fails\n",
        "            return f\"Failed to fetch the page. Status code: {response.status_code}\"\n",
        "\n",
        "    except Exception as e:\n",
        "        # Return error message if any exception occurs during extraction\n",
        "        return f\"An error occurred: {e}\""
      ],
      "metadata": {
        "id": "tAZyy8DuVnf8"
      },
      "execution_count": 407,
      "outputs": []
    },
    {
      "cell_type": "code",
      "execution_count": 408,
      "metadata": {
        "id": "k36yVR2y0hNc"
      },
      "outputs": [],
      "source": [
        "# Check for duplicate titles in a list and append index if found.\n",
        "def check_title_list(lst):\n",
        "  seen = {}\n",
        "  result = []\n",
        "  for word in lst:\n",
        "    if word not in seen:\n",
        "      seen[word] = 1\n",
        "      result.append(word)\n",
        "    else:\n",
        "      seen[word] += 1\n",
        "      result.append(f\"{word}_{seen[word] - 1}\")\n",
        "  return result\n",
        "\n",
        "\n",
        "# Retrieve titles, links, and query count for a given search string.\n",
        "def get_titles_links_of_search(search_string):\n",
        "  query_counter = 0\n",
        "  titles = list()\n",
        "  links = set()\n",
        "  search_string = search_string.split()\n",
        "  # trimming and steaming algorithem to search terms exactly as they are in the DB\n",
        "  search_string = remove_stop_words(search_string)\n",
        "  search_string = trim_words(search_string)\n",
        "  search_string = apply_stemming(search_string)\n",
        "  for word in index.keys():\n",
        "    if word in search_string:\n",
        "      for i in range(min(10, len(index[word]))): # 10 results max\n",
        "        curr_link = getLinkFromString(word, i)\n",
        "        query_counter += index[word][curr_link]['counter']\n",
        "        if curr_link not in links:\n",
        "          titles.append(get_title_from_link(curr_link))\n",
        "        links.add(curr_link)\n",
        "  titles = check_title_list(titles)\n",
        "  return titles, links, query_counter"
      ]
    },
    {
      "cell_type": "code",
      "execution_count": 409,
      "metadata": {
        "id": "35Zx27XoVqfB"
      },
      "outputs": [],
      "source": [
        "# Process the received search string and display search results in the GUI\n",
        "def receive_search_string(search_string):\n",
        "\n",
        "  # If search string is empty, return\n",
        "  if search_string.strip() == \"\":\n",
        "    return\n",
        "\n",
        "  # Store original search string before modification\n",
        "  original_search_string = search_string\n",
        "\n",
        "  search_string = search_string.lower()\n",
        "\n",
        "  # Switch to the results screen\n",
        "  html_filename = f\"https://raw.githubusercontent.com/ndvp39/CloudComputing-tirgul/main/Project/GUI/results.html\"\n",
        "  js_filename = f\"https://raw.githubusercontent.com/ndvp39/CloudComputing-tirgul/main/Project/GUI/script.js\"\n",
        "  switchToScreen(css_filename, html_filename, js_filename)\n",
        "\n",
        "  # JavaScript code to set the search bar text\n",
        "  js_code = f\"\"\"\n",
        "    <script>\n",
        "      document.getElementById(\"searchbartext\").value = \"{original_search_string}\";\n",
        "    </script>\n",
        "    \"\"\"\n",
        "\n",
        "  # Retrieve search results\n",
        "  titles, links, times_appeared = get_titles_links_of_search(search_string)\n",
        "\n",
        "  # Convert Python arrays to JavaScript arrays\n",
        "  titles_js_array = ', '.join(f'\"{title}\"' for title in titles)\n",
        "  links_js_array = ', '.join(f'\"{link}\"' for link in links)\n",
        "  times_appeared_str = str(times_appeared)\n",
        "\n",
        "  # JavaScript code to render search results\n",
        "  js_code_2 = f\"\"\"\n",
        "    <script>\n",
        "      renderResults_title_link([ {titles_js_array} ], [ {links_js_array} ], [{times_appeared_str}]);\n",
        "    </script>\n",
        "  \"\"\"\n",
        "\n",
        "  display(HTML(js_code))\n",
        "  display(HTML(js_code_2))\n",
        "\n",
        "  # Update statistics if search results are available\n",
        "  if titles:\n",
        "    update_or_add_statistic(search_string)\n",
        "\n",
        "# Register the function to be called from JavaScript\n",
        "output.register_callback('notebook.receive_search_string', receive_search_string)\n",
        "\n",
        "# Switch to the home page of the GUI.\n",
        "def back_to_home_page():\n",
        "  html_filename = f\"https://raw.githubusercontent.com/ndvp39/CloudComputing-tirgul/main/Project/GUI/index.html\"\n",
        "  switchToScreen(css_filename, html_filename, js_filename)\n",
        "\n",
        "# Register the function to be called from JavaScript\n",
        "output.register_callback('notebook.back_to_home_page', back_to_home_page)\n"
      ]
    },
    {
      "cell_type": "code",
      "source": [
        "# Switch to the chatbot page of the GUI\n",
        "def open_chatbot_page():\n",
        "  html_filename = f\"https://raw.githubusercontent.com/ndvp39/CloudComputing-tirgul/main/Project/GUI/chatbot.html\"\n",
        "  switchToScreen(css_filename, html_filename, js_filename)\n",
        "\n",
        "# Register the function to be called from JavaScript\n",
        "output.register_callback('notebook.open_chatbot_page', open_chatbot_page)\n",
        "\n",
        "# Receive a question from the chatbot interface and provide a response\n",
        "def receive_question_chatbot(question):\n",
        "  # Get response from the chatbot\n",
        "  response = chatbot.respond(question)\n",
        "\n",
        "  if response is None:\n",
        "    response = \"Sorry, i dont have response for your answer :/\"\n",
        "\n",
        "  # Generate JavaScript code to display the chatbot response\n",
        "  js_code = f\"\"\"\n",
        "      <script>\n",
        "        ChatbotResponse(\"{response}\");\n",
        "      </script>\n",
        "    \"\"\"\n",
        "\n",
        "  display(HTML(js_code))\n",
        "\n",
        "# Register the function to be called from JavaScript\n",
        "output.register_callback('notebook.receive_question_chatbot', receive_question_chatbot)"
      ],
      "metadata": {
        "id": "FBzEBtiUXX6r"
      },
      "execution_count": 410,
      "outputs": []
    },
    {
      "cell_type": "code",
      "execution_count": 411,
      "metadata": {
        "id": "qhsHJ-1zcLeH"
      },
      "outputs": [],
      "source": [
        "# Switch to the indexeditor page\n",
        "def open_indexeditor_page():\n",
        "  html_filename = \"https://raw.githubusercontent.com/ndvp39/CloudComputing-tirgul/main/Project/GUI/admin.html\"\n",
        "  switchToScreen(None, html_filename, None)\n",
        "\n",
        "# Register the function to be called from JavaScript\n",
        "output.register_callback('notebook.open_indexeditor_page', open_indexeditor_page)\n",
        "\n",
        "# Switch to the statistics page\n",
        "def open_statistics_screen():\n",
        "  html_filename = \"https://raw.githubusercontent.com/ndvp39/CloudComputing-tirgul/main/Project/GUI/statistics.html\"\n",
        "  switchToScreen(None, html_filename, None)\n",
        "\n",
        "# Register the function to be called from JavaScript\n",
        "output.register_callback('notebook.open_statistics_screen', open_statistics_screen)\n",
        "\n",
        "# Switch to the admin page\n",
        "def back_to_admin():\n",
        "  html_filename = \"https://raw.githubusercontent.com/ndvp39/CloudComputing-tirgul/main/Project/GUI/admin.html\"\n",
        "  switchToScreen(None, html_filename, None)\n",
        "\n",
        "# Register the function to be called from JavaScript\n",
        "output.register_callback('notebook.back_to_admin', back_to_admin)\n"
      ]
    },
    {
      "cell_type": "markdown",
      "source": [
        "Administration:"
      ],
      "metadata": {
        "id": "yy6NU_i3_Lpc"
      }
    },
    {
      "cell_type": "code",
      "source": [
        "# Run the administration.ipynb notebook\n",
        "%cd /content/CloudComputing-tirgul/Project/Administration/\n",
        "%run administration.ipynb"
      ],
      "metadata": {
        "colab": {
          "base_uri": "https://localhost:8080/"
        },
        "id": "g0vsAAw47Gob",
        "outputId": "00009718-f3be-46d3-bcfa-be9b2e3ae3a2"
      },
      "execution_count": 412,
      "outputs": [
        {
          "output_type": "stream",
          "name": "stdout",
          "text": [
            "/content/CloudComputing-tirgul/Project/Administration\n",
            "/content/CloudComputing-tirgul/Project/Index\n"
          ]
        }
      ]
    },
    {
      "cell_type": "markdown",
      "source": [
        "Starting first page:"
      ],
      "metadata": {
        "id": "eskAhPU0PQmy"
      }
    },
    {
      "cell_type": "code",
      "source": [
        "css_filename = f\"https://raw.githubusercontent.com/ndvp39/CloudComputing-tirgul/main/Project/GUI/style.css\"\n",
        "js_filename = f\"https://raw.githubusercontent.com/ndvp39/CloudComputing-tirgul/main/Project/GUI/script.js\"\n",
        "html_filename = f\"https://raw.githubusercontent.com/ndvp39/CloudComputing-tirgul/main/Project/GUI/index.html\"\n",
        "\n",
        "switchToScreen(css_filename, html_filename, js_filename)"
      ],
      "metadata": {
        "colab": {
          "base_uri": "https://localhost:8080/",
          "height": 351
        },
        "id": "fXLNd03YPP4x",
        "outputId": "e0a40456-89b3-4c37-b7b1-b7ee9f93e028"
      },
      "execution_count": 413,
      "outputs": [
        {
          "output_type": "display_data",
          "data": {
            "text/plain": [
              "<IPython.core.display.HTML object>"
            ],
            "text/html": [
              "<!DOCTYPE html>\r\n",
              "<html lang=\"en\">\r\n",
              "\r\n",
              "<head>\r\n",
              "    <meta charset=\"UTF-8\">\r\n",
              "    <meta name=\"viewport\" content=\"width=device-width, initial-scale=1.0\">\r\n",
              "    <link rel=\"stylesheet\"\r\n",
              "        href=\"https://fonts.googleapis.com/css2?family=Material+Symbols+Outlined:opsz,wght,FILL,GRAD@20..48,100..700,0..1,-50..200\" />\r\n",
              "    <title>Admin Page</title>\r\n",
              "    <style>\r\n",
              "        body {\r\n",
              "            background-color: #303030;\r\n",
              "            /* Dark grey background for the entire page */\r\n",
              "            color: #ffffff;\r\n",
              "            /* White text color for better readability */\r\n",
              "            font-family: Arial, sans-serif;\r\n",
              "            margin: 0;\r\n",
              "            padding: 0;\r\n",
              "            justify-content: center;\r\n",
              "        }\r\n",
              "        section {\r\n",
              "            display: flex;\r\n",
              "            margin-top: 2%;\r\n",
              "            width: 23%;\r\n",
              "            justify-content: space-around;\r\n",
              "            margin-bottom: 2%;\r\n",
              "            margin: 0 auto; /* Center the section horizontally */\r\n",
              "        }\r\n",
              "        header img {\r\n",
              "            width: 50px;\r\n",
              "            /* Adjust the width of the image */\r\n",
              "            margin-right: 10px;\r\n",
              "            /* Add some spacing between the image and text */\r\n",
              "        }\r\n",
              "\r\n",
              "        header,\r\n",
              "        footer {\r\n",
              "            background-color: #404040;\r\n",
              "            /* Slightly lighter background color for header and footer */\r\n",
              "            padding: 10px;\r\n",
              "            text-align: center;\r\n",
              "            display: flex;\r\n",
              "            align-items: center;\r\n",
              "            /* Align items vertically in the header */\r\n",
              "            flex-direction: row;\r\n",
              "            /* Set flex-direction to row */\r\n",
              "        }\r\n",
              "\r\n",
              "        #admin_page_buttons\r\n",
              "        {\r\n",
              "            width: 121px;\r\n",
              "            height: 40px;\r\n",
              "            display: inline-block; \r\n",
              "            margin-right: 10px;\r\n",
              "        }\r\n",
              "\r\n",
              "        \r\n",
              "        #button-container \r\n",
              "        {\r\n",
              "            display: flex;\r\n",
              "            justify-content: center; /* Optional: Align buttons horizontally in the center */\r\n",
              "        }\r\n",
              "\r\n",
              "        section {\r\n",
              "            display: flex;\r\n",
              "            justify-content: space-between;\r\n",
              "            padding: 20px;\r\n",
              "        }\r\n",
              "\r\n",
              "        .sub-section {\r\n",
              "            background-color: #606060;\r\n",
              "            /* Background color for sub-sections */\r\n",
              "            padding: 10px;\r\n",
              "            margin-bottom: 10px;\r\n",
              "        }\r\n",
              "\r\n",
              "        .index-section,\r\n",
              "        .update-section {\r\n",
              "            flex: 1;\r\n",
              "            background-color: #505050;\r\n",
              "            /* Even lighter background color for the two sections */\r\n",
              "            padding: 20px;\r\n",
              "            margin: 10px;\r\n",
              "        }\r\n",
              "\r\n",
              "        .index-row {\r\n",
              "            display: flex;\r\n",
              "            justify-content: space-between;\r\n",
              "            align-items: center;\r\n",
              "            background-color: #707070;\r\n",
              "            /* Background color for each row */\r\n",
              "            padding: 10px;\r\n",
              "            margin-bottom: 10px;\r\n",
              "        }\r\n",
              "\r\n",
              "        .url-row {\r\n",
              "            background-color: #707070;\r\n",
              "            /* Background color for each row */\r\n",
              "            padding: 10px;\r\n",
              "            margin-bottom: 10px;\r\n",
              "        }\r\n",
              "\r\n",
              "        .url-info {\r\n",
              "            display: flex;\r\n",
              "            justify-content: space-between;\r\n",
              "        }\r\n",
              "\r\n",
              "        .index-name,\r\n",
              "        .index-status,\r\n",
              "        .index-count,\r\n",
              "        .index-url {\r\n",
              "            margin-right: 60px;\r\n",
              "            /* Add margin to separate elements */\r\n",
              "        }\r\n",
              "\r\n",
              "        .update-button {\r\n",
              "            background-color: #4CAF50;\r\n",
              "            /* Lighter color for the button */\r\n",
              "            color: #ffffff;\r\n",
              "            /* Button text color */\r\n",
              "            margin-right: 60px;\r\n",
              "            /* Add margin to separate elements */\r\n",
              "        }\r\n",
              "\r\n",
              "        button {\r\n",
              "            background-color: #606060;\r\n",
              "            /* Lighter color for the button */\r\n",
              "            color: #ffffff;\r\n",
              "            /* Button text color */\r\n",
              "            padding: 10px 12px;\r\n",
              "            /* Adjusted padding for a smaller button */\r\n",
              "            border: none;\r\n",
              "            cursor: pointer;\r\n",
              "            text-align: center;\r\n",
              "            font-size: 14px;\r\n",
              "            /* Adjusted font size for a smaller button */\r\n",
              "            display: block;\r\n",
              "            margin: 20px auto;\r\n",
              "            /* Adjusted margin to center the button vertically */\r\n",
              "        }\r\n",
              "\r\n",
              "        .material-symbols-outlined {\r\n",
              "            font-family: 'Material Symbols Outlined';\r\n",
              "            font-weight: normal;\r\n",
              "            font-style: normal;\r\n",
              "            font-size: 24px;\r\n",
              "            line-height: 1;\r\n",
              "            letter-spacing: normal;\r\n",
              "            text-transform: none;\r\n",
              "            display: inline-block;\r\n",
              "            white-space: nowrap;\r\n",
              "            word-wrap: normal;\r\n",
              "            direction: ltr;\r\n",
              "            -webkit-font-feature-settings: 'liga';\r\n",
              "            -webkit-font-smoothing: antialiased;\r\n",
              "        }\r\n",
              "\r\n",
              "        #logoimg {\r\n",
              "            align-items: right;\r\n",
              "            height: 90px;\r\n",
              "            width: 90px;\r\n",
              "        }\r\n",
              "\r\n",
              "        h1 {\r\n",
              "            flex: 1;\r\n",
              "            /* Take up remaining space */\r\n",
              "            text-align: center;\r\n",
              "        }\r\n",
              "\r\n",
              "        .material-symbols-outlined {\r\n",
              "            font-size: 40px;\r\n",
              "            margin: 10px 10px 10px 30px;\r\n",
              "        }\r\n",
              "\r\n",
              "        /* Styling for the combo box */\r\n",
              "        .custom-combobox {\r\n",
              "            position: relative;\r\n",
              "            display: inline-block;\r\n",
              "            overflow-x: auto;\r\n",
              "            max-width: 700px;\r\n",
              "        }\r\n",
              "\r\n",
              "        .custom-combobox select {\r\n",
              "            width: 100%;\r\n",
              "            padding: 10px;\r\n",
              "            font-size: 16px;\r\n",
              "            border: 2px solid #ccc;\r\n",
              "            border-radius: 5px;\r\n",
              "            background-color: #f9f9f9;\r\n",
              "            -webkit-appearance: none;\r\n",
              "            -moz-appearance: none;\r\n",
              "            appearance: none;\r\n",
              "            \r\n",
              "        }\r\n",
              "\r\n",
              "        .custom-combobox select:focus {\r\n",
              "            outline: none;\r\n",
              "            border-color: #007bff;\r\n",
              "        }\r\n",
              "\r\n",
              "        /* Styling for the arrow */\r\n",
              "        .custom-combobox::after {\r\n",
              "            content: \"\\25BC\";\r\n",
              "            position: absolute;\r\n",
              "            top: 50%;\r\n",
              "            right: 5px;\r\n",
              "            transform: translateY(-50%);\r\n",
              "            pointer-events: none;\r\n",
              "        }\r\n",
              "    </style>\r\n",
              "</head>\r\n",
              "\r\n",
              "<body>\r\n",
              "\r\n",
              "\r\n",
              "    <header>\r\n",
              "        <span class=\"material-symbols-outlined\">people</span>\r\n",
              "        <h1>Admin Page</h1>\r\n",
              "        <img style=\"cursor: pointer;\" id=\"logoimg\" onclick=\"backToHomePage()\"\r\n",
              "            src=\"https://github.com/ndvp39/CloudComputing-tirgul/blob/main/Project/Images/icon.png?raw=true\" />\r\n",
              "    </header>\r\n",
              "    <section>\r\n",
              "        <section class=\"custom-combobox\">\r\n",
              "            <div id = \"button-container\">\r\n",
              "                <select id=\"firstCombo\" onchange=\"getLinks()\">\r\n",
              "                    <option value=\"\">Select Index</option>\r\n",
              "                </select>\r\n",
              "            </div>\r\n",
              "        </section>\r\n",
              "        <section class=\"custom-combobox\">\r\n",
              "            <div id = \"button-container\">\r\n",
              "                    <select id=\"secondCombo\">\r\n",
              "                        <option value=\"\">Select Link</option>\r\n",
              "                    </select>\r\n",
              "            </div>\r\n",
              "        </section>\r\n",
              "    </section>\r\n",
              "   \r\n",
              "\r\n",
              "        <section>\r\n",
              "            <div id = \"button-container\">\r\n",
              "                <button id = \"admin_page_buttons\" onClick=\"deleteIndex()\"> Delete Index</button>\r\n",
              "                <button id = \"admin_page_buttons\" onClick=\"deleteLink()\"> Delete Link</button>\r\n",
              "                <button id = \"admin_page_buttons\" onClick=\"openStatisticsScreen()\">View Statistics</button>\r\n",
              "            </div>\r\n",
              "        </section>\r\n",
              "\r\n",
              "\r\n",
              "\r\n",
              "    <script>\r\n",
              "\r\n",
              "        function deleteIndex() {\r\n",
              "            var selectedIndex = document.getElementById(\"firstCombo\").value;\r\n",
              "            if (selectedIndex == \"\") \r\n",
              "            {\r\n",
              "                alert(\"An index must be selected to be deleted.\");\r\n",
              "                return;\r\n",
              "            }\r\n",
              "            google.colab.kernel.invokeFunction('notebook.delete_index_from_db', [selectedIndex], {});\r\n",
              "            var firstCombo = document.getElementById(\"firstCombo\");\r\n",
              "            for (var i = 0; i < firstCombo.options.length; i++) {\r\n",
              "                if (firstCombo.options[i].value === selectedIndex) {\r\n",
              "                    firstCombo.remove(i);\r\n",
              "                    break;\r\n",
              "                }\r\n",
              "            }\r\n",
              "            firstCombo.innerHTML = '<option value=\"\">Select Index</option>';\r\n",
              "            secondCombo.innerHTML = '<option value=\"\">Select Link</option>';\r\n",
              "            getIndexesKeys()\r\n",
              "            alert(selectedIndex + \" has been successfully removed.\");\r\n",
              "        }\r\n",
              "\r\n",
              "        function deleteLink() {\r\n",
              "            var selectedIndex = document.getElementById(\"firstCombo\").value;\r\n",
              "            var selectedLink = document.getElementById(\"secondCombo\").value;\r\n",
              "            if (selectedIndex == \"\" || selectedLink == \"\") \r\n",
              "            {\r\n",
              "                alert(\"An index and a link must both be selected to be deleted.\");\r\n",
              "                return;\r\n",
              "            }\r\n",
              "            google.colab.kernel.invokeFunction('notebook.delete_link_from_db', [selectedIndex, selectedLink], {});\r\n",
              "            var secondCombo = document.getElementById(\"secondCombo\");\r\n",
              "            for (var i = 0; i < secondCombo.options.length; i++) {\r\n",
              "                if (secondCombo.options[i].value === selectedLink) {\r\n",
              "                    secondCombo.remove(i);\r\n",
              "                    break;\r\n",
              "                }\r\n",
              "            }\r\n",
              "            secondCombo.innerHTML = '<option value=\"\">Select Link</option>';\r\n",
              "            getLinks();\r\n",
              "            alert(selectedLink + \"\\nhas been successfully removed.\");\r\n",
              "        }\r\n",
              "\r\n",
              "        function getIndexesKeys() {\r\n",
              "            google.colab.kernel.invokeFunction('notebook.get_indexes_keys', [], {});\r\n",
              "        }\r\n",
              "\r\n",
              "        function openStatisticsScreen() {\r\n",
              "\r\n",
              "            // send to python to open statistics\r\n",
              "            google.colab.kernel.invokeFunction('notebook.open_statistics_screen', [], {});\r\n",
              "        }\r\n",
              "\r\n",
              "        // Function to populate the first combo box\r\n",
              "        function populateFirstCombo(indexes) {\r\n",
              "            var firstCombo = document.getElementById(\"firstCombo\");\r\n",
              "\r\n",
              "            // Clear existing options\r\n",
              "            firstCombo.innerHTML = '<option value=\"\">Select Index</option>';\r\n",
              "\r\n",
              "            // Populate with new options\r\n",
              "            indexes.forEach(function (element) {\r\n",
              "                var option = document.createElement(\"option\");\r\n",
              "                option.text = element;\r\n",
              "                option.value = element;\r\n",
              "                firstCombo.appendChild(option);\r\n",
              "            });\r\n",
              "        }\r\n",
              "\r\n",
              "        // Function to populate the second combo box based on the selection in the first combo box\r\n",
              "        function getLinks() {\r\n",
              "            var firstCombo = document.getElementById(\"firstCombo\");\r\n",
              "            var selectedOption = firstCombo.value;\r\n",
              "            google.colab.kernel.invokeFunction('notebook.get_indexes_values', [selectedOption], {});\r\n",
              "        }\r\n",
              "\r\n",
              "        function populateSecondCombo(links) {\r\n",
              "            var secondCombo = document.getElementById(\"secondCombo\");\r\n",
              "\r\n",
              "            // Clear existing options\r\n",
              "            secondCombo.innerHTML = '<option value=\"\">Select Link</option>';\r\n",
              "\r\n",
              "            // Populate with new options\r\n",
              "            links.forEach(function (element) {\r\n",
              "                var option = document.createElement(\"option\");\r\n",
              "                option.text = element;\r\n",
              "                option.value = element;\r\n",
              "                secondCombo.appendChild(option);\r\n",
              "            });\r\n",
              "        }\r\n",
              "\r\n",
              "        // Populate the first combo box initially\r\n",
              "        getIndexesKeys();\r\n",
              "    </script>\r\n",
              "\r\n",
              "</body>\r\n",
              "\r\n",
              "</html>"
            ]
          },
          "metadata": {}
        },
        {
          "output_type": "display_data",
          "data": {
            "text/plain": [
              "<IPython.core.display.HTML object>"
            ],
            "text/html": [
              "\n",
              "    <script>\n",
              "      populateFirstCombo([ \"triallearn\", \"buy\", \"from\", \"organ\", \"sellr\", \"secur\", \"across\", \"kubernet\", \"how\", \"technolog\", \"build\", \"make\", \"managementr\", \"servic\", \"hubinteract\", \"by\", \"contain\", \"it\", \"open\", \"help\", \"hat\", \"salesstart\", \"learn\", \"what\", \"administr\", \"communitiesansiblefor\", \"partnerspartn\", \"cloud\", \"developershybrid\", \"our\", \"linux\", \"casessubscript\", \"ecosystem\", \"deploy\", \"product\", \"us\", \"catalogfind\", \"openshift\", \"modern\", \"labslearn\", \"supportdocumentationsupport\", \"tri\", \"applic\", \"autom\", \"integr\", \"data\", \"platform\", \"support\", \"red\", \"can\", \"select\", \"engin\", \"of\", \"new\", \"use\", \"customerscustom\", \"innov\", \"trial\", \"foundat\", \"comput\", \"partner\", \"resourc\", \"success\", \"contact\", \"partnerfor\", \"tvopen\", \"specialist\", \"about\", \"need\", \"administratorsfor\", \"supportbecom\", \"system\", \"edg\", \"certifi\", \"that\", \"with\", \"legal\", \"enterpris\", \"vs\", \"hybrid\", \"manag\", \"your\", \"privaci\", \"storecontact\", \"you\", \"sourc\", \"environ\", \"more\", \"work\", \"marketplac\", \"solut\", \"scale\", \"access\", \"api\", \"ansibl\", \"resourcestrain\", \"all\", \"oper\", \"custom\", \"communityr\", \"portalpartn\", \"we\", \"develop\", \"certif\", \"network\", \"provid\", \"infrastructur\" ]);\n",
              "    </script>\n",
              "    "
            ]
          },
          "metadata": {}
        }
      ]
    }
  ],
  "metadata": {
    "colab": {
      "provenance": [],
      "include_colab_link": true
    },
    "kernelspec": {
      "display_name": "Python 3",
      "name": "python3"
    },
    "language_info": {
      "name": "python"
    }
  },
  "nbformat": 4,
  "nbformat_minor": 0
}