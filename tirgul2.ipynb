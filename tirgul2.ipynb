{
  "nbformat": 4,
  "nbformat_minor": 0,
  "metadata": {
    "colab": {
      "provenance": [],
      "authorship_tag": "ABX9TyO6IkCYurhupzMLByAr//C8",
      "include_colab_link": true
    },
    "kernelspec": {
      "name": "python3",
      "display_name": "Python 3"
    },
    "language_info": {
      "name": "python"
    }
  },
  "cells": [
    {
      "cell_type": "markdown",
      "metadata": {
        "id": "view-in-github",
        "colab_type": "text"
      },
      "source": [
        "<a href=\"https://colab.research.google.com/github/ndvp39/CloudComputing-tirgul/blob/main/tirgul2.ipynb\" target=\"_parent\"><img src=\"https://colab.research.google.com/assets/colab-badge.svg\" alt=\"Open In Colab\"/></a>"
      ]
    },
    {
      "cell_type": "code",
      "execution_count": null,
      "metadata": {
        "id": "wdgCJVDn8IAe"
      },
      "outputs": [],
      "source": [
        "from google.colab import drive\n",
        "drive.mount('/content/drive')\n",
        "import json\n",
        "\n",
        "\n",
        "from ipywidgets import widgets, HBox, Layout\n",
        "from IPython.display import display, clear_output, Markdown\n"
      ]
    },
    {
      "cell_type": "code",
      "source": [
        "\n",
        "studentsList = []\n",
        "with open('/content/drive/My Drive/CloudComputing/students.json') as f:\n",
        "    for jsonObj in f:\n",
        "        studentsList.append(json.loads(jsonObj))\n",
        "\n",
        "for student in studentsList:\n",
        "    print(student[\"name\"], student[\"email\"], student[\"courses\"], student[\"web\"])"
      ],
      "metadata": {
        "id": "YLvqPuol8QgV"
      },
      "execution_count": null,
      "outputs": []
    },
    {
      "cell_type": "code",
      "source": [
        "# @title Students { form-width: \"100%\" }\n",
        "\n",
        "student_selected = None\n",
        "\n",
        "studentNameSelection = widgets.Dropdown(\n",
        "    options = [student[\"name\"] for student in studentsList],\n",
        "    value = None,\n",
        "    description = \"Student:\"\n",
        ")\n",
        "display(studentNameSelection)\n",
        "\n",
        "# Create text areas for student information\n",
        "output_box_email = widgets.Textarea(description=\"email:\", disabled=True, layout=Layout(width='400px', height='100px'))\n",
        "output_box_courses = widgets.Textarea(description=\"courses:\", disabled=True, layout=Layout(width='400px', height='100px'))\n",
        "output_box_link = widgets.Textarea(description=\"link:\", disabled=False, layout=Layout(width='400px', height='100px'))\n",
        "# Display the text areas using HBox\n",
        "output_boxes = HBox([output_box_email, output_box_courses, output_box_link])\n",
        "\n",
        "def onClickSaveTvShow(_):\n",
        "  student_TvShow_entered = input_box_TVshow.value\n",
        "  studentTv = {\"TV_show\": student_TvShow_entered}\n",
        "  global student_selected\n",
        "  student_selected.update(studentTv)\n",
        "  with open('/content/drive/My Drive/CloudComputing/students.json', 'w') as f:\n",
        "    json.dump(studentsList, f)\n",
        "\n",
        "\n",
        "\n",
        "input_box_TVshow = widgets.Textarea(description=\"TV Show:\", disabled=False, layout=Layout(width='400px', height='100px'))\n",
        "button_saveTVshow = widgets.Button(description=\"Save TV Show\")\n",
        "button_saveTVshow.on_click(onClickSaveTvShow)\n",
        "\n",
        "# set the information of the student in the output_boxes\n",
        "def studentSelected(student):\n",
        "  clear_output()\n",
        "  input_box_TVshow.value = \"\"\n",
        "  display(studentNameSelection, output_boxes, input_box_TVshow, button_saveTVshow)\n",
        "\n",
        "  output_box_email.value = student[\"email\"]\n",
        "  s_courses = student[\"courses\"].replace(' ', '\\n')\n",
        "  output_box_courses.value = s_courses\n",
        "  output_box_link.value = student[\"web\"]\n",
        "\n",
        "# Function to handle changes in the dropdown value\n",
        "def onSelectStudent(change):\n",
        "  for student in studentsList:\n",
        "    if(student[\"name\"] == change.new):\n",
        "      studentSelected(student)\n",
        "      global student_selected\n",
        "      student_selected = student\n",
        "      return\n",
        "\n",
        "\n",
        "\n",
        "\n",
        "\n",
        "\n",
        "# Attach the observer to the dropdown widget\n",
        "studentNameSelection.observe(onSelectStudent, names='value')"
      ],
      "metadata": {
        "colab": {
          "base_uri": "https://localhost:8080/",
          "height": 366
        },
        "id": "vJzJabLH96xr",
        "outputId": "f3c533a0-e82a-4cd6-946b-710f2df48496"
      },
      "execution_count": 4,
      "outputs": [
        {
          "output_type": "error",
          "ename": "TypeError",
          "evalue": "list indices must be integers or slices, not str",
          "traceback": [
            "\u001b[0;31m---------------------------------------------------------------------------\u001b[0m",
            "\u001b[0;31mTypeError\u001b[0m                                 Traceback (most recent call last)",
            "\u001b[0;32m<ipython-input-4-cfe2fbf20a3f>\u001b[0m in \u001b[0;36m<cell line: 5>\u001b[0;34m()\u001b[0m\n\u001b[1;32m      4\u001b[0m \u001b[0;34m\u001b[0m\u001b[0m\n\u001b[1;32m      5\u001b[0m studentNameSelection = widgets.Dropdown(\n\u001b[0;32m----> 6\u001b[0;31m     \u001b[0moptions\u001b[0m \u001b[0;34m=\u001b[0m \u001b[0;34m[\u001b[0m\u001b[0mstudent\u001b[0m\u001b[0;34m[\u001b[0m\u001b[0;34m\"name\"\u001b[0m\u001b[0;34m]\u001b[0m \u001b[0;32mfor\u001b[0m \u001b[0mstudent\u001b[0m \u001b[0;32min\u001b[0m \u001b[0mstudentsList\u001b[0m\u001b[0;34m]\u001b[0m\u001b[0;34m,\u001b[0m\u001b[0;34m\u001b[0m\u001b[0;34m\u001b[0m\u001b[0m\n\u001b[0m\u001b[1;32m      7\u001b[0m     \u001b[0mvalue\u001b[0m \u001b[0;34m=\u001b[0m \u001b[0;32mNone\u001b[0m\u001b[0;34m,\u001b[0m\u001b[0;34m\u001b[0m\u001b[0;34m\u001b[0m\u001b[0m\n\u001b[1;32m      8\u001b[0m     \u001b[0mdescription\u001b[0m \u001b[0;34m=\u001b[0m \u001b[0;34m\"Student:\"\u001b[0m\u001b[0;34m\u001b[0m\u001b[0;34m\u001b[0m\u001b[0m\n",
            "\u001b[0;32m<ipython-input-4-cfe2fbf20a3f>\u001b[0m in \u001b[0;36m<listcomp>\u001b[0;34m(.0)\u001b[0m\n\u001b[1;32m      4\u001b[0m \u001b[0;34m\u001b[0m\u001b[0m\n\u001b[1;32m      5\u001b[0m studentNameSelection = widgets.Dropdown(\n\u001b[0;32m----> 6\u001b[0;31m     \u001b[0moptions\u001b[0m \u001b[0;34m=\u001b[0m \u001b[0;34m[\u001b[0m\u001b[0mstudent\u001b[0m\u001b[0;34m[\u001b[0m\u001b[0;34m\"name\"\u001b[0m\u001b[0;34m]\u001b[0m \u001b[0;32mfor\u001b[0m \u001b[0mstudent\u001b[0m \u001b[0;32min\u001b[0m \u001b[0mstudentsList\u001b[0m\u001b[0;34m]\u001b[0m\u001b[0;34m,\u001b[0m\u001b[0;34m\u001b[0m\u001b[0;34m\u001b[0m\u001b[0m\n\u001b[0m\u001b[1;32m      7\u001b[0m     \u001b[0mvalue\u001b[0m \u001b[0;34m=\u001b[0m \u001b[0;32mNone\u001b[0m\u001b[0;34m,\u001b[0m\u001b[0;34m\u001b[0m\u001b[0;34m\u001b[0m\u001b[0m\n\u001b[1;32m      8\u001b[0m     \u001b[0mdescription\u001b[0m \u001b[0;34m=\u001b[0m \u001b[0;34m\"Student:\"\u001b[0m\u001b[0;34m\u001b[0m\u001b[0;34m\u001b[0m\u001b[0m\n",
            "\u001b[0;31mTypeError\u001b[0m: list indices must be integers or slices, not str"
          ]
        }
      ]
    },
    {
      "cell_type": "code",
      "source": [],
      "metadata": {
        "id": "MvzgSVlZDfYc"
      },
      "execution_count": null,
      "outputs": []
    }
  ]
}