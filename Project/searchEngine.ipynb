{
  "cells": [
    {
      "cell_type": "markdown",
      "metadata": {
        "id": "view-in-github",
        "colab_type": "text"
      },
      "source": [
        "<a href=\"https://colab.research.google.com/github/ndvp39/CloudComputing-tirgul/blob/main/Project/searchEngine.ipynb\" target=\"_parent\"><img src=\"https://colab.research.google.com/assets/colab-badge.svg\" alt=\"Open In Colab\"/></a>"
      ]
    },
    {
      "cell_type": "code",
      "source": [
        "!pip install requests beautifulsoup4\n",
        "!pip install firebase\n",
        "!pip install firebase-admin"
      ],
      "metadata": {
        "colab": {
          "base_uri": "https://localhost:8080/"
        },
        "id": "ea1kjBb4GftH",
        "outputId": "32464c3a-b10b-4b39-9fdd-52fc2a723d59"
      },
      "execution_count": 1,
      "outputs": [
        {
          "output_type": "stream",
          "name": "stdout",
          "text": [
            "Requirement already satisfied: requests in /usr/local/lib/python3.10/dist-packages (2.31.0)\n",
            "Requirement already satisfied: beautifulsoup4 in /usr/local/lib/python3.10/dist-packages (4.12.3)\n",
            "Requirement already satisfied: charset-normalizer<4,>=2 in /usr/local/lib/python3.10/dist-packages (from requests) (3.3.2)\n",
            "Requirement already satisfied: idna<4,>=2.5 in /usr/local/lib/python3.10/dist-packages (from requests) (3.6)\n",
            "Requirement already satisfied: urllib3<3,>=1.21.1 in /usr/local/lib/python3.10/dist-packages (from requests) (2.0.7)\n",
            "Requirement already satisfied: certifi>=2017.4.17 in /usr/local/lib/python3.10/dist-packages (from requests) (2024.2.2)\n",
            "Requirement already satisfied: soupsieve>1.2 in /usr/local/lib/python3.10/dist-packages (from beautifulsoup4) (2.5)\n",
            "Requirement already satisfied: firebase in /usr/local/lib/python3.10/dist-packages (4.0.1)\n",
            "Requirement already satisfied: requests in /usr/local/lib/python3.10/dist-packages (from firebase) (2.31.0)\n",
            "Requirement already satisfied: charset-normalizer<4,>=2 in /usr/local/lib/python3.10/dist-packages (from requests->firebase) (3.3.2)\n",
            "Requirement already satisfied: idna<4,>=2.5 in /usr/local/lib/python3.10/dist-packages (from requests->firebase) (3.6)\n",
            "Requirement already satisfied: urllib3<3,>=1.21.1 in /usr/local/lib/python3.10/dist-packages (from requests->firebase) (2.0.7)\n",
            "Requirement already satisfied: certifi>=2017.4.17 in /usr/local/lib/python3.10/dist-packages (from requests->firebase) (2024.2.2)\n",
            "Requirement already satisfied: firebase-admin in /usr/local/lib/python3.10/dist-packages (5.3.0)\n",
            "Requirement already satisfied: cachecontrol>=0.12.6 in /usr/local/lib/python3.10/dist-packages (from firebase-admin) (0.14.0)\n",
            "Requirement already satisfied: google-api-python-client>=1.7.8 in /usr/local/lib/python3.10/dist-packages (from firebase-admin) (2.84.0)\n",
            "Requirement already satisfied: google-cloud-storage>=1.37.1 in /usr/local/lib/python3.10/dist-packages (from firebase-admin) (2.8.0)\n",
            "Requirement already satisfied: google-api-core[grpc]<3.0.0dev,>=1.22.1 in /usr/local/lib/python3.10/dist-packages (from firebase-admin) (2.11.1)\n",
            "Requirement already satisfied: google-cloud-firestore>=2.1.0 in /usr/local/lib/python3.10/dist-packages (from firebase-admin) (2.11.1)\n",
            "Requirement already satisfied: requests>=2.16.0 in /usr/local/lib/python3.10/dist-packages (from cachecontrol>=0.12.6->firebase-admin) (2.31.0)\n",
            "Requirement already satisfied: msgpack<2.0.0,>=0.5.2 in /usr/local/lib/python3.10/dist-packages (from cachecontrol>=0.12.6->firebase-admin) (1.0.8)\n",
            "Requirement already satisfied: googleapis-common-protos<2.0.dev0,>=1.56.2 in /usr/local/lib/python3.10/dist-packages (from google-api-core[grpc]<3.0.0dev,>=1.22.1->firebase-admin) (1.63.0)\n",
            "Requirement already satisfied: protobuf!=3.20.0,!=3.20.1,!=4.21.0,!=4.21.1,!=4.21.2,!=4.21.3,!=4.21.4,!=4.21.5,<5.0.0.dev0,>=3.19.5 in /usr/local/lib/python3.10/dist-packages (from google-api-core[grpc]<3.0.0dev,>=1.22.1->firebase-admin) (3.20.3)\n",
            "Requirement already satisfied: google-auth<3.0.dev0,>=2.14.1 in /usr/local/lib/python3.10/dist-packages (from google-api-core[grpc]<3.0.0dev,>=1.22.1->firebase-admin) (2.27.0)\n",
            "Requirement already satisfied: grpcio<2.0dev,>=1.33.2 in /usr/local/lib/python3.10/dist-packages (from google-api-core[grpc]<3.0.0dev,>=1.22.1->firebase-admin) (1.62.1)\n",
            "Requirement already satisfied: grpcio-status<2.0.dev0,>=1.33.2 in /usr/local/lib/python3.10/dist-packages (from google-api-core[grpc]<3.0.0dev,>=1.22.1->firebase-admin) (1.48.2)\n",
            "Requirement already satisfied: httplib2<1dev,>=0.15.0 in /usr/local/lib/python3.10/dist-packages (from google-api-python-client>=1.7.8->firebase-admin) (0.22.0)\n",
            "Requirement already satisfied: google-auth-httplib2>=0.1.0 in /usr/local/lib/python3.10/dist-packages (from google-api-python-client>=1.7.8->firebase-admin) (0.1.1)\n",
            "Requirement already satisfied: uritemplate<5,>=3.0.1 in /usr/local/lib/python3.10/dist-packages (from google-api-python-client>=1.7.8->firebase-admin) (4.1.1)\n",
            "Requirement already satisfied: google-cloud-core<3.0.0dev,>=1.4.1 in /usr/local/lib/python3.10/dist-packages (from google-cloud-firestore>=2.1.0->firebase-admin) (2.3.3)\n",
            "Requirement already satisfied: proto-plus<2.0.0dev,>=1.22.0 in /usr/local/lib/python3.10/dist-packages (from google-cloud-firestore>=2.1.0->firebase-admin) (1.23.0)\n",
            "Requirement already satisfied: google-resumable-media>=2.3.2 in /usr/local/lib/python3.10/dist-packages (from google-cloud-storage>=1.37.1->firebase-admin) (2.7.0)\n",
            "Requirement already satisfied: cachetools<6.0,>=2.0.0 in /usr/local/lib/python3.10/dist-packages (from google-auth<3.0.dev0,>=2.14.1->google-api-core[grpc]<3.0.0dev,>=1.22.1->firebase-admin) (5.3.3)\n",
            "Requirement already satisfied: pyasn1-modules>=0.2.1 in /usr/local/lib/python3.10/dist-packages (from google-auth<3.0.dev0,>=2.14.1->google-api-core[grpc]<3.0.0dev,>=1.22.1->firebase-admin) (0.4.0)\n",
            "Requirement already satisfied: rsa<5,>=3.1.4 in /usr/local/lib/python3.10/dist-packages (from google-auth<3.0.dev0,>=2.14.1->google-api-core[grpc]<3.0.0dev,>=1.22.1->firebase-admin) (4.9)\n",
            "Requirement already satisfied: google-crc32c<2.0dev,>=1.0 in /usr/local/lib/python3.10/dist-packages (from google-resumable-media>=2.3.2->google-cloud-storage>=1.37.1->firebase-admin) (1.5.0)\n",
            "Requirement already satisfied: pyparsing!=3.0.0,!=3.0.1,!=3.0.2,!=3.0.3,<4,>=2.4.2 in /usr/local/lib/python3.10/dist-packages (from httplib2<1dev,>=0.15.0->google-api-python-client>=1.7.8->firebase-admin) (3.1.2)\n",
            "Requirement already satisfied: charset-normalizer<4,>=2 in /usr/local/lib/python3.10/dist-packages (from requests>=2.16.0->cachecontrol>=0.12.6->firebase-admin) (3.3.2)\n",
            "Requirement already satisfied: idna<4,>=2.5 in /usr/local/lib/python3.10/dist-packages (from requests>=2.16.0->cachecontrol>=0.12.6->firebase-admin) (3.6)\n",
            "Requirement already satisfied: urllib3<3,>=1.21.1 in /usr/local/lib/python3.10/dist-packages (from requests>=2.16.0->cachecontrol>=0.12.6->firebase-admin) (2.0.7)\n",
            "Requirement already satisfied: certifi>=2017.4.17 in /usr/local/lib/python3.10/dist-packages (from requests>=2.16.0->cachecontrol>=0.12.6->firebase-admin) (2024.2.2)\n",
            "Requirement already satisfied: pyasn1<0.7.0,>=0.4.6 in /usr/local/lib/python3.10/dist-packages (from pyasn1-modules>=0.2.1->google-auth<3.0.dev0,>=2.14.1->google-api-core[grpc]<3.0.0dev,>=1.22.1->firebase-admin) (0.6.0)\n"
          ]
        }
      ]
    },
    {
      "cell_type": "code",
      "source": [
        "from google.colab import drive, output\n",
        "from IPython.display import HTML, Javascript\n",
        "from IPython.display import clear_output\n",
        "from firebase_admin import credentials\n",
        "from firebase_admin import firestore\n",
        "from nltk.chat.util import Chat, reflections\n",
        "from nltk.stem import PorterStemmer\n",
        "from bs4 import BeautifulSoup\n",
        "import firebase_admin\n",
        "import IPython\n",
        "import random\n",
        "import json\n",
        "import os\n",
        "import re\n",
        "import requests\n",
        "import nltk\n",
        "\n",
        "nltk.download('punkt')\n",
        "nltk.download('wordnet')"
      ],
      "metadata": {
        "id": "PH8cmdPQGkbY",
        "colab": {
          "base_uri": "https://localhost:8080/"
        },
        "outputId": "6535ef8c-c6ae-461e-8bc1-a532ae8c6f47"
      },
      "execution_count": 2,
      "outputs": [
        {
          "output_type": "stream",
          "name": "stderr",
          "text": [
            "[nltk_data] Downloading package punkt to /root/nltk_data...\n",
            "[nltk_data]   Package punkt is already up-to-date!\n",
            "[nltk_data] Downloading package wordnet to /root/nltk_data...\n",
            "[nltk_data]   Package wordnet is already up-to-date!\n"
          ]
        },
        {
          "output_type": "execute_result",
          "data": {
            "text/plain": [
              "True"
            ]
          },
          "metadata": {},
          "execution_count": 2
        }
      ]
    },
    {
      "cell_type": "markdown",
      "source": [
        "Github connection"
      ],
      "metadata": {
        "id": "6E4eX2VsrptY"
      }
    },
    {
      "cell_type": "code",
      "execution_count": 3,
      "metadata": {
        "colab": {
          "base_uri": "https://localhost:8080/"
        },
        "id": "HVjiDYdKNDJN",
        "outputId": "36f0e288-6f0d-49a5-a5c9-80802cab7776"
      },
      "outputs": [
        {
          "output_type": "stream",
          "name": "stdout",
          "text": [
            "Cloning into 'CloudComputing-tirgul'...\n",
            "remote: Enumerating objects: 4480, done.\u001b[K\n",
            "remote: Counting objects: 100% (1221/1221), done.\u001b[K\n",
            "remote: Compressing objects: 100% (507/507), done.\u001b[K\n",
            "remote: Total 4480 (delta 824), reused 1039 (delta 670), pack-reused 3259\u001b[K\n",
            "Receiving objects: 100% (4480/4480), 25.87 MiB | 18.89 MiB/s, done.\n",
            "Resolving deltas: 100% (1818/1818), done.\n"
          ]
        }
      ],
      "source": [
        "# Specify the directory path\n",
        "directory = '/content/CloudComputing-tirgul'\n",
        "\n",
        "# Check if the directory exists\n",
        "if os.path.exists(directory):\n",
        "    # If the directory exists, remove it recursively\n",
        "    !rm -r \"$directory\"\n",
        "\n",
        "# Change the current directory to /content\n",
        "os.chdir('/content')\n",
        "\n",
        "# Clone the GitHub repository\n",
        "!git clone \"https://github.com/ndvp39/CloudComputing-tirgul\"\n",
        "\n",
        "# drive.mount('/content/drive')"
      ]
    },
    {
      "cell_type": "markdown",
      "metadata": {
        "id": "kPCWs9v3NEbB"
      },
      "source": [
        "Index:"
      ]
    },
    {
      "cell_type": "code",
      "execution_count": 4,
      "metadata": {
        "colab": {
          "base_uri": "https://localhost:8080/"
        },
        "id": "IeCbeSc1fYXy",
        "outputId": "2bc718d7-ad62-4697-9260-d11358349720"
      },
      "outputs": [
        {
          "output_type": "stream",
          "name": "stdout",
          "text": [
            "/content/CloudComputing-tirgul/Project/Index\n"
          ]
        }
      ],
      "source": [
        "# Run the index.ipynb notebook\n",
        "%cd /content/CloudComputing-tirgul/Project/Index/\n",
        "%run index.ipynb"
      ]
    },
    {
      "cell_type": "markdown",
      "metadata": {
        "id": "P7-9nkXUOpGl"
      },
      "source": [
        "Get index from db"
      ]
    },
    {
      "cell_type": "code",
      "execution_count": 5,
      "metadata": {
        "id": "2g8D2P5PN7_e"
      },
      "outputs": [],
      "source": [
        "# GET INDEX FROM DB\n",
        "index = get_index_from_db()"
      ]
    },
    {
      "cell_type": "markdown",
      "metadata": {
        "id": "R9EWmihbPMd2"
      },
      "source": [
        "ChatBot"
      ]
    },
    {
      "cell_type": "code",
      "execution_count": 6,
      "metadata": {
        "colab": {
          "base_uri": "https://localhost:8080/"
        },
        "id": "7RiylqeyVnEO",
        "outputId": "610d6e32-d92a-42b9-e479-3588902f3401"
      },
      "outputs": [
        {
          "output_type": "stream",
          "name": "stdout",
          "text": [
            "/content/CloudComputing-tirgul/Project/Chatbot\n",
            "/content/CloudComputing-tirgul/Project/Index\n"
          ]
        }
      ],
      "source": [
        "# Run the chatbot.ipynb notebook\n",
        "%cd /content/CloudComputing-tirgul/Project/Chatbot/\n",
        "%run chatbot.ipynb"
      ]
    },
    {
      "cell_type": "code",
      "execution_count": 7,
      "metadata": {
        "id": "Qr4iI_7SPPP6"
      },
      "outputs": [],
      "source": [
        "# Retrieve chatbot patterns from the database\n",
        "db_collection_name = \"ChatBotPatterns\"\n",
        "chatbot_patterns = get_patterns_from_db(db_collection_name)\n",
        "\n",
        "# Create a new chatbot instance using the retrieved patterns and reflections\n",
        "chatbot = Chat(chatbot_patterns, reflections)\n"
      ]
    },
    {
      "cell_type": "markdown",
      "metadata": {
        "id": "Z2UayQHvO5t0"
      },
      "source": [
        "SearchEngine"
      ]
    },
    {
      "cell_type": "code",
      "execution_count": 8,
      "metadata": {
        "id": "9vReQTw9UoBE"
      },
      "outputs": [],
      "source": [
        "# Load and display a web page.\n",
        "# Display HTML with optional CSS and JavaScript\n",
        "# Supports two types of HTML docs - 1. combined with css and js | 2. 3 separate files\n",
        "def switchToScreen(css_filename_, html_filename_, js_filename_):\n",
        "    clear_output(wait=True) # Clear the current output to display the new content\n",
        "\n",
        "    if css_filename_ is None and js_filename_ is None:\n",
        "        html_response = requests.get(html_filename_)\n",
        "        html_content_ = html_response.text\n",
        "        display(HTML(html_content_))\n",
        "    else:\n",
        "        css_response = requests.get(css_filename_)\n",
        "        css_content_ = css_response.text\n",
        "        display(HTML(f'<style>{css_content_}</style>'))\n",
        "\n",
        "        html_response = requests.get(html_filename_)\n",
        "        html_content_ = html_response.text\n",
        "        display(HTML(html_content_))\n",
        "\n",
        "        js_response = requests.get(js_filename_)\n",
        "        js_content_ = js_response.text\n",
        "        display(Javascript(js_content_))"
      ]
    },
    {
      "cell_type": "code",
      "source": [
        "# Extract title from the HTML content of a given link.\n",
        "def get_title_from_link(link):\n",
        "    try:\n",
        "        # Make an HTTP request\n",
        "        response = requests.get(link)\n",
        "\n",
        "        # Check if the request was successful (status code 200)\n",
        "        if response.status_code == 200:\n",
        "            # Parse the HTML content\n",
        "            soup = BeautifulSoup(response.text, 'html.parser')\n",
        "\n",
        "            # Find the <h1> tag\n",
        "            h1_tag = soup.find('h1')\n",
        "            if h1_tag:\n",
        "                return h1_tag.get_text()\n",
        "            else:\n",
        "                # If <h1> tag not found, try <h2> tag\n",
        "                h2_tag = soup.find('h2')\n",
        "                if h2_tag:\n",
        "                    return h2_tag.get_text()\n",
        "        else:\n",
        "            # Return error message if request fails\n",
        "            return f\"Failed to fetch the page. Status code: {response.status_code}\"\n",
        "\n",
        "    except Exception as e:\n",
        "        # Return error message if any exception occurs during extraction\n",
        "        return f\"An error occurred: {e}\""
      ],
      "metadata": {
        "id": "tAZyy8DuVnf8"
      },
      "execution_count": 9,
      "outputs": []
    },
    {
      "cell_type": "code",
      "source": [
        "# Sort the links for the given words in order to present more relevant results.\n",
        "def extract_sorted_links(word):\n",
        "  return sorted(index[word].items(), key = lambda x: x[1]['counter'], reverse = True)\n"
      ],
      "metadata": {
        "id": "G1xyl_pw47KH"
      },
      "execution_count": 10,
      "outputs": []
    },
    {
      "cell_type": "code",
      "execution_count": 11,
      "metadata": {
        "id": "k36yVR2y0hNc"
      },
      "outputs": [],
      "source": [
        "# Check for duplicate titles in a list and append index if found.\n",
        "def check_title_list(lst):\n",
        "  seen = {}\n",
        "  result = []\n",
        "  for word in lst:\n",
        "    if word not in seen:\n",
        "      seen[word] = 1\n",
        "      result.append(word)\n",
        "    else:\n",
        "      seen[word] += 1\n",
        "      result.append(f\"{word}_{seen[word] - 1}\")\n",
        "  return result\n",
        "\n",
        "\n",
        "# Retrieve titles, links, and query count for a given search string.\n",
        "def get_titles_links_of_search(search_string):\n",
        "  query_counter = 0\n",
        "  titles = list()\n",
        "  links = set()\n",
        "  search_string = search_string.split()\n",
        "  # trimming and steaming algorithem to search terms exactly as they are in the DB\n",
        "  search_string = remove_stop_words(search_string, False)\n",
        "  search_string = trim_words(search_string)\n",
        "  search_string = apply_stemming(search_string)\n",
        "  for word in index.keys():\n",
        "    if word in search_string:\n",
        "      extracted_links = extract_sorted_links(word)\n",
        "      for i in range(min(10, len(extracted_links))): # 10 results max\n",
        "        curr_link = extracted_links[i][0]\n",
        "        query_counter += index[word][curr_link]['counter']\n",
        "        if curr_link not in links:\n",
        "          titles.append(get_title_from_link(curr_link))\n",
        "        links.add(curr_link)\n",
        "  titles = check_title_list(titles)\n",
        "  return titles, links, query_counter"
      ]
    },
    {
      "cell_type": "code",
      "execution_count": 12,
      "metadata": {
        "id": "35Zx27XoVqfB"
      },
      "outputs": [],
      "source": [
        "# Process the received search string and display search results in the GUI\n",
        "def receive_search_string(search_string):\n",
        "\n",
        "  # If search string is empty, return\n",
        "  if search_string.strip() == \"\":\n",
        "    return\n",
        "\n",
        "  # Store original search string before modification\n",
        "  original_search_string = search_string\n",
        "\n",
        "  search_string = search_string.lower()\n",
        "\n",
        "  # Switch to the results screen\n",
        "  html_filename = f\"https://raw.githubusercontent.com/ndvp39/CloudComputing-tirgul/main/Project/GUI/results.html\"\n",
        "  js_filename = f\"https://raw.githubusercontent.com/ndvp39/CloudComputing-tirgul/main/Project/GUI/script.js\"\n",
        "  switchToScreen(css_filename, html_filename, js_filename)\n",
        "\n",
        "  # JavaScript code to set the search bar text\n",
        "  js_code = f\"\"\"\n",
        "    <script>\n",
        "      document.getElementById(\"searchbartext\").value = \"{original_search_string}\";\n",
        "    </script>\n",
        "    \"\"\"\n",
        "\n",
        "  # Retrieve search results\n",
        "  titles, links, times_appeared = get_titles_links_of_search(search_string)\n",
        "\n",
        "  # Convert Python arrays to JavaScript arrays\n",
        "  titles_js_array = ', '.join(f'\"{title}\"' for title in titles)\n",
        "  links_js_array = ', '.join(f'\"{link}\"' for link in links)\n",
        "  times_appeared_str = str(times_appeared)\n",
        "\n",
        "  # JavaScript code to render search results\n",
        "  js_code_2 = f\"\"\"\n",
        "    <script>\n",
        "      renderResults_title_link([ {titles_js_array} ], [ {links_js_array} ], [{times_appeared_str}]);\n",
        "    </script>\n",
        "  \"\"\"\n",
        "\n",
        "  display(HTML(js_code))\n",
        "  display(HTML(js_code_2))\n",
        "\n",
        "  # Update statistics if search results are available\n",
        "  if titles:\n",
        "    update_or_add_statistic(search_string)\n",
        "\n",
        "# Register the function to be called from JavaScript\n",
        "output.register_callback('notebook.receive_search_string', receive_search_string)\n",
        "\n",
        "# Switch to the home page of the GUI.\n",
        "def back_to_home_page():\n",
        "  html_filename = f\"https://raw.githubusercontent.com/ndvp39/CloudComputing-tirgul/main/Project/GUI/index.html\"\n",
        "  switchToScreen(css_filename, html_filename, js_filename)\n",
        "\n",
        "# Register the function to be called from JavaScript\n",
        "output.register_callback('notebook.back_to_home_page', back_to_home_page)\n"
      ]
    },
    {
      "cell_type": "code",
      "source": [
        "# Switch to the chatbot page of the GUI\n",
        "def open_chatbot_page():\n",
        "  html_filename = f\"https://raw.githubusercontent.com/ndvp39/CloudComputing-tirgul/main/Project/GUI/chatbot.html\"\n",
        "  switchToScreen(css_filename, html_filename, js_filename)\n",
        "\n",
        "# Register the function to be called from JavaScript\n",
        "output.register_callback('notebook.open_chatbot_page', open_chatbot_page)\n",
        "\n",
        "# Receive a question from the chatbot interface and provide a response\n",
        "def receive_question_chatbot(question):\n",
        "  empty_string = False\n",
        "\n",
        "  if question == \"\":\n",
        "    empty_string = True\n",
        "\n",
        "  # Get response from the chatbot\n",
        "  response = chatbot.respond(question)\n",
        "  response = response.strip('\"\\'')\n",
        "  print(response)\n",
        "  if response is None:\n",
        "    response = \"I'm unable to generate a response to that question. Is there anything else I can assist you with?\"\n",
        "\n",
        "  # A case for empty string search.\n",
        "  if empty_string:\n",
        "    response = \"It seems like your message is blank. How can I assist you today? If you have any questions or need assistance, feel free to ask!\"\n",
        "\n",
        "  # Strings that are currently not / shouldn't be compatible with PantherBOT.\n",
        "  if \"May 6-9, 2024\" in response or \"An error occurred\" in response or '\"' in response:\n",
        "    response = \"An error has occurred. If the issue persists, please retry in a few seconds.\"\n",
        "\n",
        "\n",
        "  # Generate JavaScript code to display the chatbot response\n",
        "  js_code = f\"\"\"\n",
        "      <script>\n",
        "        ChatbotResponse(\"{response}\");\n",
        "      </script>\n",
        "    \"\"\"\n",
        "\n",
        "  display(HTML(js_code))\n",
        "\n",
        "# Register the function to be called from JavaScript\n",
        "output.register_callback('notebook.receive_question_chatbot', receive_question_chatbot)"
      ],
      "metadata": {
        "id": "FBzEBtiUXX6r"
      },
      "execution_count": 21,
      "outputs": []
    },
    {
      "cell_type": "code",
      "execution_count": 22,
      "metadata": {
        "id": "qhsHJ-1zcLeH"
      },
      "outputs": [],
      "source": [
        "# Switch to the indexeditor page\n",
        "def open_indexeditor_page():\n",
        "  html_filename = \"https://raw.githubusercontent.com/ndvp39/CloudComputing-tirgul/main/Project/GUI/admin.html\"\n",
        "  switchToScreen(None, html_filename, None)\n",
        "\n",
        "# Register the function to be called from JavaScript\n",
        "output.register_callback('notebook.open_indexeditor_page', open_indexeditor_page)\n",
        "\n",
        "# Switch to the statistics page\n",
        "def open_statistics_screen():\n",
        "  html_filename = \"https://raw.githubusercontent.com/ndvp39/CloudComputing-tirgul/main/Project/GUI/statistics.html\"\n",
        "  switchToScreen(None, html_filename, None)\n",
        "\n",
        "# Register the function to be called from JavaScript\n",
        "output.register_callback('notebook.open_statistics_screen', open_statistics_screen)\n",
        "\n",
        "# Switch to the admin page\n",
        "def back_to_admin():\n",
        "  html_filename = \"https://raw.githubusercontent.com/ndvp39/CloudComputing-tirgul/main/Project/GUI/admin.html\"\n",
        "  switchToScreen(None, html_filename, None)\n",
        "\n",
        "# Register the function to be called from JavaScript\n",
        "output.register_callback('notebook.back_to_admin', back_to_admin)\n"
      ]
    },
    {
      "cell_type": "markdown",
      "source": [
        "Administration:"
      ],
      "metadata": {
        "id": "yy6NU_i3_Lpc"
      }
    },
    {
      "cell_type": "code",
      "source": [
        "# Run the administration.ipynb notebook\n",
        "%cd /content/CloudComputing-tirgul/Project/Administration/\n",
        "%run administration.ipynb"
      ],
      "metadata": {
        "colab": {
          "base_uri": "https://localhost:8080/"
        },
        "id": "g0vsAAw47Gob",
        "outputId": "dcdb9574-c2ac-459c-e91e-7d392368c894"
      },
      "execution_count": 23,
      "outputs": [
        {
          "output_type": "stream",
          "name": "stdout",
          "text": [
            "/content/CloudComputing-tirgul/Project/Administration\n",
            "/content/CloudComputing-tirgul/Project/Index\n"
          ]
        }
      ]
    },
    {
      "cell_type": "markdown",
      "source": [
        "Loading the main page"
      ],
      "metadata": {
        "id": "eskAhPU0PQmy"
      }
    },
    {
      "cell_type": "code",
      "source": [
        "css_filename = f\"https://raw.githubusercontent.com/ndvp39/CloudComputing-tirgul/main/Project/GUI/style.css\"\n",
        "js_filename = f\"https://raw.githubusercontent.com/ndvp39/CloudComputing-tirgul/main/Project/GUI/script.js\"\n",
        "html_filename = f\"https://raw.githubusercontent.com/ndvp39/CloudComputing-tirgul/main/Project/GUI/index.html\"\n",
        "switchToScreen(css_filename, html_filename, js_filename)\n",
        "\n",
        "#========================#\n",
        "#                        #\n",
        "# ADMIN PASSWORD: 123456 #\n",
        "#                        #\n",
        "#========================#"
      ],
      "metadata": {
        "colab": {
          "base_uri": "https://localhost:8080/",
          "height": 1000
        },
        "id": "fXLNd03YPP4x",
        "outputId": "c82ffed7-6053-4f0f-fd1b-3ae8a7c49462"
      },
      "execution_count": 24,
      "outputs": [
        {
          "output_type": "display_data",
          "data": {
            "text/plain": [
              "<IPython.core.display.HTML object>"
            ],
            "text/html": [
              "<style>    <style>\r\n",
              "/* Styling of navigation bar */\r\n",
              "\r\n",
              "        nav img{\r\n",
              "          margin-top: 5px;\r\n",
              "        }\r\n",
              "        #logoimg{\r\n",
              "          margin-top: 100px;\r\n",
              "          \r\n",
              "        }\r\n",
              "        #logoimgresults{\r\n",
              "          justify-content: left;\r\n",
              "          align-items: left;\r\n",
              "        }\r\n",
              "\r\n",
              "        #emojiheaderdiv{\r\n",
              "            margin-left: auto;\r\n",
              "        }\r\n",
              "\r\n",
              "        #headerdiv{\r\n",
              "            padding: 10px;\r\n",
              "            display:flex;\r\n",
              "            align-items: right;\r\n",
              "        }\r\n",
              "\r\n",
              "        button{\r\n",
              "          border-radius: 3px;\r\n",
              "          height:100%;\r\n",
              "          padding:5px 12px;\r\n",
              "          background-color: #007bff ;\r\n",
              "          color: #ffffff;\r\n",
              "          margin-left: 0.5em;\r\n",
              "          border:none;\r\n",
              "        }\r\n",
              "        #lowersection\r\n",
              "        {\r\n",
              "            width: 121px;\r\n",
              "            height: 40px;\r\n",
              "        }\r\n",
              "        /* setting up size and border stle of search bar*/\r\n",
              "        #maindiv{\r\n",
              "        width:35%;\r\n",
              "        border-radius: 50px;\r\n",
              "        display: flex;\r\n",
              "        height:40px;\r\n",
              "        border:1px solid lightgrey;\r\n",
              "        }\r\n",
              "        #inputspan {\r\n",
              "          width: 100%;\r\n",
              "          padding: 0; /* Remove padding */\r\n",
              "          margin: 0;\r\n",
              "          border-radius: 24px;  /* Set the same border-radius as the parent */\r\n",
              "      }\r\n",
              "      #inputspan input {\r\n",
              "          background-color: var(--color-realbox-background);\r\n",
              "          border: none;\r\n",
              "          border-radius: var(--ntp-realbox-border-radius);\r\n",
              "          color: var(--color-realbox-foreground);\r\n",
              "          font-family: inherit;\r\n",
              "          font-size: inherit;\r\n",
              "          height: 100%;\r\n",
              "          outline: 0;\r\n",
              "          position: relative;\r\n",
              "          width: 85%;\r\n",
              "      }\r\n",
              "        span{\r\n",
              "          vertical-align: top;\r\n",
              "        }\r\n",
              "        span:first-child{\r\n",
              "          width:10%;\r\n",
              "          border-radius: 50px;\r\n",
              "          margin-top: 7px;\r\n",
              "        }\r\n",
              "        span:last-child{\r\n",
              "          width:10%;\r\n",
              "          border-radius: 50px;\r\n",
              "          margin-top: 7px;\r\n",
              "        }\r\n",
              "        input{\r\n",
              "          height:100%;\r\n",
              "          width:100%;\r\n",
              "          border: none;\r\n",
              "          padding:0px;\r\n",
              "        }\r\n",
              "        section{\r\n",
              "          display: flex;\r\n",
              "          margin-top: 2%;\r\n",
              "          width:23%;\r\n",
              "          justify-content: space-around;\r\n",
              "          margin-bottom: 2%;\r\n",
              "        }\r\n",
              "        section button{\r\n",
              "          padding:10px 12px;\r\n",
              "          background-color: #606060;\r\n",
              "          color:#ffffff;\r\n",
              "        }\r\n",
              "        /*When hovered*/\r\n",
              "      \r\n",
              "        button:hover{\r\n",
              "          border: 1px solid gray;\r\n",
              "          cursor: pointer;\r\n",
              "        }\r\n",
              "        .material-symbols-outlined{\r\n",
              "          margin-right: 0.3em;\r\n",
              "        }\r\n",
              "\r\n",
              "\r\n",
              "        /* ------------------------------------------------------------------------- */\r\n",
              "\r\n",
              "        body {\r\n",
              "          min-height: 100%;\r\n",
              "          position: relative;\r\n",
              "          background-color: #303030;\r\n",
              "      }\r\n",
              "      \r\n",
              "      #topbar {\r\n",
              "          display: flex;\r\n",
              "          padding-bottom: 10px;\r\n",
              "          height: 64px;\r\n",
              "          width: 100%;\r\n",
              "          align-items: flex-end;\r\n",
              "          position: fixed;\r\n",
              "          background-color: #303030;\r\n",
              "      }\r\n",
              "      \r\n",
              "      #searchbarimage {\r\n",
              "          margin-top: 20px;\r\n",
              "          margin-right: 20px;\r\n",
              "          margin-left: 20px;\r\n",
              "          height: 55px;\r\n",
              "          width: 55px;\r\n",
              "          cursor: pointer;\r\n",
              "      }\r\n",
              "      \r\n",
              "      html, body {\r\n",
              "          margin: 0;\r\n",
              "          padding: 0;\r\n",
              "          height: auto;\r\n",
              "      }\r\n",
              "      \r\n",
              "      \r\n",
              "      #searchbarbutton {\r\n",
              "          height: 45px;\r\n",
              "          width: 55px;\r\n",
              "          \r\n",
              "          margin-right: -2px;\r\n",
              "          background-color: #303030;\r\n",
              "      }\r\n",
              "      \r\n",
              "      #searchbarbutton svg {\r\n",
              "          height: 25px;\r\n",
              "          width: 35px;\r\n",
              "          position: relative;\r\n",
              "          left: -3px;\r\n",
              "      }\r\n",
              "      \r\n",
              "      #searchbarbutton svg path {\r\n",
              "          fill: #4285F4\r\n",
              "      }\r\n",
              "      \r\n",
              "      #searchbar {\r\n",
              "          width: 625px;\r\n",
              "          height: 45px;\r\n",
              "          margin-top: 20px;\r\n",
              "          border-radius: 100px;\r\n",
              "          border-color: #D5D5D5;\r\n",
              "          border-style: solid;\r\n",
              "          border-width: 1px;\r\n",
              "          font-size: 16px;\r\n",
              "          position: relative;\r\n",
              "          bottom: 5px;\r\n",
              "          overflow: hidden;\r\n",
              "          display: flex;\r\n",
              "          z-index: 100;\r\n",
              "      }\r\n",
              "      \r\n",
              "      #searchbar:hover {\r\n",
              "          box-shadow: 0px 2px 5px rgba(0,0,0,0.1);\r\n",
              "      }\r\n",
              "      \r\n",
              "      #searchbar > input {\r\n",
              "          height: 45px;\r\n",
              "          border-style: none;\r\n",
              "          font-size: 16px;\r\n",
              "          line-height: 45px;\r\n",
              "          padding-left: 20px;\r\n",
              "          flex: 1;\r\n",
              "      }\r\n",
              "      \r\n",
              "      #searchbar > input:focus {\r\n",
              "          outline: none;\r\n",
              "      }\r\n",
              "      \r\n",
              "      #searchbar button {\r\n",
              "          border: none;\r\n",
              "          cursor: pointer;\r\n",
              "      }\r\n",
              "      \r\n",
              "      #searchbar button:focus {\r\n",
              "          outline: none;\r\n",
              "      }\r\n",
              "      \r\n",
              "      #searchresultsarea {\r\n",
              "          margin-left: 3em;\r\n",
              "          font-family: 'Arial';\r\n",
              "          margin-bottom: 100px;\r\n",
              "      }\r\n",
              "      \r\n",
              "      #searchresultsnumber {\r\n",
              "          font-size: 0.8rem;\r\n",
              "          color: gray;\r\n",
              "      }\r\n",
              "      \r\n",
              "      .searchresult {\r\n",
              "          margin-left: 8px;\r\n",
              "          outline-color: #551A8B;\r\n",
              "   \r\n",
              "      }\r\n",
              "      \r\n",
              "      .searchresult h2 {\r\n",
              "          font-size: 19px;\r\n",
              "          line-height: 18px;\r\n",
              "          font-weight: normal;\r\n",
              "          color: #8ab4f8;\r\n",
              "          margin-bottom: 0px;\r\n",
              "          margin-top: 25px;\r\n",
              "          cursor: pointer;\r\n",
              "      }\r\n",
              "      \r\n",
              "      .searchresult a {\r\n",
              "          font-size: 14px;\r\n",
              "          line-height: 14px;\r\n",
              "          color: green;\r\n",
              "          margin-bottom: 0px;\r\n",
              "      }\r\n",
              "      \r\n",
              "      .searchresult button {\r\n",
              "          font-size: 10px;\r\n",
              "          line-height: 14px;\r\n",
              "          color: green;\r\n",
              "          margin-bottom: 0px;\r\n",
              "          padding: 0px;\r\n",
              "          border-width: 0px;\r\n",
              "          background-color: white;\r\n",
              "      }\r\n",
              "      \r\n",
              "      #bellicon {\r\n",
              "          width: 20px;\r\n",
              "          height: 20px;\r\n",
              "          position: absolute;\r\n",
              "          right: 90px;\r\n",
              "          bottom: 18px;\r\n",
              "          padding-right: 20px;\r\n",
              "          margin-right: 20px;\r\n",
              "      }\r\n",
              "      \r\n",
              "      #profileimage {\r\n",
              "          border-radius: 3px;\r\n",
              "          width: 70px;\r\n",
              "          height: 36px;\r\n",
              "          position: absolute;\r\n",
              "          right: 40px;\r\n",
              "          bottom: 12px;\r\n",
              "          margin-left: 10px;\r\n",
              "          background-color: #007bff;\r\n",
              "      }\r\n",
              "      \r\n",
              "      #optionsbar {\r\n",
              "          width: 100%;\r\n",
              "          height: 10px;\r\n",
              "          border-width: 0px;\r\n",
              "          border-bottom: 1px;\r\n",
              "          border-color: 3c4043;\r\n",
              "          border-style: solid;\r\n",
              "          display: flex;\r\n",
              "          align-items: flex-end;\r\n",
              "          font-family: 'Arial';\r\n",
              "          font-size: 13px;\r\n",
              "          color: rgb(112, 112, 112);\r\n",
              "          padding-top: 64px;\r\n",
              "      }\r\n",
              "      \r\n",
              "      #optionsmenu1 {\r\n",
              "          list-style: none;\r\n",
              "          display: flex;\r\n",
              "          flex-direction: row;\r\n",
              "          padding: 0px;\r\n",
              "          margin: 0px;\r\n",
              "          margin-left: 150px;\r\n",
              "      }\r\n",
              "      \r\n",
              "      #optionsmenu1 li {\r\n",
              "          padding: 0px 10px 15px 20px;\r\n",
              "      }\r\n",
              "      \r\n",
              "      #optionsmenuactive {\r\n",
              "          color: #4285F4;\r\n",
              "          font-weight: bold;\r\n",
              "          position: relative;\r\n",
              "          z-index: -1;\r\n",
              "      }\r\n",
              "      \r\n",
              "      .searchresult p {\r\n",
              "          width: 625px;\r\n",
              "          font-size: 13px;\r\n",
              "          margin-top: 0px;\r\n",
              "          color: rgb(82, 82, 82);\r\n",
              "\r\n",
              "      }\r\n",
              "      \r\n",
              "      .relatedsearches h3 {\r\n",
              "          font-weight: normal;\r\n",
              "          font-size: 19px;\r\n",
              "          margin-top: 40px;\r\n",
              "          margin-bottom: 10px;\r\n",
              "      }\r\n",
              "      \r\n",
              "      .relatedlists ul {\r\n",
              "          list-style: none;\r\n",
              "          color: rgb(29, 1, 189);\r\n",
              "          padding-left: 0px;\r\n",
              "          font-size: 14px;\r\n",
              "          margin-bottom: 50px;\r\n",
              "      }\r\n",
              "      \r\n",
              "      .relatedlists {\r\n",
              "          display: flex;\r\n",
              "          flex-direction: row;\r\n",
              "          justify-content: space-between;\r\n",
              "          width: 300px;\r\n",
              "      }\r\n",
              "      \r\n",
              "      .relatedlists ul li {\r\n",
              "          margin-bottom: 8px;\r\n",
              "      }\r\n",
              "      \r\n",
              "      .pagelist {\r\n",
              "          list-style: none;\r\n",
              "          color: rgb(29, 135, 255);\r\n",
              "          display: flex;\r\n",
              "          flex-direction: row;\r\n",
              "          font-size: 12px;\r\n",
              "          margin-bottom: 30px;\r\n",
              "          margin-left: 100px;\r\n",
              "      }\r\n",
              "      \r\n",
              "      .pagelistprevious::before {\r\n",
              "          content: '<';\r\n",
              "          display: block;\r\n",
              "          position: absolute;\r\n",
              "          right: 12px;\r\n",
              "          top: -35px;\r\n",
              "          color: rgb(29, 135, 255);\r\n",
              "          font-size: 20px;\r\n",
              "          transform: scale(0.7, 1.2);\r\n",
              "      }\r\n",
              "      \r\n",
              "      .pagelistprevious::after {\r\n",
              "          content: '';\r\n",
              "          display: block;\r\n",
              "          position: absolute;\r\n",
              "          right: -40px;\r\n",
              "          top: -35px;\r\n",
              "          width: 40px;\r\n",
              "          height: 40px;\r\n",
              "          background-image: url('images/g.png');\r\n",
              "          background-repeat: no-repeat;\r\n",
              "          background-size: 28px;\r\n",
              "      }\r\n",
              "      \r\n",
              "      .pagelistfirst {\r\n",
              "          margin-left: 20px;\r\n",
              "          font-size: 13px;\r\n",
              "      }\r\n",
              "      \r\n",
              "      .pagelistnumber::before, .pagelistfirst::before {\r\n",
              "          content: '';\r\n",
              "          display: block;\r\n",
              "          position: absolute;\r\n",
              "          left: -2px;\r\n",
              "          top: -21px;\r\n",
              "          border-radius: 50px;\r\n",
              "          width: 10px;\r\n",
              "          height: 10px;\r\n",
              "          background-color: white;\r\n",
              "          z-index: 3;\r\n",
              "      }\r\n",
              "      \r\n",
              "      .pagelistnumber::after {\r\n",
              "          content: '';\r\n",
              "          display: block;\r\n",
              "          position: absolute;\r\n",
              "          left: -6px;\r\n",
              "          top: -25px;\r\n",
              "          border-radius: 50px;\r\n",
              "          width: 18px;\r\n",
              "          height: 18px;\r\n",
              "          background-color: rgb(255, 196, 0);\r\n",
              "          z-index: 2;\r\n",
              "      }\r\n",
              "      \r\n",
              "      .pagelistfirst::after {\r\n",
              "          content: '';\r\n",
              "          display: block;\r\n",
              "          position: absolute;\r\n",
              "          left: -6px;\r\n",
              "          top: -25px;\r\n",
              "          border-radius: 50px;\r\n",
              "          width: 18px;\r\n",
              "          height: 18px;\r\n",
              "          background-color: red;\r\n",
              "          z-index: 2;\r\n",
              "      }\r\n",
              "      \r\n",
              "      .pagelist li {\r\n",
              "          margin-right: 15px;\r\n",
              "          position: relative;\r\n",
              "      }\r\n",
              "      \r\n",
              "      .pagelistnext {\r\n",
              "          margin-left: 40px;\r\n",
              "          font-size: 13px;\r\n",
              "      }\r\n",
              "      \r\n",
              "      .pagelistnext::before {\r\n",
              "          content: '>';\r\n",
              "          display: block;\r\n",
              "          position: absolute;\r\n",
              "          left: 5px;\r\n",
              "          top: -35px;\r\n",
              "          color: rgb(29, 135, 255);\r\n",
              "          font-size: 20px;\r\n",
              "          transform: scale(0.7, 1.2);\r\n",
              "      }\r\n",
              "      \r\n",
              "      .pagelistnext::after {\r\n",
              "          content: '';\r\n",
              "          display: block;\r\n",
              "          position: absolute;\r\n",
              "          left: -55px;\r\n",
              "          top: -37px;\r\n",
              "          width: 50px;\r\n",
              "          height: 50px;\r\n",
              "          background-image: url('images/gle.png');\r\n",
              "          background-repeat: no-repeat;\r\n",
              "          background-size: 48px;\r\n",
              "      }\r\n",
              "      \r\n",
              "      \r\n",
              "#footer {\r\n",
              "    background-color: #303030;\r\n",
              "    align-items: left;\r\n",
              "    width: 100%;\r\n",
              "    font-size: 13px;\r\n",
              "    font-family: 'Arial', sans-serif;\r\n",
              "    color: #555555; \r\n",
              "    bottom: 0; \r\n",
              "    position: relative; \r\n",
              "    border-top: 2px solid #3c4043;\r\n",
              "    \r\n",
              "}\r\n",
              "\r\n",
              "#footermenu {\r\n",
              "    list-style: none;\r\n",
              "    flex-direction: row;\r\n",
              "    margin-left: 100px;\r\n",
              "    margin-bottom: 0px;\r\n",
              "    display: flex;\r\n",
              "    align-items: left;\r\n",
              "    padding-bottom: 10px;\r\n",
              "\r\n",
              "}\r\n",
              "\r\n",
              "#footermenu li {\r\n",
              "    color: #9aa0a6;\r\n",
              "}\r\n",
              "\r\n",
              "#footerlocation {\r\n",
              "    display: inline-flex; \r\n",
              "    flex-direction: row;\r\n",
              "    direction: row;\r\n",
              "    top: -5px;\r\n",
              "}\r\n",
              "\r\n",
              "#footerlocation p:nth-of-type(1) {\r\n",
              "    font-weight: bold;\r\n",
              "}\r\n",
              "    </style></style>"
            ]
          },
          "metadata": {}
        },
        {
          "output_type": "display_data",
          "data": {
            "text/plain": [
              "<IPython.core.display.HTML object>"
            ],
            "text/html": [
              "<!DOCTYPE html>\r\n",
              "<html lang=\"en\">\r\n",
              "<head>\r\n",
              "    <meta charset=\"UTF-8\">\r\n",
              "    <meta name=\"viewport\" content=\"width=device-width, initial-scale=1.0\">\r\n",
              "    <link rel=\"stylesheet\" href=\"https://fonts.googleapis.com/css2?family=Material+Symbols+Outlined:opsz,wght,FILL,GRAD@20..48,100..700,0..1,-50..200\" />\r\n",
              "    <title>Your Chatbot Screen</title>\r\n",
              "    <style>\r\n",
              "        body {\r\n",
              "            background-color: #303030; /* Dark background color */\r\n",
              "            margin: 0;\r\n",
              "            padding: 0;\r\n",
              "            font-family: Arial, sans-serif;\r\n",
              "            color: #ffffff; /* White text color */\r\n",
              "        }\r\n",
              "        header {\r\n",
              "            background-color: #404040;\r\n",
              "            padding: 15px; /* Adjust padding as needed */\r\n",
              "            text-align: center;\r\n",
              "            display: flex;\r\n",
              "            align-items: center; /* Vertically center items */\r\n",
              "            justify-content: space-between; /* Distribute items along the flex container */\r\n",
              "        }\r\n",
              "\r\n",
              "        h1 {\r\n",
              "            margin: 0; /* Remove default margin */\r\n",
              "            padding: 10px 0; /* Adjust padding as needed */\r\n",
              "            font-size: 24px; /* Adjust font size as needed */\r\n",
              "        }\r\n",
              "\r\n",
              "        #chat-container {\r\n",
              "            max-width: 600px;\r\n",
              "            margin: 50px auto;\r\n",
              "            background-color: #333; /* Darker grey chat container background color */\r\n",
              "            box-shadow: 0 0 10px rgba(0, 0, 0, 0.1);\r\n",
              "            border-radius: 10px;\r\n",
              "            overflow: hidden;\r\n",
              "        }\r\n",
              "\r\n",
              "        #chat {\r\n",
              "            padding: 20px;\r\n",
              "            overflow-y: auto;\r\n",
              "            max-height: 300px;\r\n",
              "            background-color: #222; /* Dark grey chat background color */\r\n",
              "        }\r\n",
              "\r\n",
              "        #input-container {\r\n",
              "            display: flex;\r\n",
              "            padding: 10px;\r\n",
              "            justify-content: space-between;\r\n",
              "            background-color: #111; /* Dark background color for input bar */\r\n",
              "            align-items: center;\r\n",
              "        }\r\n",
              "\r\n",
              "        #user-input-chatbot {\r\n",
              "            flex: 1;\r\n",
              "            padding: 10px;\r\n",
              "            border: none;\r\n",
              "            border-radius: 5px;\r\n",
              "            margin-right: 10px;\r\n",
              "            font-size: 16px;\r\n",
              "            background-color: #333; /* Darker grey input bar background color */\r\n",
              "            color: #fff; /* White text color for input bar */\r\n",
              "        }\r\n",
              "\r\n",
              "        #send-button {\r\n",
              "            padding: 10px;\r\n",
              "            background-color: #444; /* Darker grey button background color */\r\n",
              "            border: none;\r\n",
              "            border-radius: 5px;\r\n",
              "            color: #fff; /* White button text color */\r\n",
              "            cursor: pointer;\r\n",
              "            font-size: 16px;\r\n",
              "        }\r\n",
              "        \r\n",
              "        #arrow_button_chatbot{\r\n",
              "            margin-right:35px;\r\n",
              "        }\r\n",
              "        .back-button {\r\n",
              "            background-color: transparent;\r\n",
              "            border-radius: 80px;\r\n",
              "            width: 60px;\r\n",
              "            height: 60px; \r\n",
              "            background: none;\r\n",
              "            border: none;\r\n",
              "            padding-right: 15px;\r\n",
              "        }\r\n",
              "        \r\n",
              "         .back-button .material-symbols-outlined {\r\n",
              "            font-size: 40px;\r\n",
              "         }\r\n",
              "        \r\n",
              "        .back-button:focus {\r\n",
              "            outline: none; \r\n",
              "        }\r\n",
              "        \r\n",
              "        .back-button:hover {\r\n",
              "            background-color: #606060;\r\n",
              "        }\r\n",
              "        #logoimgchatbot\r\n",
              "        {\r\n",
              "            height: 90px;\r\n",
              "            width: 90px;\r\n",
              "            cursor: pointer;\r\n",
              "        }\r\n",
              "    </style>\r\n",
              "</head>\r\n",
              "<body>\r\n",
              "\r\n",
              "    <header>\r\n",
              "        <button class=\"back-button\" onclick = \"backToHomePage()\">\r\n",
              "           <span id = \"arrow_button_chatbot\"class=\"material-symbols-outlined\">Arrow_Back</span>\r\n",
              "       </button>\r\n",
              "       <h1>PantherBOT</h1>\r\n",
              "       <img src=\"https://github.com/ndvp39/CloudComputing-tirgul/blob/main/Project/Images/icon.png?raw=true\" id=\"logoimgchatbot\" onclick = \"backToHomePage()\">\r\n",
              "   </header>\r\n",
              "\r\n",
              "    <div id=\"chat-container\">\r\n",
              "        <div id=\"chat\"></div>\r\n",
              "        <div id=\"input-container\">\r\n",
              "            <input type=\"text\" id=\"user-input-chatbot\" placeholder=\"Type your question...\">\r\n",
              "            <button id=\"send-button\" onclick=\"askChatbot()\">Send</button>\r\n",
              "        </div>\r\n",
              "    </div>\r\n",
              "    <script>\r\n",
              "\r\n",
              "        // Adds an event listener to the user input field to trigger a chatbot query when the Enter key is pressed\r\n",
              "        function addSearchEventListener() \r\n",
              "        {\r\n",
              "            document.getElementById(\"user-input-chatbot\").addEventListener(\"keyup\", function(event) \r\n",
              "            {\r\n",
              "                // Check if the pressed key is Enter (key code 13)\r\n",
              "                if (event.keyCode === 13) \r\n",
              "                {\r\n",
              "                    askChatbot();\r\n",
              "                }\r\n",
              "            });\r\n",
              "        }\r\n",
              "        addSearchEventListener()\r\n",
              "    </script>\r\n",
              "</body>\r\n",
              "</html>\r\n"
            ]
          },
          "metadata": {}
        },
        {
          "output_type": "display_data",
          "data": {
            "text/plain": [
              "<IPython.core.display.Javascript object>"
            ],
            "application/javascript": [
              "// Sends the search string entered by the user to the backend to perform a search action\r\n",
              "function performSearch() {\r\n",
              "    // Get the search string entered by the user\r\n",
              "    var searchString = document.getElementById('searchInput').value;\r\n",
              "    \r\n",
              "    // Send the search string to Python using the output module\r\n",
              "    google.colab.kernel.invokeFunction('notebook.receive_search_string', [searchString], {});\r\n",
              "}\r\n",
              "\r\n",
              "// Sends the search string entered by the user in the result screen to the backend to perform a search action\r\n",
              "function performSearch_again() {\r\n",
              "    var searchString = document.getElementById('searchbartext').value;\r\n",
              "    google.colab.kernel.invokeFunction('notebook.receive_search_string', [searchString], {});\r\n",
              "}\r\n",
              "\r\n",
              "// Sends a request to the backend to navigate back to the home page\r\n",
              "function backToHomePage() {\r\n",
              "    google.colab.kernel.invokeFunction('notebook.back_to_home_page', [], {});\r\n",
              "}\r\n",
              "\r\n",
              "// Sends a request to the backend to navigate back to the admin page\r\n",
              "function backToAdmin()\r\n",
              "{\r\n",
              "     google.colab.kernel.invokeFunction('notebook.back_to_admin', [], {});\r\n",
              "}\r\n",
              "\r\n",
              "// Sends a request to the backend to open the chatbot page\r\n",
              "function openChatBot() {\r\n",
              "    google.colab.kernel.invokeFunction('notebook.open_chatbot_page', [], {});\r\n",
              "}\r\n",
              "\r\n",
              "const correctPassword = \"123456\";\r\n",
              "\r\n",
              "// Function to open the admin page\r\n",
              "function openAdminPage() {\r\n",
              "    // Ask the user for a password\r\n",
              "    const userInput = prompt(\"Please enter the password:\", \"Enter Password\");\r\n",
              "\r\n",
              "    // Check if the user input matches the correct password\r\n",
              "    if (userInput === correctPassword) {\r\n",
              "        // Redirect to the admin page\r\n",
              "        google.colab.kernel.invokeFunction('notebook.open_indexeditor_page', [], {});\r\n",
              "    } else {\r\n",
              "        // Show an error message if the password is incorrect\r\n",
              "        alert(\"Incorrect password. Please try again.\");\r\n",
              "    }\r\n",
              "}\r\n",
              "\r\n",
              "// Sends the user's question to the backend to interact with the chatbot and changing the display screen\r\n",
              "function askChatbot() {\r\n",
              "    var question = document.getElementById('user-input-chatbot').value;\r\n",
              "    var chatContainer = document.getElementById('chat');\r\n",
              "    chatContainer.innerHTML += '<div><strong>User:</strong> ' + question + '</div>';\r\n",
              "    chatContainer.innerHTML += '<br>'; \r\n",
              "    // Send the question to Python using output module\r\n",
              "    google.colab.kernel.invokeFunction('notebook.receive_question_chatbot', [question], {});\r\n",
              "}\r\n",
              "\r\n",
              "// Appends the chatbot's response to the chat interface\r\n",
              "function ChatbotResponse(response) {\r\n",
              "    \r\n",
              "    // Append chatbot's response to the chat\r\n",
              "    var chatContainer = document.getElementById('chat');\r\n",
              "    chatContainer.innerHTML += '<div><strong style=\"color: #3498db;\">Chatbot:</strong> ' + response + '</div>';\r\n",
              "    chatContainer.innerHTML += '<br>'; \r\n",
              "    // Clear the user input\r\n",
              "    document.getElementById('user-input-chatbot').value = '';\r\n",
              "\r\n",
              "    // Scroll to the bottom of the chat\r\n",
              "    chatContainer.scrollTop = chatContainer.scrollHeight;\r\n",
              "}\r\n",
              "\r\n",
              "// Renders search results with titles and links\r\n",
              "function renderResults_title_link(titles, links, times_appeared) {\r\n",
              "    // Get the container where you want to append the new div elements\r\n",
              "    var container = document.getElementById('searchresultsarea');\r\n",
              "    \r\n",
              "    // Display search information\r\n",
              "    var searchInfoDiv = document.createElement('div');\r\n",
              "    var timesAppearedInfo = document.createElement('p');\r\n",
              "    timesAppearedInfo.innerText = `Your search appeared ${times_appeared} times in the following links`;\r\n",
              "    var numResultsInfo = document.createElement('p');\r\n",
              "    numResultsInfo.innerText = `Panther generated ${titles.length} results, in descending order`;\r\n",
              "    searchInfoDiv.appendChild(timesAppearedInfo);\r\n",
              "    searchInfoDiv.appendChild(numResultsInfo);\r\n",
              "    container.appendChild(searchInfoDiv);\r\n",
              "\r\n",
              "    // Check if there are no results\r\n",
              "    if(titles.length == 0 || links.length == 0){\r\n",
              "        var divElement = document.createElement('div');\r\n",
              "        var h2Element = document.createElement('h2');\r\n",
              "        h2Element.innerText = \"No results found.\";\r\n",
              "        divElement.appendChild(h2Element);\r\n",
              "        container.appendChild(divElement);\r\n",
              "        \r\n",
              "    }\r\n",
              "    else{\r\n",
              "\r\n",
              "        // Loop through titles and links arrays\r\n",
              "        for (var i = 0; i < titles.length; i++) {\r\n",
              "            // Create a new div element\r\n",
              "            var divElement = document.createElement('div');\r\n",
              "            divElement.classList.add('searchresult');\r\n",
              "    \r\n",
              "            // Create a new h2 element\r\n",
              "            var h2Element = document.createElement('h2');\r\n",
              "            h2Element.innerText = titles[i];\r\n",
              "    \r\n",
              "            // Create a new anchor element\r\n",
              "            var anchorElement = document.createElement('a');\r\n",
              "            anchorElement.href = links[i];\r\n",
              "            anchorElement.target = \"_blank\";\r\n",
              "            anchorElement.appendChild(h2Element);\r\n",
              "    \r\n",
              "            // Append the anchor element to the div element\r\n",
              "            divElement.appendChild(anchorElement);\r\n",
              "    \r\n",
              "            // Append the div element to the container\r\n",
              "            container.appendChild(divElement);\r\n",
              "        }\r\n",
              "    }\r\n",
              "}\r\n",
              "\r\n",
              "// Adds an event listener to the specified input element to trigger a function when the Enter key is pressed\r\n",
              "function addSearchEventListener(inputId, func) {\r\n",
              "    document.getElementById(inputId).addEventListener(\"keyup\", function(event) {\r\n",
              "      // Check if the pressed key is Enter (key code 13)\r\n",
              "      if (event.keyCode === 13) {\r\n",
              "        // Trigger the search function\r\n",
              "        func();\r\n",
              "      }\r\n",
              "    });\r\n",
              "  }\r\n",
              "\r\n",
              "\r\n",
              "  addSearchEventListener(\"searchInput\", performSearch);\r\n",
              "\r\n",
              "\r\n",
              "  \r\n",
              "\r\n",
              "  \r\n"
            ]
          },
          "metadata": {}
        },
        {
          "output_type": "stream",
          "name": "stdout",
          "text": [
            "Press release: Cathay Pacific takes customer experiences to new heights with Red Hat’s hybrid cloud technologies<br>you can read more in the link: https://www.redhat.com/en/success-stories/cathay-pacific\n"
          ]
        },
        {
          "output_type": "display_data",
          "data": {
            "text/plain": [
              "<IPython.core.display.HTML object>"
            ],
            "text/html": [
              "\n",
              "      <script>\n",
              "        ChatbotResponse(\"Press release: Cathay Pacific takes customer experiences to new heights with Red Hat’s hybrid cloud technologies<br>you can read more in the link: https://www.redhat.com/en/success-stories/cathay-pacific\");\n",
              "      </script>\n",
              "    "
            ]
          },
          "metadata": {}
        },
        {
          "output_type": "stream",
          "name": "stdout",
          "text": [
            "This video can't play due to privacy settings<br>you can read more in the link: https://www.redhat.com/en/technologies/cloud-computing/openshift/openshift-cloud-services?intcmp=7013a000003SoOdAAK\n"
          ]
        },
        {
          "output_type": "display_data",
          "data": {
            "text/plain": [
              "<IPython.core.display.HTML object>"
            ],
            "text/html": [
              "\n",
              "      <script>\n",
              "        ChatbotResponse(\"This video can't play due to privacy settings<br>you can read more in the link: https://www.redhat.com/en/technologies/cloud-computing/openshift/openshift-cloud-services?intcmp=7013a000003SoOdAAK\");\n",
              "      </script>\n",
              "    "
            ]
          },
          "metadata": {}
        },
        {
          "output_type": "stream",
          "name": "stdout",
          "text": [
            "Whatever the purpose, the most important detail of digital transformation is that it is more than the adoption or modernization of technology. It is often discussed in organizations that want to fundamentally improve technology’s role in many areas of their business—not just in IT. It is ideally seen as a continuous change to the status quo, rather than a project with an endpoint.<br>you can read more in the link: https://www.redhat.com/en/topics/digital-transformation\n"
          ]
        },
        {
          "output_type": "display_data",
          "data": {
            "text/plain": [
              "<IPython.core.display.HTML object>"
            ],
            "text/html": [
              "\n",
              "      <script>\n",
              "        ChatbotResponse(\"Whatever the purpose, the most important detail of digital transformation is that it is more than the adoption or modernization of technology. It is often discussed in organizations that want to fundamentally improve technology’s role in many areas of their business—not just in IT. It is ideally seen as a continuous change to the status quo, rather than a project with an endpoint.<br>you can read more in the link: https://www.redhat.com/en/topics/digital-transformation\");\n",
              "      </script>\n",
              "    "
            ]
          },
          "metadata": {}
        },
        {
          "output_type": "stream",
          "name": "stdout",
          "text": [
            "For organizations using Amazon Web Services® (AWS), an open-source enterprise Linux® distribution makes it easier to accommodate different infrastructure types and enables development and operations teams to innovate together in any environment. It improves time-to-market, reduces complexity, provides on-demand scalability, and lowers costs, among other benefits. <br>you can read more in the link: https://www.redhat.com/en/topics/linux/linux-on-aws\n"
          ]
        },
        {
          "output_type": "display_data",
          "data": {
            "text/plain": [
              "<IPython.core.display.HTML object>"
            ],
            "text/html": [
              "\n",
              "      <script>\n",
              "        ChatbotResponse(\"For organizations using Amazon Web Services® (AWS), an open-source enterprise Linux® distribution makes it easier to accommodate different infrastructure types and enables development and operations teams to innovate together in any environment. It improves time-to-market, reduces complexity, provides on-demand scalability, and lowers costs, among other benefits. <br>you can read more in the link: https://www.redhat.com/en/topics/linux/linux-on-aws\");\n",
              "      </script>\n",
              "    "
            ]
          },
          "metadata": {}
        },
        {
          "output_type": "stream",
          "name": "stdout",
          "text": [
            "An error occurred. If this issue persists please re-try in a few seconds.<br>you can read more in the link: https://www.redhat.com/en/blog?f[0]=taxonomy_topic_tid:75491#rhdc-search-listing\n"
          ]
        },
        {
          "output_type": "display_data",
          "data": {
            "text/plain": [
              "<IPython.core.display.HTML object>"
            ],
            "text/html": [
              "\n",
              "      <script>\n",
              "        ChatbotResponse(\"An error has occurred. If the issue persists, please retry in a few seconds.\");\n",
              "      </script>\n",
              "    "
            ]
          },
          "metadata": {}
        },
        {
          "output_type": "stream",
          "name": "stdout",
          "text": [
            "Because 4G is getting crowded. And the need for speed is greater than ever.<br>you can read more in the link: https://www.redhat.com/en/topics/5g-networks/what-is-5g\n"
          ]
        },
        {
          "output_type": "display_data",
          "data": {
            "text/plain": [
              "<IPython.core.display.HTML object>"
            ],
            "text/html": [
              "\n",
              "      <script>\n",
              "        ChatbotResponse(\"Because 4G is getting crowded. And the need for speed is greater than ever.<br>you can read more in the link: https://www.redhat.com/en/topics/5g-networks/what-is-5g\");\n",
              "      </script>\n",
              "    "
            ]
          },
          "metadata": {}
        },
        {
          "output_type": "stream",
          "name": "stdout",
          "text": [
            "Adopting edge computing is a high priority for many telecommunications service providers as they modernize their networks and seek new sources of revenue. Specifically, many service providers are moving workloads and services out of the core network (in datacenters) toward the network’s edge, to points of presence and central offices.<br>you can read more in the link: https://www.redhat.com/en/topics/edge-computing/telecommunications\n"
          ]
        },
        {
          "output_type": "display_data",
          "data": {
            "text/plain": [
              "<IPython.core.display.HTML object>"
            ],
            "text/html": [
              "\n",
              "      <script>\n",
              "        ChatbotResponse(\"Adopting edge computing is a high priority for many telecommunications service providers as they modernize their networks and seek new sources of revenue. Specifically, many service providers are moving workloads and services out of the core network (in datacenters) toward the network’s edge, to points of presence and central offices.<br>you can read more in the link: https://www.redhat.com/en/topics/edge-computing/telecommunications\");\n",
              "      </script>\n",
              "    "
            ]
          },
          "metadata": {}
        },
        {
          "output_type": "stream",
          "name": "stdout",
          "text": [
            "Red Hat Enterprise Linux is the world’s leading enterprise Linux platform,* certified on hundreds of clouds and with thousands of hardware and software vendors.<br>you can read more in the link: https://www.redhat.com/en/technologies/linux-platforms/enterprise-linux?intcmp=7013a000003Sl4pAAC\n"
          ]
        },
        {
          "output_type": "display_data",
          "data": {
            "text/plain": [
              "<IPython.core.display.HTML object>"
            ],
            "text/html": [
              "\n",
              "      <script>\n",
              "        ChatbotResponse(\"Red Hat Enterprise Linux is the world’s leading enterprise Linux platform,* certified on hundreds of clouds and with thousands of hardware and software vendors.<br>you can read more in the link: https://www.redhat.com/en/technologies/linux-platforms/enterprise-linux?intcmp=7013a000003Sl4pAAC\");\n",
              "      </script>\n",
              "    "
            ]
          },
          "metadata": {}
        },
        {
          "output_type": "stream",
          "name": "stdout",
          "text": [
            "Hybrid cloud refers to a combination of at least 2 computing environments that share information with one another and run a uniform series of applications for a business or enterprise. Those environments may include:<br>you can read more in the link: https://www.redhat.com/en/topics/cloud-computing/what-is-hybrid-cloud\n"
          ]
        },
        {
          "output_type": "display_data",
          "data": {
            "text/plain": [
              "<IPython.core.display.HTML object>"
            ],
            "text/html": [
              "\n",
              "      <script>\n",
              "        ChatbotResponse(\"Hybrid cloud refers to a combination of at least 2 computing environments that share information with one another and run a uniform series of applications for a business or enterprise. Those environments may include:<br>you can read more in the link: https://www.redhat.com/en/topics/cloud-computing/what-is-hybrid-cloud\");\n",
              "      </script>\n",
              "    "
            ]
          },
          "metadata": {}
        },
        {
          "output_type": "stream",
          "name": "stdout",
          "text": [
            "API stands for application programming interface, which is a set of definitions and protocols for building and integrating application software.<br>you can read more in the link: https://www.redhat.com/en/topics/api/what-are-application-programming-interfaces\n"
          ]
        },
        {
          "output_type": "display_data",
          "data": {
            "text/plain": [
              "<IPython.core.display.HTML object>"
            ],
            "text/html": [
              "\n",
              "      <script>\n",
              "        ChatbotResponse(\"API stands for application programming interface, which is a set of definitions and protocols for building and integrating application software.<br>you can read more in the link: https://www.redhat.com/en/topics/api/what-are-application-programming-interfaces\");\n",
              "      </script>\n",
              "    "
            ]
          },
          "metadata": {}
        },
        {
          "output_type": "stream",
          "name": "stdout",
          "text": [
            "Adopting edge computing is a high priority for many telecommunications service providers as they modernize their networks and seek new sources of revenue. Specifically, many service providers are moving workloads and services out of the core network (in datacenters) toward the network’s edge, to points of presence and central offices.<br>you can read more in the link: https://www.redhat.com/en/topics/edge-computing/telecommunications\n"
          ]
        },
        {
          "output_type": "display_data",
          "data": {
            "text/plain": [
              "<IPython.core.display.HTML object>"
            ],
            "text/html": [
              "\n",
              "      <script>\n",
              "        ChatbotResponse(\"Adopting edge computing is a high priority for many telecommunications service providers as they modernize their networks and seek new sources of revenue. Specifically, many service providers are moving workloads and services out of the core network (in datacenters) toward the network’s edge, to points of presence and central offices.<br>you can read more in the link: https://www.redhat.com/en/topics/edge-computing/telecommunications\");\n",
              "      </script>\n",
              "    "
            ]
          },
          "metadata": {}
        },
        {
          "output_type": "stream",
          "name": "stdout",
          "text": [
            "An error occurred: Exceeded 30 redirects.<br>you can read more in the link: https://www.redhat.com/en/topics/cloud-native-apps/service-brokers\n"
          ]
        },
        {
          "output_type": "display_data",
          "data": {
            "text/plain": [
              "<IPython.core.display.HTML object>"
            ],
            "text/html": [
              "\n",
              "      <script>\n",
              "        ChatbotResponse(\"An error has occurred. If the issue persists, please retry in a few seconds.\");\n",
              "      </script>\n",
              "    "
            ]
          },
          "metadata": {}
        },
        {
          "output_type": "stream",
          "name": "stdout",
          "text": [
            "IT integration, or systems integration, is the connection of data, applications, APIs, and devices across your IT organization to be more efficient, productive, and agile. Integration is key when discussing business transformation—fundamental changes in how you conduct business to adapt as the market shifts—as it makes everything in IT work together. Integration not only connects, but it also adds value through the new functionalities provided by connecting different systems’ functions. For instance, Apache Kafka is an open source platform that allows you to integrate streams of data with your applications, so they can act on data in real-time.<br>you can read more in the link: https://www.redhat.com/en/topics/integration/what-is-integration\n"
          ]
        },
        {
          "output_type": "display_data",
          "data": {
            "text/plain": [
              "<IPython.core.display.HTML object>"
            ],
            "text/html": [
              "\n",
              "      <script>\n",
              "        ChatbotResponse(\"IT integration, or systems integration, is the connection of data, applications, APIs, and devices across your IT organization to be more efficient, productive, and agile. Integration is key when discussing business transformation—fundamental changes in how you conduct business to adapt as the market shifts—as it makes everything in IT work together. Integration not only connects, but it also adds value through the new functionalities provided by connecting different systems’ functions. For instance, Apache Kafka is an open source platform that allows you to integrate streams of data with your applications, so they can act on data in real-time.<br>you can read more in the link: https://www.redhat.com/en/topics/integration/what-is-integration\");\n",
              "      </script>\n",
              "    "
            ]
          },
          "metadata": {}
        },
        {
          "output_type": "stream",
          "name": "stdout",
          "text": [
            " <br>you can read more in the link: https://www.redhat.com/en/success-stories/verizon?intcmp=7013a000003SlssAAC\n"
          ]
        },
        {
          "output_type": "display_data",
          "data": {
            "text/plain": [
              "<IPython.core.display.HTML object>"
            ],
            "text/html": [
              "\n",
              "      <script>\n",
              "        ChatbotResponse(\" <br>you can read more in the link: https://www.redhat.com/en/success-stories/verizon?intcmp=7013a000003SlssAAC\");\n",
              "      </script>\n",
              "    "
            ]
          },
          "metadata": {}
        },
        {
          "output_type": "stream",
          "name": "stdout",
          "text": [
            "IT integration, or systems integration, is the connection of data, applications, APIs, and devices across your IT organization to be more efficient, productive, and agile. Integration is key when discussing business transformation—fundamental changes in how you conduct business to adapt as the market shifts—as it makes everything in IT work together. Integration not only connects, but it also adds value through the new functionalities provided by connecting different systems’ functions. For instance, Apache Kafka is an open source platform that allows you to integrate streams of data with your applications, so they can act on data in real-time.<br>you can read more in the link: https://www.redhat.com/en/topics/integration/what-is-integration\n"
          ]
        },
        {
          "output_type": "display_data",
          "data": {
            "text/plain": [
              "<IPython.core.display.HTML object>"
            ],
            "text/html": [
              "\n",
              "      <script>\n",
              "        ChatbotResponse(\"IT integration, or systems integration, is the connection of data, applications, APIs, and devices across your IT organization to be more efficient, productive, and agile. Integration is key when discussing business transformation—fundamental changes in how you conduct business to adapt as the market shifts—as it makes everything in IT work together. Integration not only connects, but it also adds value through the new functionalities provided by connecting different systems’ functions. For instance, Apache Kafka is an open source platform that allows you to integrate streams of data with your applications, so they can act on data in real-time.<br>you can read more in the link: https://www.redhat.com/en/topics/integration/what-is-integration\");\n",
              "      </script>\n",
              "    "
            ]
          },
          "metadata": {}
        },
        {
          "output_type": "stream",
          "name": "stdout",
          "text": [
            "An error occurred. If this issue persists please re-try in a few seconds.<br>you can read more in the link: https://www.redhat.com/en/blog?f[0]=taxonomy_topic_tid:9011#rhdc-search-listing\n"
          ]
        },
        {
          "output_type": "display_data",
          "data": {
            "text/plain": [
              "<IPython.core.display.HTML object>"
            ],
            "text/html": [
              "\n",
              "      <script>\n",
              "        ChatbotResponse(\"An error has occurred. If the issue persists, please retry in a few seconds.\");\n",
              "      </script>\n",
              "    "
            ]
          },
          "metadata": {}
        },
        {
          "output_type": "stream",
          "name": "stdout",
          "text": [
            "An error occurred. If this issue persists please re-try in a few seconds.<br>you can read more in the link: https://www.redhat.com/en/resources\n"
          ]
        },
        {
          "output_type": "display_data",
          "data": {
            "text/plain": [
              "<IPython.core.display.HTML object>"
            ],
            "text/html": [
              "\n",
              "      <script>\n",
              "        ChatbotResponse(\"An error has occurred. If the issue persists, please retry in a few seconds.\");\n",
              "      </script>\n",
              "    "
            ]
          },
          "metadata": {}
        },
        {
          "output_type": "stream",
          "name": "stdout",
          "text": [
            "Brightly Software (Brightly), a Siemens company, is the global leader in intelligent asset management solutions. More than 1000 Brightly employees around the globe serve more than 12,000 clients across diverse industries. “We focus on managing physical assets, helping people maintain those things that we all take for granted and use every day,” said Kevin Kemmerer, CEO of Brightly. “In a building, anything from the roofs to the HVAC system to the lighting. In municipalities, anything from the roads to the bridges and even the trees.” <br>you can read more in the link: https://www.redhat.com/en/resources/brightly-openshift-aws-case-study\n"
          ]
        },
        {
          "output_type": "display_data",
          "data": {
            "text/plain": [
              "<IPython.core.display.HTML object>"
            ],
            "text/html": [
              "\n",
              "      <script>\n",
              "        ChatbotResponse(\"Brightly Software (Brightly), a Siemens company, is the global leader in intelligent asset management solutions. More than 1000 Brightly employees around the globe serve more than 12,000 clients across diverse industries. “We focus on managing physical assets, helping people maintain those things that we all take for granted and use every day,” said Kevin Kemmerer, CEO of Brightly. “In a building, anything from the roofs to the HVAC system to the lighting. In municipalities, anything from the roads to the bridges and even the trees.” <br>you can read more in the link: https://www.redhat.com/en/resources/brightly-openshift-aws-case-study\");\n",
              "      </script>\n",
              "    "
            ]
          },
          "metadata": {}
        },
        {
          "output_type": "stream",
          "name": "stdout",
          "text": [
            "Securing modern hybrid clouds requires layering security across your entire infrastructure stack and application lifecycles. For infrastructure within your complete control (like datacenters), Red Hat software prioritizes defense-in-depth strategies that default to Zero Trust policies. And our extensive partner ecosystem extends those same security principles to environments beyond your full control (like public clouds).<br>you can read more in the link: https://www.redhat.com/en/topics/security/hybrid-cloud-security-approach\n"
          ]
        },
        {
          "output_type": "display_data",
          "data": {
            "text/plain": [
              "<IPython.core.display.HTML object>"
            ],
            "text/html": [
              "\n",
              "      <script>\n",
              "        ChatbotResponse(\"Securing modern hybrid clouds requires layering security across your entire infrastructure stack and application lifecycles. For infrastructure within your complete control (like datacenters), Red Hat software prioritizes defense-in-depth strategies that default to Zero Trust policies. And our extensive partner ecosystem extends those same security principles to environments beyond your full control (like public clouds).<br>you can read more in the link: https://www.redhat.com/en/topics/security/hybrid-cloud-security-approach\");\n",
              "      </script>\n",
              "    "
            ]
          },
          "metadata": {}
        },
        {
          "output_type": "stream",
          "name": "stdout",
          "text": [
            "Committed to becoming the leading digital airport by 2019, Schiphol wanted to use innovative technology to simplify the travel experience for passengers, improve the cost-efficiency of its operations, and collaborate with airlines and other stakeholders. To support its goal, Schiphol decided to migrate some systems to a modern, cloud-based infrastructure. “We were unable to get enough scalability from our existing on-premise infrastructure, so we wanted to see how an enterprise cloud cloud help,” said Mechiel Aalbers, senior technical application coordinator at Amsterdam Airport Schiphol.<br>you can read more in the link: https://www.redhat.com/en/success-stories/amsterdam-airport-schiphol\n"
          ]
        },
        {
          "output_type": "display_data",
          "data": {
            "text/plain": [
              "<IPython.core.display.HTML object>"
            ],
            "text/html": [
              "\n",
              "      <script>\n",
              "        ChatbotResponse(\"Committed to becoming the leading digital airport by 2019, Schiphol wanted to use innovative technology to simplify the travel experience for passengers, improve the cost-efficiency of its operations, and collaborate with airlines and other stakeholders. To support its goal, Schiphol decided to migrate some systems to a modern, cloud-based infrastructure. “We were unable to get enough scalability from our existing on-premise infrastructure, so we wanted to see how an enterprise cloud cloud help,” said Mechiel Aalbers, senior technical application coordinator at Amsterdam Airport Schiphol.<br>you can read more in the link: https://www.redhat.com/en/success-stories/amsterdam-airport-schiphol\");\n",
              "      </script>\n",
              "    "
            ]
          },
          "metadata": {}
        },
        {
          "output_type": "stream",
          "name": "stdout",
          "text": [
            "An error occurred. If this issue persists please re-try in a few seconds.<br>you can read more in the link: https://www.redhat.com/en/blog?f[0]=taxonomy_topic_tid:9001#rhdc-search-listing\n"
          ]
        },
        {
          "output_type": "display_data",
          "data": {
            "text/plain": [
              "<IPython.core.display.HTML object>"
            ],
            "text/html": [
              "\n",
              "      <script>\n",
              "        ChatbotResponse(\"An error has occurred. If the issue persists, please retry in a few seconds.\");\n",
              "      </script>\n",
              "    "
            ]
          },
          "metadata": {}
        },
        {
          "output_type": "stream",
          "name": "stdout",
          "text": [
            "Business process management (BPM) is the practice of modeling, analyzing, and optimizing end-to-end business processes to help meet your strategic business goals, such as the improvement of your customer experience framework. BPM methodology can be applied to tasks and processes that are often repeated, ongoing, or predictable.<br>you can read more in the link: https://www.redhat.com/en/topics/automation/what-is-business-process-management\n"
          ]
        },
        {
          "output_type": "display_data",
          "data": {
            "text/plain": [
              "<IPython.core.display.HTML object>"
            ],
            "text/html": [
              "\n",
              "      <script>\n",
              "        ChatbotResponse(\"Business process management (BPM) is the practice of modeling, analyzing, and optimizing end-to-end business processes to help meet your strategic business goals, such as the improvement of your customer experience framework. BPM methodology can be applied to tasks and processes that are often repeated, ongoing, or predictable.<br>you can read more in the link: https://www.redhat.com/en/topics/automation/what-is-business-process-management\");\n",
              "      </script>\n",
              "    "
            ]
          },
          "metadata": {}
        },
        {
          "output_type": "stream",
          "name": "stdout",
          "text": [
            "Malware is malicious software, including any software that acts against the interest of the user. Malware can affect not only the infected computer or device but potentially any other device the infected device can communicate with.<br>you can read more in the link: https://www.redhat.com/en/topics/security/what-is-malware\n"
          ]
        },
        {
          "output_type": "display_data",
          "data": {
            "text/plain": [
              "<IPython.core.display.HTML object>"
            ],
            "text/html": [
              "\n",
              "      <script>\n",
              "        ChatbotResponse(\"Malware is malicious software, including any software that acts against the interest of the user. Malware can affect not only the infected computer or device but potentially any other device the infected device can communicate with.<br>you can read more in the link: https://www.redhat.com/en/topics/security/what-is-malware\");\n",
              "      </script>\n",
              "    "
            ]
          },
          "metadata": {}
        },
        {
          "output_type": "stream",
          "name": "stdout",
          "text": [
            "IT automation, sometimes referred to as infrastructure automation, is the use of software to create repeatable instructions and processes to replace or reduce human interaction with IT systems. Automation software works within the confines of those instructions, tools, and frameworks to carry out the tasks with little to no human intervention.<br>you can read more in the link: https://www.redhat.com/en/topics/automation/whats-it-automation\n"
          ]
        },
        {
          "output_type": "display_data",
          "data": {
            "text/plain": [
              "<IPython.core.display.HTML object>"
            ],
            "text/html": [
              "\n",
              "      <script>\n",
              "        ChatbotResponse(\"IT automation, sometimes referred to as infrastructure automation, is the use of software to create repeatable instructions and processes to replace or reduce human interaction with IT systems. Automation software works within the confines of those instructions, tools, and frameworks to carry out the tasks with little to no human intervention.<br>you can read more in the link: https://www.redhat.com/en/topics/automation/whats-it-automation\");\n",
              "      </script>\n",
              "    "
            ]
          },
          "metadata": {}
        },
        {
          "output_type": "stream",
          "name": "stdout",
          "text": [
            "The world's leading enterprise Linux platform. Deploy it on physical systems, as a guest on the most widely available hypervisors, or in the cloud.<br>you can read more in the link: https://www.redhat.com/en/store\n"
          ]
        },
        {
          "output_type": "display_data",
          "data": {
            "text/plain": [
              "<IPython.core.display.HTML object>"
            ],
            "text/html": [
              "\n",
              "      <script>\n",
              "        ChatbotResponse(\"The world's leading enterprise Linux platform. Deploy it on physical systems, as a guest on the most widely available hypervisors, or in the cloud.<br>you can read more in the link: https://www.redhat.com/en/store\");\n",
              "      </script>\n",
              "    "
            ]
          },
          "metadata": {}
        },
        {
          "output_type": "stream",
          "name": "stdout",
          "text": [
            "An error occurred. If this issue persists please re-try in a few seconds.<br>you can read more in the link: https://www.redhat.com/en/blog?f[0]=taxonomy_topic_tid:27061#rhdc-search-listing\n"
          ]
        },
        {
          "output_type": "display_data",
          "data": {
            "text/plain": [
              "<IPython.core.display.HTML object>"
            ],
            "text/html": [
              "\n",
              "      <script>\n",
              "        ChatbotResponse(\"An error has occurred. If the issue persists, please retry in a few seconds.\");\n",
              "      </script>\n",
              "    "
            ]
          },
          "metadata": {}
        },
        {
          "output_type": "stream",
          "name": "stdout",
          "text": [
            "If you want to deploy some type of cloud to improve your business, but are worried about moving existing applications, aren't sure if you should take a tiered approach, or don't know how deep shadow IT is embedded across the enterprise, our experienced teams can help you develop a roadmap to take you from where you are to where you want to be. You get direct support from engineering, support, and product management—a cross-functional approach to make sure people, processes, and technologies are aligned.<br>you can read more in the link: https://www.redhat.com/en/topics/cloud-computing/why-choose-red-hat-cloud\n"
          ]
        },
        {
          "output_type": "display_data",
          "data": {
            "text/plain": [
              "<IPython.core.display.HTML object>"
            ],
            "text/html": [
              "\n",
              "      <script>\n",
              "        ChatbotResponse(\"If you want to deploy some type of cloud to improve your business, but are worried about moving existing applications, aren't sure if you should take a tiered approach, or don't know how deep shadow IT is embedded across the enterprise, our experienced teams can help you develop a roadmap to take you from where you are to where you want to be. You get direct support from engineering, support, and product management—a cross-functional approach to make sure people, processes, and technologies are aligned.<br>you can read more in the link: https://www.redhat.com/en/topics/cloud-computing/why-choose-red-hat-cloud\");\n",
              "      </script>\n",
              "    "
            ]
          },
          "metadata": {}
        },
        {
          "output_type": "stream",
          "name": "stdout",
          "text": [
            "An error occurred. If this issue persists please re-try in a few seconds.<br>you can read more in the link: https://www.redhat.com/en/blog/channel/devops-and-devsecops\n"
          ]
        },
        {
          "output_type": "display_data",
          "data": {
            "text/plain": [
              "<IPython.core.display.HTML object>"
            ],
            "text/html": [
              "\n",
              "      <script>\n",
              "        ChatbotResponse(\"An error has occurred. If the issue persists, please retry in a few seconds.\");\n",
              "      </script>\n",
              "    "
            ]
          },
          "metadata": {}
        },
        {
          "output_type": "stream",
          "name": "stdout",
          "text": [
            "Securely manage and scale deployments at the edge.<br>you can read more in the link: https://www.redhat.com/en/topics\n"
          ]
        },
        {
          "output_type": "display_data",
          "data": {
            "text/plain": [
              "<IPython.core.display.HTML object>"
            ],
            "text/html": [
              "\n",
              "      <script>\n",
              "        ChatbotResponse(\"Securely manage and scale deployments at the edge.<br>you can read more in the link: https://www.redhat.com/en/topics\");\n",
              "      </script>\n",
              "    "
            ]
          },
          "metadata": {}
        },
        {
          "output_type": "stream",
          "name": "stdout",
          "text": [
            "Whatever the purpose, the most important detail of digital transformation is that it is more than the adoption or modernization of technology. It is often discussed in organizations that want to fundamentally improve technology’s role in many areas of their business—not just in IT. It is ideally seen as a continuous change to the status quo, rather than a project with an endpoint.<br>you can read more in the link: https://www.redhat.com/en/topics/digital-transformation\n"
          ]
        },
        {
          "output_type": "display_data",
          "data": {
            "text/plain": [
              "<IPython.core.display.HTML object>"
            ],
            "text/html": [
              "\n",
              "      <script>\n",
              "        ChatbotResponse(\"Whatever the purpose, the most important detail of digital transformation is that it is more than the adoption or modernization of technology. It is often discussed in organizations that want to fundamentally improve technology’s role in many areas of their business—not just in IT. It is ideally seen as a continuous change to the status quo, rather than a project with an endpoint.<br>you can read more in the link: https://www.redhat.com/en/topics/digital-transformation\");\n",
              "      </script>\n",
              "    "
            ]
          },
          "metadata": {}
        },
        {
          "output_type": "stream",
          "name": "stdout",
          "text": [
            "An error occurred. If this issue persists please re-try in a few seconds.<br>you can read more in the link: https://www.redhat.com/en/blog/channel/red-hat-virtualization\n"
          ]
        },
        {
          "output_type": "display_data",
          "data": {
            "text/plain": [
              "<IPython.core.display.HTML object>"
            ],
            "text/html": [
              "\n",
              "      <script>\n",
              "        ChatbotResponse(\"An error has occurred. If the issue persists, please retry in a few seconds.\");\n",
              "      </script>\n",
              "    "
            ]
          },
          "metadata": {}
        },
        {
          "output_type": "stream",
          "name": "stdout",
          "text": [
            "API stands for application programming interface, which is a set of definitions and protocols for building and integrating application software.<br>you can read more in the link: https://www.redhat.com/en/topics/api/what-are-application-programming-interfaces\n"
          ]
        },
        {
          "output_type": "display_data",
          "data": {
            "text/plain": [
              "<IPython.core.display.HTML object>"
            ],
            "text/html": [
              "\n",
              "      <script>\n",
              "        ChatbotResponse(\"API stands for application programming interface, which is a set of definitions and protocols for building and integrating application software.<br>you can read more in the link: https://www.redhat.com/en/topics/api/what-are-application-programming-interfaces\");\n",
              "      </script>\n",
              "    "
            ]
          },
          "metadata": {}
        },
        {
          "output_type": "stream",
          "name": "stdout",
          "text": [
            "Red Hat Enterprise LinuxをはじめとするRed Hat製品は、期間を定めたサブスクリプション形式でご提供しております。ご購入に際して、お客様にはサブスクリプションの内容について合意いただく必要がありますので、必ず以下のRed Hatエンタープライズ契約および付属文書をご確認のうえご購入いただきますようお願いいたします。<br>you can read more in the link: https://www.redhat.com/en/about/japan-buy\n"
          ]
        },
        {
          "output_type": "display_data",
          "data": {
            "text/plain": [
              "<IPython.core.display.HTML object>"
            ],
            "text/html": [
              "\n",
              "      <script>\n",
              "        ChatbotResponse(\"Red Hat Enterprise LinuxをはじめとするRed Hat製品は、期間を定めたサブスクリプション形式でご提供しております。ご購入に際して、お客様にはサブスクリプションの内容について合意いただく必要がありますので、必ず以下のRed Hatエンタープライズ契約および付属文書をご確認のうえご購入いただきますようお願いいたします。<br>you can read more in the link: https://www.redhat.com/en/about/japan-buy\");\n",
              "      </script>\n",
              "    "
            ]
          },
          "metadata": {}
        },
        {
          "output_type": "stream",
          "name": "stdout",
          "text": [
            "The world's leading enterprise Linux platform. Deploy it on physical systems, as a guest on the most widely available hypervisors, or in the cloud.<br>you can read more in the link: https://www.redhat.com/en/store\n"
          ]
        },
        {
          "output_type": "display_data",
          "data": {
            "text/plain": [
              "<IPython.core.display.HTML object>"
            ],
            "text/html": [
              "\n",
              "      <script>\n",
              "        ChatbotResponse(\"The world's leading enterprise Linux platform. Deploy it on physical systems, as a guest on the most widely available hypervisors, or in the cloud.<br>you can read more in the link: https://www.redhat.com/en/store\");\n",
              "      </script>\n",
              "    "
            ]
          },
          "metadata": {}
        },
        {
          "output_type": "stream",
          "name": "stdout",
          "text": [
            "Virtualization is technology that allows you to create multiple simulated environments or dedicated resources from a single, physical hardware system. Software called a hypervisor connects directly to that hardware and allows you to split 1 system into separate, distinct, and secure environments known as virtual machines (VMs). These VMs rely on the hypervisor’s ability to separate the machine’s resources from the hardware and distribute them appropriately. Virtualization helps you get the most value from previous investments.<br>you can read more in the link: https://www.redhat.com/en/topics/virtualization\n"
          ]
        },
        {
          "output_type": "display_data",
          "data": {
            "text/plain": [
              "<IPython.core.display.HTML object>"
            ],
            "text/html": [
              "\n",
              "      <script>\n",
              "        ChatbotResponse(\"Virtualization is technology that allows you to create multiple simulated environments or dedicated resources from a single, physical hardware system. Software called a hypervisor connects directly to that hardware and allows you to split 1 system into separate, distinct, and secure environments known as virtual machines (VMs). These VMs rely on the hypervisor’s ability to separate the machine’s resources from the hardware and distribute them appropriately. Virtualization helps you get the most value from previous investments.<br>you can read more in the link: https://www.redhat.com/en/topics/virtualization\");\n",
              "      </script>\n",
              "    "
            ]
          },
          "metadata": {}
        },
        {
          "output_type": "stream",
          "name": "stdout",
          "text": [
            "An error occurred. If this issue persists please re-try in a few seconds.<br>you can read more in the link: https://www.redhat.com/en/blog/channel/devops-and-devsecops\n"
          ]
        },
        {
          "output_type": "display_data",
          "data": {
            "text/plain": [
              "<IPython.core.display.HTML object>"
            ],
            "text/html": [
              "\n",
              "      <script>\n",
              "        ChatbotResponse(\"An error has occurred. If the issue persists, please retry in a few seconds.\");\n",
              "      </script>\n",
              "    "
            ]
          },
          "metadata": {}
        },
        {
          "output_type": "stream",
          "name": "stdout",
          "text": [
            "Communications technology and, more specifically, video meetings have become irreplaceable for business purposes and personal use. Even before the COVID-19 pandemic—when Zoom was one of the most downloaded mobile apps in the world—video conferencing was responsible for the impressive growth of the industry. <br>you can read more in the link: https://www.redhat.com/en/resources/zoom-us-government-communications-platform-case-study?intcmp=7013a000003SlsxAAC\n"
          ]
        },
        {
          "output_type": "display_data",
          "data": {
            "text/plain": [
              "<IPython.core.display.HTML object>"
            ],
            "text/html": [
              "\n",
              "      <script>\n",
              "        ChatbotResponse(\"Communications technology and, more specifically, video meetings have become irreplaceable for business purposes and personal use. Even before the COVID-19 pandemic—when Zoom was one of the most downloaded mobile apps in the world—video conferencing was responsible for the impressive growth of the industry. <br>you can read more in the link: https://www.redhat.com/en/resources/zoom-us-government-communications-platform-case-study?intcmp=7013a000003SlsxAAC\");\n",
              "      </script>\n",
              "    "
            ]
          },
          "metadata": {}
        },
        {
          "output_type": "stream",
          "name": "stdout",
          "text": [
            "An error occurred. If this issue persists please re-try in a few seconds.<br>you can read more in the link: https://www.redhat.com/en/technologies/all-products\n"
          ]
        },
        {
          "output_type": "display_data",
          "data": {
            "text/plain": [
              "<IPython.core.display.HTML object>"
            ],
            "text/html": [
              "\n",
              "      <script>\n",
              "        ChatbotResponse(\"An error has occurred. If the issue persists, please retry in a few seconds.\");\n",
              "      </script>\n",
              "    "
            ]
          },
          "metadata": {}
        },
        {
          "output_type": "stream",
          "name": "stdout",
          "text": [
            " <br>you can read more in the link: https://www.redhat.com/en/success-stories/banco-galicia-NLP\n"
          ]
        },
        {
          "output_type": "display_data",
          "data": {
            "text/plain": [
              "<IPython.core.display.HTML object>"
            ],
            "text/html": [
              "\n",
              "      <script>\n",
              "        ChatbotResponse(\" <br>you can read more in the link: https://www.redhat.com/en/success-stories/banco-galicia-NLP\");\n",
              "      </script>\n",
              "    "
            ]
          },
          "metadata": {}
        },
        {
          "output_type": "stream",
          "name": "stdout",
          "text": [
            "If you want to deploy some type of cloud to improve your business, but are worried about moving existing applications, aren't sure if you should take a tiered approach, or don't know how deep shadow IT is embedded across the enterprise, our experienced teams can help you develop a roadmap to take you from where you are to where you want to be. You get direct support from engineering, support, and product management—a cross-functional approach to make sure people, processes, and technologies are aligned.<br>you can read more in the link: https://www.redhat.com/en/topics/cloud-computing/why-choose-red-hat-cloud\n"
          ]
        },
        {
          "output_type": "display_data",
          "data": {
            "text/plain": [
              "<IPython.core.display.HTML object>"
            ],
            "text/html": [
              "\n",
              "      <script>\n",
              "        ChatbotResponse(\"If you want to deploy some type of cloud to improve your business, but are worried about moving existing applications, aren't sure if you should take a tiered approach, or don't know how deep shadow IT is embedded across the enterprise, our experienced teams can help you develop a roadmap to take you from where you are to where you want to be. You get direct support from engineering, support, and product management—a cross-functional approach to make sure people, processes, and technologies are aligned.<br>you can read more in the link: https://www.redhat.com/en/topics/cloud-computing/why-choose-red-hat-cloud\");\n",
              "      </script>\n",
              "    "
            ]
          },
          "metadata": {}
        },
        {
          "output_type": "stream",
          "name": "stdout",
          "text": [
            "Red Hat honors select customers each year through the Red Hat® Innovation Awards program. Check out past winners and get all the details on the application process.<br>you can read more in the link: https://www.redhat.com/en/success-stories?intcmp=7013a000003Sl4kAAC\n"
          ]
        },
        {
          "output_type": "display_data",
          "data": {
            "text/plain": [
              "<IPython.core.display.HTML object>"
            ],
            "text/html": [
              "\n",
              "      <script>\n",
              "        ChatbotResponse(\"Red Hat honors select customers each year through the Red Hat® Innovation Awards program. Check out past winners and get all the details on the application process.<br>you can read more in the link: https://www.redhat.com/en/success-stories?intcmp=7013a000003Sl4kAAC\");\n",
              "      </script>\n",
              "    "
            ]
          },
          "metadata": {}
        },
        {
          "output_type": "stream",
          "name": "stdout",
          "text": [
            "Every technology in your IT stack needs to work together. And the workloads need to be portable and scalable across bare metal servers, virtual machines, containers, and private and public clouds. They need a modern, security-oriented operating system (OS). That OS is Red Hat® Enterprise Linux®.<br>you can read more in the link: https://www.redhat.com/en/topics/linux/why-choose-red-hat-enterprise-linux\n"
          ]
        },
        {
          "output_type": "display_data",
          "data": {
            "text/plain": [
              "<IPython.core.display.HTML object>"
            ],
            "text/html": [
              "\n",
              "      <script>\n",
              "        ChatbotResponse(\"Every technology in your IT stack needs to work together. And the workloads need to be portable and scalable across bare metal servers, virtual machines, containers, and private and public clouds. They need a modern, security-oriented operating system (OS). That OS is Red Hat® Enterprise Linux®.<br>you can read more in the link: https://www.redhat.com/en/topics/linux/why-choose-red-hat-enterprise-linux\");\n",
              "      </script>\n",
              "    "
            ]
          },
          "metadata": {}
        },
        {
          "output_type": "stream",
          "name": "stdout",
          "text": [
            "The word \"DevOps\" is a mashup of \"development’ and \"operations\" but it represents a set of ideas and practices much larger than those two terms alone, or together. DevOps includes security, collaborative ways of working, data analytics, and many other things. But what is it?<br>you can read more in the link: https://www.redhat.com/en/topics/devops\n"
          ]
        },
        {
          "output_type": "display_data",
          "data": {
            "text/plain": [
              "<IPython.core.display.HTML object>"
            ],
            "text/html": [
              "\n",
              "      <script>\n",
              "        ChatbotResponse(\"The word \"DevOps\" is a mashup of \"development’ and \"operations\" but it represents a set of ideas and practices much larger than those two terms alone, or together. DevOps includes security, collaborative ways of working, data analytics, and many other things. But what is it?<br>you can read more in the link: https://www.redhat.com/en/topics/devops\");\n",
              "      </script>\n",
              "    "
            ]
          },
          "metadata": {}
        }
      ]
    }
  ],
  "metadata": {
    "colab": {
      "provenance": [],
      "include_colab_link": true
    },
    "kernelspec": {
      "display_name": "Python 3",
      "name": "python3"
    },
    "language_info": {
      "name": "python"
    }
  },
  "nbformat": 4,
  "nbformat_minor": 0
}