{
  "cells": [
    {
      "cell_type": "markdown",
      "metadata": {
        "id": "view-in-github",
        "colab_type": "text"
      },
      "source": [
        "<a href=\"https://colab.research.google.com/github/ndvp39/CloudComputing-tirgul/blob/main/Project/Chatbot/chatbot.ipynb\" target=\"_parent\"><img src=\"https://colab.research.google.com/assets/colab-badge.svg\" alt=\"Open In Colab\"/></a>"
      ]
    },
    {
      "cell_type": "code",
      "source": [
        "!pip install nltk\n",
        "!pip install requests beautifulsoup4\n",
        "\n",
        "from bs4 import BeautifulSoup\n",
        "from nltk.chat.util import Chat, reflections\n",
        "from firebase_admin import credentials\n",
        "from firebase_admin import firestore\n",
        "import firebase_admin\n",
        "import nltk\n",
        "import requests\n",
        "\n",
        "# activate only if run this file directly and not from searchEngine\n",
        "# !git clone \"https://github.com/ndvp39/CloudComputing-tirgul.git\"\n",
        "%cd /content/CloudComputing-tirgul/Project/Index/\n",
        "%run index.ipynb\n",
        "\n",
        "# Download necessary NLTK data\n",
        "nltk.download('punkt')\n",
        "nltk.download('wordnet')"
      ],
      "metadata": {
        "id": "FGzYOactlh27"
      },
      "execution_count": null,
      "outputs": []
    },
    {
      "cell_type": "code",
      "execution_count": null,
      "metadata": {
        "id": "Qu-nszRXeyxQ"
      },
      "outputs": [],
      "source": [
        "def getLinkFromString(w,linkID):\n",
        "  for word, links in index.items(): # should be from database directly and not from database , index = final_index\n",
        "    if(word == w):\n",
        "      return list(links.keys())[linkID]"
      ]
    },
    {
      "cell_type": "code",
      "source": [
        "def get_first_paragraph_from_link(url):\n",
        "    try:\n",
        "        # Make an HTTP request\n",
        "        response = requests.get(url)\n",
        "\n",
        "        # Check if the request was successful (status code 200)\n",
        "        if response.status_code == 200:\n",
        "            # Parse the HTML content\n",
        "            soup = BeautifulSoup(response.text, 'html.parser')\n",
        "\n",
        "            # Find the first <p> tag with the specified ID\n",
        "            h2_tag = soup.find('h2', {'id': 'overview'})\n",
        "            if h2_tag:\n",
        "\n",
        "              para = h2_tag.find_next('p')\n",
        "              if para:\n",
        "                return para.get_text()\n",
        "              else:\n",
        "                return \"Paragraph after h2 with id: overview not found.\"\n",
        "\n",
        "            else:\n",
        "\n",
        "              div_tags = soup.find_all('div', {'class': 'rh-generic--component'})\n",
        "              # Check if there is at least a second occurrence\n",
        "              if len(div_tags) >= 2:\n",
        "                second_div_tag = div_tags[1]  # Select the second occurrence\n",
        "                para = second_div_tag.find_next('p').get_text()\n",
        "              elif len(div_tags) == 1:\n",
        "                first_div_tag = div_tags[0]  # Select the first occurrence\n",
        "                para = first_div_tag.find_next('p').get_text()\n",
        "              else:\n",
        "                return \"\"\n",
        "\n",
        "            return para\n",
        "\n",
        "\n",
        "\n",
        "        else:\n",
        "            return f\"Failed to fetch the page. Status code: {response.status_code}\"\n",
        "\n",
        "    except Exception as e:\n",
        "        return f\"An error occurred: {e}\""
      ],
      "metadata": {
        "id": "fyPfzgti9aB2"
      },
      "execution_count": null,
      "outputs": []
    },
    {
      "cell_type": "code",
      "execution_count": null,
      "metadata": {
        "id": "pMW9CHqNe4eZ"
      },
      "outputs": [],
      "source": [
        "cloud_explanation = \"\"\"Private Cloud: A private cloud is a cloud computing environment that is dedicated solely to one organization.\n",
        "It is usually managed either by the organization itself or by a third-party service provider. The infrastructure and services are not shared\n",
        "with other organizations, offering greater control, security, and customization options. Private clouds are typically used by large enterprises\n",
        "or organizations with specific compliance or security requirements.\n",
        "Public Cloud: A public cloud is a cloud computing environment that is hosted and managed by a third-party service provider and made available\n",
        "to multiple organizations or individuals over the internet. The infrastructure and resources are shared among multiple users,\n",
        " offering scalability, flexibility, and cost-effectiveness. Public clouds are accessible to anyone who wants to use them and are often used\n",
        " for general-purpose computing needs such as web hosting, development, and testing.\n",
        "Hybrid Cloud: A hybrid cloud is a computing environment that combines elements of both private and public clouds. It allows organizations\n",
        " to leverage the benefits of both environments by integrating on-premises infrastructure with public cloud resources. This integration enables\n",
        " data and applications to be dynamically moved between the two environments based on changing workload demands, security requirements, and cost\n",
        " considerations. Hybrid clouds offer greater flexibility, scalability, and customization options compared to using either private or public clouds alone.\n",
        " They are commonly used by organizations that want to retain control over sensitive data while taking advantage of the scalability and cost-effectiveness of\n",
        " public cloud services.\"\"\""
      ]
    },
    {
      "cell_type": "code",
      "source": [
        "def patterns_to_dict(patterns):\n",
        "    patterns_dict = []\n",
        "    for pattern, responses in patterns:\n",
        "        pattern_dict = {\n",
        "            'pattern': pattern,\n",
        "            'responses': responses\n",
        "        }\n",
        "        patterns_dict.append(pattern_dict)\n",
        "    return patterns_dict"
      ],
      "metadata": {
        "id": "szVFDg1Flx6N"
      },
      "execution_count": null,
      "outputs": []
    },
    {
      "cell_type": "code",
      "source": [
        "def create_patterns():\n",
        "  for word, links in index.items(): # take the index from DB , index = final_index\n",
        "    answers = []\n",
        "    for i in range(len(links)):\n",
        "      link = getLinkFromString(word,i)\n",
        "      first_para = get_first_paragraph_from_link(link)\n",
        "      if first_para == \"\": # also need to remove dates\n",
        "        continue\n",
        "      answers.append(first_para + f\"you can read more in the link: {link}\")\n",
        "      print(first_para)\n",
        "    to_append = ( r'(.*)' + word + r'(.*)', answers)\n",
        "    patterns.append(to_append)"
      ],
      "metadata": {
        "id": "nUxTlcuRjgms"
      },
      "execution_count": null,
      "outputs": []
    },
    {
      "cell_type": "code",
      "source": [
        "def upload_to_db(data_list, collection_name):\n",
        "  try:\n",
        "    for data in data_list:\n",
        "        doc_ref = db.collection(collection_name).add(data)\n",
        "    print(\"All documents uploaded successfully.\")\n",
        "  except Exception as e:\n",
        "      print(\"Error:\", e)"
      ],
      "metadata": {
        "id": "ZPNJNEaVytHq"
      },
      "execution_count": null,
      "outputs": []
    },
    {
      "cell_type": "code",
      "source": [
        "def get_patterns_from_db(db_collection_name):\n",
        "    patterns = []\n",
        "    collection_ref = db.collection(db_collection_name)\n",
        "    docs = collection_ref.get()\n",
        "    for doc in docs:\n",
        "        data = doc.to_dict()\n",
        "        pattern = r'(.*)' + data['pattern'] + r'(.*)'\n",
        "        responses = data['responses']\n",
        "        patterns.append((pattern, responses))\n",
        "    return patterns\n"
      ],
      "metadata": {
        "id": "CQO1M0Kv2wev"
      },
      "execution_count": null,
      "outputs": []
    },
    {
      "cell_type": "code",
      "source": [
        "# Define some patterns and responses. ______________ take this patterns fron database ______________\n",
        "patterns = [\n",
        "    (r'hi|hello|hey', ['Hello!', 'Hi there!', 'Hey!']),\n",
        "    (r'how are you?', ['I\\'m good, thank you!', 'I\\'m doing well, thanks for asking.']),\n",
        "    (r'what is your name?', ['You can call me PantherBOT.', 'I go by the name PantherBOT.']),\n",
        "    (r'your name (.*)', ['You can call me PantherBOT.', 'I go by the name PantherBOT.']),\n",
        "    (r'give me good cloud website', ['Sure, here: www.redhat.com', 'ofCourse: you can go to amazon, which works with RedHat website check both']),\n",
        "    (r'What kinds of clouds are there ?', ['There are three main kinds of clouds: private, public, and hybrid would you like me to explain further? ', 'public, hybrid, private - in secured order']),\n",
        "    (r'(.*)kinds of clouds(.*)?(.*)', ['There are three main kinds of clouds: private, public, and hybrid would you like me to explain further? ', 'public, hybrid, private - in secured order']),\n",
        "    (r'please explain further about clouds(.*)', ['cloud_explanation', \"for the moment I too tired, may be later I will explain. You should've listen in class \"])\n",
        "    # You can add more patterns and responses here\n",
        "]\n",
        "\n",
        "db_collection_name = \"ChatBotPatterns\"\n",
        "cred = credentials.Certificate(\"/content/CloudComputing-tirgul/Project/Json/sak.json\")\n",
        "if not firebase_admin._apps:\n",
        "  firebase_admin.initialize_app(cred)\n",
        "db = firestore.client()\n",
        "\n",
        "##### The long functions -> do not activate unless you want to change bot dialog ######\n",
        "# index = get_index_from_db()\n",
        "# create_patterns()\n",
        "final_patterns = patterns_to_dict(patterns)\n",
        "\n",
        "###### Uploading to DB ######\n",
        "# upload_to_db(final_patterns, db_collection_name)\n",
        "\n",
        "# print what goes inside the db\n",
        "# print(final_patterns)\n",
        "# print(get_patterns_from_db(db_collection_name))\n"
      ],
      "metadata": {
        "id": "t7M-PSVLZbNF"
      },
      "execution_count": null,
      "outputs": []
    },
    {
      "cell_type": "markdown",
      "source": [],
      "metadata": {
        "id": "wQqg-MsD1Qo0"
      }
    }
  ],
  "metadata": {
    "colab": {
      "provenance": [],
      "include_colab_link": true
    },
    "kernelspec": {
      "display_name": "Python 3",
      "name": "python3"
    },
    "language_info": {
      "name": "python"
    }
  },
  "nbformat": 4,
  "nbformat_minor": 0
}