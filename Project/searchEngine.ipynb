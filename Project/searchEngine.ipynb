{
  "cells": [
    {
      "cell_type": "markdown",
      "metadata": {
        "id": "view-in-github",
        "colab_type": "text"
      },
      "source": [
        "<a href=\"https://colab.research.google.com/github/ndvp39/CloudComputing-tirgul/blob/main/Project/searchEngine.ipynb\" target=\"_parent\"><img src=\"https://colab.research.google.com/assets/colab-badge.svg\" alt=\"Open In Colab\"/></a>"
      ]
    },
    {
      "cell_type": "code",
      "source": [
        "!pip install requests beautifulsoup4\n",
        "!pip install firebase\n",
        "!pip install firebase-admin"
      ],
      "metadata": {
        "colab": {
          "base_uri": "https://localhost:8080/"
        },
        "id": "ea1kjBb4GftH",
        "outputId": "a7d12403-4fc0-4fe0-bc9c-e3cc41b67c72"
      },
      "execution_count": 36,
      "outputs": [
        {
          "output_type": "stream",
          "name": "stdout",
          "text": [
            "Requirement already satisfied: requests in /usr/local/lib/python3.10/dist-packages (2.31.0)\n",
            "Requirement already satisfied: beautifulsoup4 in /usr/local/lib/python3.10/dist-packages (4.12.3)\n",
            "Requirement already satisfied: charset-normalizer<4,>=2 in /usr/local/lib/python3.10/dist-packages (from requests) (3.3.2)\n",
            "Requirement already satisfied: idna<4,>=2.5 in /usr/local/lib/python3.10/dist-packages (from requests) (3.6)\n",
            "Requirement already satisfied: urllib3<3,>=1.21.1 in /usr/local/lib/python3.10/dist-packages (from requests) (2.0.7)\n",
            "Requirement already satisfied: certifi>=2017.4.17 in /usr/local/lib/python3.10/dist-packages (from requests) (2024.2.2)\n",
            "Requirement already satisfied: soupsieve>1.2 in /usr/local/lib/python3.10/dist-packages (from beautifulsoup4) (2.5)\n",
            "Requirement already satisfied: firebase in /usr/local/lib/python3.10/dist-packages (4.0.1)\n",
            "Requirement already satisfied: requests in /usr/local/lib/python3.10/dist-packages (from firebase) (2.31.0)\n",
            "Requirement already satisfied: charset-normalizer<4,>=2 in /usr/local/lib/python3.10/dist-packages (from requests->firebase) (3.3.2)\n",
            "Requirement already satisfied: idna<4,>=2.5 in /usr/local/lib/python3.10/dist-packages (from requests->firebase) (3.6)\n",
            "Requirement already satisfied: urllib3<3,>=1.21.1 in /usr/local/lib/python3.10/dist-packages (from requests->firebase) (2.0.7)\n",
            "Requirement already satisfied: certifi>=2017.4.17 in /usr/local/lib/python3.10/dist-packages (from requests->firebase) (2024.2.2)\n",
            "Requirement already satisfied: firebase-admin in /usr/local/lib/python3.10/dist-packages (5.3.0)\n",
            "Requirement already satisfied: cachecontrol>=0.12.6 in /usr/local/lib/python3.10/dist-packages (from firebase-admin) (0.14.0)\n",
            "Requirement already satisfied: google-api-python-client>=1.7.8 in /usr/local/lib/python3.10/dist-packages (from firebase-admin) (2.84.0)\n",
            "Requirement already satisfied: google-cloud-storage>=1.37.1 in /usr/local/lib/python3.10/dist-packages (from firebase-admin) (2.8.0)\n",
            "Requirement already satisfied: google-api-core[grpc]<3.0.0dev,>=1.22.1 in /usr/local/lib/python3.10/dist-packages (from firebase-admin) (2.11.1)\n",
            "Requirement already satisfied: google-cloud-firestore>=2.1.0 in /usr/local/lib/python3.10/dist-packages (from firebase-admin) (2.11.1)\n",
            "Requirement already satisfied: requests>=2.16.0 in /usr/local/lib/python3.10/dist-packages (from cachecontrol>=0.12.6->firebase-admin) (2.31.0)\n",
            "Requirement already satisfied: msgpack<2.0.0,>=0.5.2 in /usr/local/lib/python3.10/dist-packages (from cachecontrol>=0.12.6->firebase-admin) (1.0.8)\n",
            "Requirement already satisfied: googleapis-common-protos<2.0.dev0,>=1.56.2 in /usr/local/lib/python3.10/dist-packages (from google-api-core[grpc]<3.0.0dev,>=1.22.1->firebase-admin) (1.63.0)\n",
            "Requirement already satisfied: protobuf!=3.20.0,!=3.20.1,!=4.21.0,!=4.21.1,!=4.21.2,!=4.21.3,!=4.21.4,!=4.21.5,<5.0.0.dev0,>=3.19.5 in /usr/local/lib/python3.10/dist-packages (from google-api-core[grpc]<3.0.0dev,>=1.22.1->firebase-admin) (3.20.3)\n",
            "Requirement already satisfied: google-auth<3.0.dev0,>=2.14.1 in /usr/local/lib/python3.10/dist-packages (from google-api-core[grpc]<3.0.0dev,>=1.22.1->firebase-admin) (2.27.0)\n",
            "Requirement already satisfied: grpcio<2.0dev,>=1.33.2 in /usr/local/lib/python3.10/dist-packages (from google-api-core[grpc]<3.0.0dev,>=1.22.1->firebase-admin) (1.62.1)\n",
            "Requirement already satisfied: grpcio-status<2.0.dev0,>=1.33.2 in /usr/local/lib/python3.10/dist-packages (from google-api-core[grpc]<3.0.0dev,>=1.22.1->firebase-admin) (1.48.2)\n",
            "Requirement already satisfied: httplib2<1dev,>=0.15.0 in /usr/local/lib/python3.10/dist-packages (from google-api-python-client>=1.7.8->firebase-admin) (0.22.0)\n",
            "Requirement already satisfied: google-auth-httplib2>=0.1.0 in /usr/local/lib/python3.10/dist-packages (from google-api-python-client>=1.7.8->firebase-admin) (0.1.1)\n",
            "Requirement already satisfied: uritemplate<5,>=3.0.1 in /usr/local/lib/python3.10/dist-packages (from google-api-python-client>=1.7.8->firebase-admin) (4.1.1)\n",
            "Requirement already satisfied: google-cloud-core<3.0.0dev,>=1.4.1 in /usr/local/lib/python3.10/dist-packages (from google-cloud-firestore>=2.1.0->firebase-admin) (2.3.3)\n",
            "Requirement already satisfied: proto-plus<2.0.0dev,>=1.22.0 in /usr/local/lib/python3.10/dist-packages (from google-cloud-firestore>=2.1.0->firebase-admin) (1.23.0)\n",
            "Requirement already satisfied: google-resumable-media>=2.3.2 in /usr/local/lib/python3.10/dist-packages (from google-cloud-storage>=1.37.1->firebase-admin) (2.7.0)\n",
            "Requirement already satisfied: cachetools<6.0,>=2.0.0 in /usr/local/lib/python3.10/dist-packages (from google-auth<3.0.dev0,>=2.14.1->google-api-core[grpc]<3.0.0dev,>=1.22.1->firebase-admin) (5.3.3)\n",
            "Requirement already satisfied: pyasn1-modules>=0.2.1 in /usr/local/lib/python3.10/dist-packages (from google-auth<3.0.dev0,>=2.14.1->google-api-core[grpc]<3.0.0dev,>=1.22.1->firebase-admin) (0.3.0)\n",
            "Requirement already satisfied: rsa<5,>=3.1.4 in /usr/local/lib/python3.10/dist-packages (from google-auth<3.0.dev0,>=2.14.1->google-api-core[grpc]<3.0.0dev,>=1.22.1->firebase-admin) (4.9)\n",
            "Requirement already satisfied: google-crc32c<2.0dev,>=1.0 in /usr/local/lib/python3.10/dist-packages (from google-resumable-media>=2.3.2->google-cloud-storage>=1.37.1->firebase-admin) (1.5.0)\n",
            "Requirement already satisfied: pyparsing!=3.0.0,!=3.0.1,!=3.0.2,!=3.0.3,<4,>=2.4.2 in /usr/local/lib/python3.10/dist-packages (from httplib2<1dev,>=0.15.0->google-api-python-client>=1.7.8->firebase-admin) (3.1.2)\n",
            "Requirement already satisfied: charset-normalizer<4,>=2 in /usr/local/lib/python3.10/dist-packages (from requests>=2.16.0->cachecontrol>=0.12.6->firebase-admin) (3.3.2)\n",
            "Requirement already satisfied: idna<4,>=2.5 in /usr/local/lib/python3.10/dist-packages (from requests>=2.16.0->cachecontrol>=0.12.6->firebase-admin) (3.6)\n",
            "Requirement already satisfied: urllib3<3,>=1.21.1 in /usr/local/lib/python3.10/dist-packages (from requests>=2.16.0->cachecontrol>=0.12.6->firebase-admin) (2.0.7)\n",
            "Requirement already satisfied: certifi>=2017.4.17 in /usr/local/lib/python3.10/dist-packages (from requests>=2.16.0->cachecontrol>=0.12.6->firebase-admin) (2024.2.2)\n",
            "Requirement already satisfied: pyasn1<0.6.0,>=0.4.6 in /usr/local/lib/python3.10/dist-packages (from pyasn1-modules>=0.2.1->google-auth<3.0.dev0,>=2.14.1->google-api-core[grpc]<3.0.0dev,>=1.22.1->firebase-admin) (0.5.1)\n"
          ]
        }
      ]
    },
    {
      "cell_type": "code",
      "source": [
        "from google.colab import drive, output\n",
        "from IPython.display import HTML, Javascript\n",
        "from IPython.display import clear_output\n",
        "from firebase_admin import credentials\n",
        "from firebase_admin import firestore\n",
        "from nltk.chat.util import Chat, reflections\n",
        "from nltk.stem import PorterStemmer\n",
        "from bs4 import BeautifulSoup\n",
        "import firebase_admin\n",
        "import IPython\n",
        "import random\n",
        "import json\n",
        "import os\n",
        "import re\n",
        "import requests\n",
        "import nltk\n",
        "\n",
        "nltk.download('punkt')\n",
        "nltk.download('wordnet')"
      ],
      "metadata": {
        "id": "PH8cmdPQGkbY",
        "colab": {
          "base_uri": "https://localhost:8080/"
        },
        "outputId": "f4131e84-a267-47c2-cd78-2e13953c0e00"
      },
      "execution_count": 37,
      "outputs": [
        {
          "output_type": "stream",
          "name": "stderr",
          "text": [
            "[nltk_data] Downloading package punkt to /root/nltk_data...\n",
            "[nltk_data]   Package punkt is already up-to-date!\n",
            "[nltk_data] Downloading package wordnet to /root/nltk_data...\n",
            "[nltk_data]   Package wordnet is already up-to-date!\n"
          ]
        },
        {
          "output_type": "execute_result",
          "data": {
            "text/plain": [
              "True"
            ]
          },
          "metadata": {},
          "execution_count": 37
        }
      ]
    },
    {
      "cell_type": "markdown",
      "source": [
        "Github connection"
      ],
      "metadata": {
        "id": "6E4eX2VsrptY"
      }
    },
    {
      "cell_type": "code",
      "execution_count": 55,
      "metadata": {
        "colab": {
          "base_uri": "https://localhost:8080/"
        },
        "id": "HVjiDYdKNDJN",
        "outputId": "5edb6994-07c4-4f36-a2e1-5161ac430d0c"
      },
      "outputs": [
        {
          "output_type": "stream",
          "name": "stdout",
          "text": [
            "Cloning into 'CloudComputing-tirgul'...\n",
            "remote: Enumerating objects: 4370, done.\u001b[K\n",
            "remote: Counting objects: 100% (1111/1111), done.\u001b[K\n",
            "remote: Compressing objects: 100% (514/514), done.\u001b[K\n",
            "remote: Total 4370 (delta 764), reused 862 (delta 564), pack-reused 3259\u001b[K\n",
            "Receiving objects: 100% (4370/4370), 20.32 MiB | 17.67 MiB/s, done.\n",
            "Resolving deltas: 100% (1758/1758), done.\n"
          ]
        }
      ],
      "source": [
        "# Specify the directory path\n",
        "directory = '/content/CloudComputing-tirgul'\n",
        "\n",
        "# Check if the directory exists\n",
        "if os.path.exists(directory):\n",
        "    # If the directory exists, remove it recursively\n",
        "    !rm -r \"$directory\"\n",
        "\n",
        "# Change the current directory to /content\n",
        "os.chdir('/content')\n",
        "\n",
        "# Clone the GitHub repository\n",
        "!git clone \"https://github.com/ndvp39/CloudComputing-tirgul\"\n",
        "\n",
        "# drive.mount('/content/drive')"
      ]
    },
    {
      "cell_type": "markdown",
      "metadata": {
        "id": "kPCWs9v3NEbB"
      },
      "source": [
        "Index:"
      ]
    },
    {
      "cell_type": "code",
      "execution_count": 57,
      "metadata": {
        "colab": {
          "base_uri": "https://localhost:8080/"
        },
        "id": "IeCbeSc1fYXy",
        "outputId": "48c1fca0-23f9-4c19-9c6e-b4d44436d5b0"
      },
      "outputs": [
        {
          "output_type": "stream",
          "name": "stdout",
          "text": [
            "/content/CloudComputing-tirgul/Project/Index\n"
          ]
        }
      ],
      "source": [
        "# Run the index.ipynb notebook\n",
        "%cd /content/CloudComputing-tirgul/Project/Index/\n",
        "%run index.ipynb"
      ]
    },
    {
      "cell_type": "markdown",
      "metadata": {
        "id": "P7-9nkXUOpGl"
      },
      "source": [
        "Get index from db"
      ]
    },
    {
      "cell_type": "code",
      "execution_count": 40,
      "metadata": {
        "id": "2g8D2P5PN7_e"
      },
      "outputs": [],
      "source": [
        "# GET INDEX FROM DB\n",
        "index = get_index_from_db()"
      ]
    },
    {
      "cell_type": "markdown",
      "metadata": {
        "id": "R9EWmihbPMd2"
      },
      "source": [
        "ChatBot"
      ]
    },
    {
      "cell_type": "code",
      "execution_count": 51,
      "metadata": {
        "colab": {
          "base_uri": "https://localhost:8080/"
        },
        "id": "7RiylqeyVnEO",
        "outputId": "de579101-ceb8-4776-f421-b13ff81d0a6c"
      },
      "outputs": [
        {
          "output_type": "stream",
          "name": "stdout",
          "text": [
            "/content/CloudComputing-tirgul/Project/Chatbot\n",
            "/content/CloudComputing-tirgul/Project/Index\n"
          ]
        }
      ],
      "source": [
        "# Run the chatbot.ipynb notebook\n",
        "%cd /content/CloudComputing-tirgul/Project/Chatbot/\n",
        "%run chatbot.ipynb"
      ]
    },
    {
      "cell_type": "code",
      "execution_count": 52,
      "metadata": {
        "id": "Qr4iI_7SPPP6"
      },
      "outputs": [],
      "source": [
        "# Retrieve chatbot patterns from the database\n",
        "db_collection_name = \"ChatBotPatterns\"\n",
        "chatbot_patterns = get_patterns_from_db(db_collection_name)\n",
        "\n",
        "# Create a new chatbot instance using the retrieved patterns and reflections\n",
        "chatbot = Chat(chatbot_patterns, reflections)\n"
      ]
    },
    {
      "cell_type": "markdown",
      "metadata": {
        "id": "Z2UayQHvO5t0"
      },
      "source": [
        "SearchEngine"
      ]
    },
    {
      "cell_type": "code",
      "execution_count": 43,
      "metadata": {
        "id": "9vReQTw9UoBE"
      },
      "outputs": [],
      "source": [
        "# Load and display a web page.\n",
        "# Display HTML with optional CSS and JavaScript\n",
        "# Supports two types of HTML docs - 1. combined with css and js | 2. 3 separate files\n",
        "def switchToScreen(css_filename_, html_filename_, js_filename_):\n",
        "    clear_output(wait=True) # Clear the current output to display the new content\n",
        "\n",
        "    if css_filename_ is None and js_filename_ is None:\n",
        "        html_response = requests.get(html_filename_)\n",
        "        html_content_ = html_response.text\n",
        "        display(HTML(html_content_))\n",
        "    else:\n",
        "        css_response = requests.get(css_filename_)\n",
        "        css_content_ = css_response.text\n",
        "        display(HTML(f'<style>{css_content_}</style>'))\n",
        "\n",
        "        html_response = requests.get(html_filename_)\n",
        "        html_content_ = html_response.text\n",
        "        display(HTML(html_content_))\n",
        "\n",
        "        js_response = requests.get(js_filename_)\n",
        "        js_content_ = js_response.text\n",
        "        display(Javascript(js_content_))"
      ]
    },
    {
      "cell_type": "code",
      "source": [
        "# Extract title from the HTML content of a given link.\n",
        "def get_title_from_link(link):\n",
        "    try:\n",
        "        # Make an HTTP request\n",
        "        response = requests.get(link)\n",
        "\n",
        "        # Check if the request was successful (status code 200)\n",
        "        if response.status_code == 200:\n",
        "            # Parse the HTML content\n",
        "            soup = BeautifulSoup(response.text, 'html.parser')\n",
        "\n",
        "            # Find the <h1> tag\n",
        "            h1_tag = soup.find('h1')\n",
        "            if h1_tag:\n",
        "                return h1_tag.get_text()\n",
        "            else:\n",
        "                # If <h1> tag not found, try <h2> tag\n",
        "                h2_tag = soup.find('h2')\n",
        "                if h2_tag:\n",
        "                    return h2_tag.get_text()\n",
        "        else:\n",
        "            # Return error message if request fails\n",
        "            return f\"Failed to fetch the page. Status code: {response.status_code}\"\n",
        "\n",
        "    except Exception as e:\n",
        "        # Return error message if any exception occurs during extraction\n",
        "        return f\"An error occurred: {e}\""
      ],
      "metadata": {
        "id": "tAZyy8DuVnf8"
      },
      "execution_count": 44,
      "outputs": []
    },
    {
      "cell_type": "code",
      "execution_count": 45,
      "metadata": {
        "id": "k36yVR2y0hNc"
      },
      "outputs": [],
      "source": [
        "# Check for duplicate titles in a list and append index if found.\n",
        "def check_title_list(lst):\n",
        "  seen = {}\n",
        "  result = []\n",
        "  for word in lst:\n",
        "    if word not in seen:\n",
        "      seen[word] = 1\n",
        "      result.append(word)\n",
        "    else:\n",
        "      seen[word] += 1\n",
        "      result.append(f\"{word}_{seen[word] - 1}\")\n",
        "  return result\n",
        "\n",
        "\n",
        "# Retrieve titles, links, and query count for a given search string.\n",
        "def get_titles_links_of_search(search_string):\n",
        "  query_counter = 0\n",
        "  titles = list()\n",
        "  links = set()\n",
        "  search_string = search_string.split()\n",
        "  # trimming and steaming algorithem to search terms exactly as they are in the DB\n",
        "  search_string = remove_stop_words(search_string)\n",
        "  search_string = trim_words(search_string)\n",
        "  search_string = apply_stemming(search_string)\n",
        "  for word in index.keys():\n",
        "    if word in search_string:\n",
        "      for i in range(min(10, len(index[word]))): # 10 results max\n",
        "        curr_link = getLinkFromString(word, i)\n",
        "        query_counter += index[word][curr_link]['counter']\n",
        "        if curr_link not in links:\n",
        "          titles.append(get_title_from_link(curr_link))\n",
        "        links.add(curr_link)\n",
        "  titles = check_title_list(titles)\n",
        "  return titles, links, query_counter"
      ]
    },
    {
      "cell_type": "code",
      "execution_count": 46,
      "metadata": {
        "id": "35Zx27XoVqfB"
      },
      "outputs": [],
      "source": [
        "# Process the received search string and display search results in the GUI\n",
        "def receive_search_string(search_string):\n",
        "\n",
        "  # If search string is empty, return\n",
        "  if search_string.strip() == \"\":\n",
        "    return\n",
        "\n",
        "  # Store original search string before modification\n",
        "  original_search_string = search_string\n",
        "\n",
        "  search_string = search_string.lower()\n",
        "\n",
        "  # Switch to the results screen\n",
        "  html_filename = f\"https://raw.githubusercontent.com/ndvp39/CloudComputing-tirgul/main/Project/GUI/results.html\"\n",
        "  js_filename = f\"https://raw.githubusercontent.com/ndvp39/CloudComputing-tirgul/main/Project/GUI/script.js\"\n",
        "  switchToScreen(css_filename, html_filename, js_filename)\n",
        "\n",
        "  # JavaScript code to set the search bar text\n",
        "  js_code = f\"\"\"\n",
        "    <script>\n",
        "      document.getElementById(\"searchbartext\").value = \"{original_search_string}\";\n",
        "    </script>\n",
        "    \"\"\"\n",
        "\n",
        "  # Retrieve search results\n",
        "  titles, links, times_appeared = get_titles_links_of_search(search_string)\n",
        "\n",
        "  # Convert Python arrays to JavaScript arrays\n",
        "  titles_js_array = ', '.join(f'\"{title}\"' for title in titles)\n",
        "  links_js_array = ', '.join(f'\"{link}\"' for link in links)\n",
        "  times_appeared_str = str(times_appeared)\n",
        "\n",
        "  # JavaScript code to render search results\n",
        "  js_code_2 = f\"\"\"\n",
        "    <script>\n",
        "      renderResults_title_link([ {titles_js_array} ], [ {links_js_array} ], [{times_appeared_str}]);\n",
        "    </script>\n",
        "  \"\"\"\n",
        "\n",
        "  display(HTML(js_code))\n",
        "  display(HTML(js_code_2))\n",
        "\n",
        "  # Update statistics if search results are available\n",
        "  if titles:\n",
        "    update_or_add_statistic(search_string)\n",
        "\n",
        "# Register the function to be called from JavaScript\n",
        "output.register_callback('notebook.receive_search_string', receive_search_string)\n",
        "\n",
        "# Switch to the home page of the GUI.\n",
        "def back_to_home_page():\n",
        "  html_filename = f\"https://raw.githubusercontent.com/ndvp39/CloudComputing-tirgul/main/Project/GUI/index.html\"\n",
        "  switchToScreen(css_filename, html_filename, js_filename)\n",
        "\n",
        "# Register the function to be called from JavaScript\n",
        "output.register_callback('notebook.back_to_home_page', back_to_home_page)\n"
      ]
    },
    {
      "cell_type": "code",
      "source": [
        "# Switch to the chatbot page of the GUI\n",
        "def open_chatbot_page():\n",
        "  html_filename = f\"https://raw.githubusercontent.com/ndvp39/CloudComputing-tirgul/main/Project/GUI/chatbot.html\"\n",
        "  switchToScreen(css_filename, html_filename, js_filename)\n",
        "\n",
        "# Register the function to be called from JavaScript\n",
        "output.register_callback('notebook.open_chatbot_page', open_chatbot_page)\n",
        "\n",
        "# Receive a question from the chatbot interface and provide a response\n",
        "def receive_question_chatbot(question):\n",
        "  empty_string = False\n",
        "\n",
        "  if question == \"\":\n",
        "    empty_string = True\n",
        "\n",
        "  # Get response from the chatbot\n",
        "  response = chatbot.respond(question)\n",
        "\n",
        "  if response is None:\n",
        "    response = \"I'm unable to generate a response to that question. Is there anything else I can assist you with?\"\n",
        "\n",
        "  if empty_string:\n",
        "    response = \"It seems like your message is blank. How can I assist you today? If you have any questions or need assistance, feel free to ask!\"\n",
        "\n",
        "  if \"May 6-9, 2024\" in response or \"An error occurred\" in response:\n",
        "    response = \"An error has occurred. If the issue persists, please retry in a few seconds.\"\n",
        "  # Generate JavaScript code to display the chatbot response\n",
        "  js_code = f\"\"\"\n",
        "      <script>\n",
        "        ChatbotResponse(\"{response}\");\n",
        "      </script>\n",
        "    \"\"\"\n",
        "\n",
        "  display(HTML(js_code))\n",
        "\n",
        "# Register the function to be called from JavaScript\n",
        "output.register_callback('notebook.receive_question_chatbot', receive_question_chatbot)"
      ],
      "metadata": {
        "id": "FBzEBtiUXX6r"
      },
      "execution_count": 59,
      "outputs": []
    },
    {
      "cell_type": "code",
      "execution_count": 48,
      "metadata": {
        "id": "qhsHJ-1zcLeH"
      },
      "outputs": [],
      "source": [
        "# Switch to the indexeditor page\n",
        "def open_indexeditor_page():\n",
        "  html_filename = \"https://raw.githubusercontent.com/ndvp39/CloudComputing-tirgul/main/Project/GUI/admin.html\"\n",
        "  switchToScreen(None, html_filename, None)\n",
        "\n",
        "# Register the function to be called from JavaScript\n",
        "output.register_callback('notebook.open_indexeditor_page', open_indexeditor_page)\n",
        "\n",
        "# Switch to the statistics page\n",
        "def open_statistics_screen():\n",
        "  html_filename = \"https://raw.githubusercontent.com/ndvp39/CloudComputing-tirgul/main/Project/GUI/statistics.html\"\n",
        "  switchToScreen(None, html_filename, None)\n",
        "\n",
        "# Register the function to be called from JavaScript\n",
        "output.register_callback('notebook.open_statistics_screen', open_statistics_screen)\n",
        "\n",
        "# Switch to the admin page\n",
        "def back_to_admin():\n",
        "  html_filename = \"https://raw.githubusercontent.com/ndvp39/CloudComputing-tirgul/main/Project/GUI/admin.html\"\n",
        "  switchToScreen(None, html_filename, None)\n",
        "\n",
        "# Register the function to be called from JavaScript\n",
        "output.register_callback('notebook.back_to_admin', back_to_admin)\n"
      ]
    },
    {
      "cell_type": "markdown",
      "source": [
        "Administration:"
      ],
      "metadata": {
        "id": "yy6NU_i3_Lpc"
      }
    },
    {
      "cell_type": "code",
      "source": [
        "# Run the administration.ipynb notebook\n",
        "%cd /content/CloudComputing-tirgul/Project/Administration/\n",
        "%run administration.ipynb"
      ],
      "metadata": {
        "colab": {
          "base_uri": "https://localhost:8080/"
        },
        "id": "g0vsAAw47Gob",
        "outputId": "84ebcfc2-26f7-41c2-f43b-89d9a2ec12b8"
      },
      "execution_count": 49,
      "outputs": [
        {
          "output_type": "stream",
          "name": "stdout",
          "text": [
            "/content/CloudComputing-tirgul/Project/Administration\n",
            "/content/CloudComputing-tirgul/Project/Index\n"
          ]
        }
      ]
    },
    {
      "cell_type": "markdown",
      "source": [
        "Loading the main page"
      ],
      "metadata": {
        "id": "eskAhPU0PQmy"
      }
    },
    {
      "cell_type": "code",
      "source": [
        "css_filename = f\"https://raw.githubusercontent.com/ndvp39/CloudComputing-tirgul/main/Project/GUI/style.css\"\n",
        "js_filename = f\"https://raw.githubusercontent.com/ndvp39/CloudComputing-tirgul/main/Project/GUI/script.js\"\n",
        "html_filename = f\"https://raw.githubusercontent.com/ndvp39/CloudComputing-tirgul/main/Project/GUI/index.html\"\n",
        "switchToScreen(css_filename, html_filename, js_filename)\n",
        "\n",
        "#========================#\n",
        "#                        #\n",
        "# ADMIN PASSWORD: 123456 #\n",
        "#                        #\n",
        "#========================#"
      ],
      "metadata": {
        "colab": {
          "base_uri": "https://localhost:8080/",
          "height": 1000
        },
        "id": "fXLNd03YPP4x",
        "outputId": "a0b143c1-55e9-46bd-a199-391d4d3113f1"
      },
      "execution_count": 58,
      "outputs": [
        {
          "output_type": "display_data",
          "data": {
            "text/plain": [
              "<IPython.core.display.HTML object>"
            ],
            "text/html": [
              "<!DOCTYPE html>\r\n",
              "<html lang=\"en\">\r\n",
              "\r\n",
              "<head>\r\n",
              "    <meta charset=\"UTF-8\">\r\n",
              "    <meta name=\"viewport\" content=\"width=device-width, initial-scale=1.0\">\r\n",
              "    <title>Statistics Page</title>\r\n",
              "    <link rel=\"stylesheet\"\r\n",
              "        href=\"https://fonts.googleapis.com/css2?family=Material+Symbols+Outlined:opsz,wght,FILL,GRAD@20..48,100..700,0..1,-50..200\" />\r\n",
              "    <style>\r\n",
              "        body {\r\n",
              "            background-color: #303030;\r\n",
              "            /* Dark grey background for the entire page */\r\n",
              "            color: #ffffff;\r\n",
              "            /* White text color for better readability */\r\n",
              "            font-family: Arial, sans-serif;\r\n",
              "            margin: 0;\r\n",
              "            padding: 0;\r\n",
              "        }\r\n",
              "\r\n",
              "        header,\r\n",
              "        footer {\r\n",
              "            background-color: #404040;\r\n",
              "            /* Slightly lighter background color for header and footer */\r\n",
              "            padding: 10px;\r\n",
              "            text-align: center;\r\n",
              "            display: flex;\r\n",
              "        }\r\n",
              "\r\n",
              "        section {\r\n",
              "            display: flex;\r\n",
              "            justify-content: space-between;\r\n",
              "            padding: 20px;\r\n",
              "        }\r\n",
              "\r\n",
              "        #statistics-block {\r\n",
              "            flex: 1;\r\n",
              "            background-color: #505050;\r\n",
              "            /* Even lighter background color for the two sections */\r\n",
              "            padding: 20px;\r\n",
              "            margin: 10px;\r\n",
              "            align-items: center;\r\n",
              "        }\r\n",
              "\r\n",
              "        #graph-section {\r\n",
              "            flex: 1;\r\n",
              "            background-color: #505050;\r\n",
              "            /* Even lighter background color for the graph section */\r\n",
              "            padding: 20px;\r\n",
              "            margin: 10px;\r\n",
              "            display: flex;\r\n",
              "            flex-direction: column;\r\n",
              "            align-items: center;\r\n",
              "\r\n",
              "        }\r\n",
              "\r\n",
              "        select {\r\n",
              "            margin-bottom: 20px;\r\n",
              "        }\r\n",
              "\r\n",
              "        button {\r\n",
              "            border: 1px solid gray;\r\n",
              "            color: #ffffff;\r\n",
              "            padding: 10px 12px;\r\n",
              "            border: none;\r\n",
              "            cursor: pointer;\r\n",
              "            text-align: center;\r\n",
              "            font-size: 14px;\r\n",
              "        }\r\n",
              "\r\n",
              "        h1 {\r\n",
              "            margin-top: 30px;\r\n",
              "            margin-right: 30px;\r\n",
              "            flex: 1;\r\n",
              "            /* Take up remaining space */\r\n",
              "            text-align: center;\r\n",
              "        }\r\n",
              "\r\n",
              "        #wordSelect,\r\n",
              "        #generateButton {\r\n",
              "            padding: 10px;\r\n",
              "            font-size: 16px;\r\n",
              "            border-radius: 3px;\r\n",
              "            outline: none;\r\n",
              "            margin-top: 20px;\r\n",
              "        }\r\n",
              "\r\n",
              "        #minMaxButton:hover,\r\n",
              "        #wordSelect:hover,\r\n",
              "        #generateButton:hover {\r\n",
              "            border: 1px solid gray;\r\n",
              "        }\r\n",
              "\r\n",
              "        #generateButton {\r\n",
              "            background-color: #303030;\r\n",
              "            color: #fff;\r\n",
              "            cursor: pointer;\r\n",
              "        }\r\n",
              "\r\n",
              "        #minMaxButton {\r\n",
              "            background-color: #505050;\r\n",
              "            color: #fff;\r\n",
              "            cursor: pointer;\r\n",
              "        }\r\n",
              "\r\n",
              "\r\n",
              "        #back_btn {\r\n",
              "            margin: 10px 10px 10px 10px;\r\n",
              "        }\r\n",
              "\r\n",
              "        .back-button {\r\n",
              "            background-color: transparent;\r\n",
              "            border-radius: 40px;\r\n",
              "            background: none;\r\n",
              "            border: none;\r\n",
              "            cursor: pointer;\r\n",
              "        }\r\n",
              "\r\n",
              "        .back-button .material-symbols-outlined {\r\n",
              "            font-size: 40px;\r\n",
              "        }\r\n",
              "\r\n",
              "        .back-button:focus {\r\n",
              "            outline: none;\r\n",
              "        }\r\n",
              "\r\n",
              "        .back-button:hover {\r\n",
              "            background-color: #606060;\r\n",
              "        }\r\n",
              "\r\n",
              "        #logoimg {\r\n",
              "            align-items: right;\r\n",
              "            height: 90px;\r\n",
              "            width: 90px;\r\n",
              "            cursor: pointer;\r\n",
              "        }\r\n",
              "    </style>\r\n",
              "</head>\r\n",
              "\r\n",
              "<body>\r\n",
              "\r\n",
              "    <header>\r\n",
              "        <button id=\"back_btn\" class=\"back-button\" onclick=\"backToAdmin()\">\r\n",
              "            <span class=\"material-symbols-outlined\">Arrow_Back</span>\r\n",
              "        </button>\r\n",
              "        <h1>Statistics Page</h1>\r\n",
              "        <img src=\"https://github.com/ndvp39/CloudComputing-tirgul/blob/main/Project/Images/icon.png?raw=true\"\r\n",
              "        onclick=\"backToHomePage()\" id=\"logoimg\" >\r\n",
              "    </header>\r\n",
              "\r\n",
              "    <section>\r\n",
              "\r\n",
              "        <div id=\"statistics-block\"></div>\r\n",
              "    </section>\r\n",
              "\r\n",
              "    <section id=\"graph-section\">\r\n",
              "        <h2>Index Graph - random 5 indexes</h2>\r\n",
              "        <canvas id=\"wordGraph\" width=800 height=\"400\"></canvas>\r\n",
              "        <button id=\"generateButton\" onclick=\"getRandomIndexes()\">Generate Graph</button>\r\n",
              "    </section>\r\n",
              "    <script>\r\n",
              "        function getMinMaxKeys() {\r\n",
              "            google.colab.kernel.invokeFunction('notebook.get_min_max_keys', [], {});\r\n",
              "        }\r\n",
              "\r\n",
              "        // Function to update statistics block with most and least common search\r\n",
              "        function updateStatisticsBlock(min_key, min_counter, max_key, max_counter) {\r\n",
              "            var statisticsBlock = document.getElementById('statistics-block');\r\n",
              "            statisticsBlock.innerHTML = `\r\n",
              "                <p>Most common search: \"${max_key}\" appeared in ${max_counter} searches</p>\r\n",
              "                <p>Least common search: \"${min_key}\" appeared in ${min_counter} searches</p>\r\n",
              "              `;\r\n",
              "\r\n",
              "        }\r\n",
              "\r\n",
              "        function getRandomIndexes() {\r\n",
              "            google.colab.kernel.invokeFunction('notebook.get_random_indexes_with_counters', [], {});\r\n",
              "        }\r\n",
              "\r\n",
              "        function generateGraph(indexes, counters) {\r\n",
              "            console.log(\"ENTER\");\r\n",
              "            const canvas = document.getElementById('wordGraph');\r\n",
              "            const ctx = canvas.getContext('2d');\r\n",
              "\r\n",
              "            // Clear the canvas\r\n",
              "            ctx.clearRect(0, 0, canvas.width, canvas.height);\r\n",
              "\r\n",
              "            // Calculate the maximum counter to determine the scaling factor\r\n",
              "            const maxCounter = Math.max(...counters) + 40;\r\n",
              "            const scaleFactor = maxCounter > canvas.height ? canvas.height / maxCounter : 1;\r\n",
              "\r\n",
              "            // Draw the graph based on the provided indexes and scaled counters\r\n",
              "            var xPos = 10;\r\n",
              "\r\n",
              "            for (let i = 0; i < indexes.length; i++) {\r\n",
              "                const index = indexes[i];\r\n",
              "                const scaledCounter = counters[i] * scaleFactor;\r\n",
              "\r\n",
              "                ctx.fillStyle = '#4CAF50'; // Green color for bars\r\n",
              "                ctx.fillRect(xPos, canvas.height - scaledCounter, 30, scaledCounter);\r\n",
              "                ctx.fillStyle = '#ffffff'; // White color for text\r\n",
              "                ctx.fillText(`${counters[i]} (${index})`, xPos + 5, canvas.height - scaledCounter - 10);\r\n",
              "                xPos += 150;\r\n",
              "            }\r\n",
              "        }\r\n",
              "\r\n",
              "        getMinMaxKeys()\r\n",
              "    </script>\r\n",
              "\r\n",
              "</body>\r\n",
              "\r\n",
              "</html>"
            ]
          },
          "metadata": {}
        },
        {
          "output_type": "display_data",
          "data": {
            "text/plain": [
              "<IPython.core.display.HTML object>"
            ],
            "text/html": [
              "\n",
              "    <script>\n",
              "      updateStatisticsBlock(\"cloud service\", \"1\", \"cloud\", \"7\");\n",
              "    </script>\n",
              "    "
            ]
          },
          "metadata": {}
        },
        {
          "output_type": "display_data",
          "data": {
            "text/plain": [
              "<IPython.core.display.HTML object>"
            ],
            "text/html": [
              "\n",
              "    <script>\n",
              "      generateGraph([ \"resourcestrain\", \"learn\", \"develop\", \"system\", \"trial\" ], [ \"46\", \"135\", \"95\", \"174\", \"75\" ]);\n",
              "    </script>\n",
              "    "
            ]
          },
          "metadata": {}
        },
        {
          "output_type": "display_data",
          "data": {
            "text/plain": [
              "<IPython.core.display.HTML object>"
            ],
            "text/html": [
              "\n",
              "    <script>\n",
              "      generateGraph([ \"can\", \"engin\", \"solut\", \"portalpartn\", \"resourcestrain\" ], [ \"80\", \"65\", \"94\", \"46\", \"46\" ]);\n",
              "    </script>\n",
              "    "
            ]
          },
          "metadata": {}
        },
        {
          "output_type": "display_data",
          "data": {
            "text/plain": [
              "<IPython.core.display.HTML object>"
            ],
            "text/html": [
              "\n",
              "    <script>\n",
              "      generateGraph([ \"edg\", \"certifi\", \"network\", \"about\", \"ansibl\" ], [ \"128\", \"191\", \"88\", \"53\", \"104\" ]);\n",
              "    </script>\n",
              "    "
            ]
          },
          "metadata": {}
        },
        {
          "output_type": "display_data",
          "data": {
            "text/plain": [
              "<IPython.core.display.HTML object>"
            ],
            "text/html": [
              "\n",
              "    <script>\n",
              "      generateGraph([ \"comput\", \"hat\", \"us\", \"tri\", \"platform\" ], [ \"96\", \"1493\", \"62\", \"95\", \"187\" ]);\n",
              "    </script>\n",
              "    "
            ]
          },
          "metadata": {}
        },
        {
          "output_type": "display_data",
          "data": {
            "text/plain": [
              "<IPython.core.display.HTML object>"
            ],
            "text/html": [
              "\n",
              "    <script>\n",
              "      generateGraph([ \"deploy\", \"supportdocumentationsupport\", \"system\", \"marketplac\", \"linux\" ], [ \"102\", \"46\", \"174\", \"69\", \"101\" ]);\n",
              "    </script>\n",
              "    "
            ]
          },
          "metadata": {}
        },
        {
          "output_type": "display_data",
          "data": {
            "text/plain": [
              "<IPython.core.display.HTML object>"
            ],
            "text/html": [
              "\n",
              "    <script>\n",
              "      generateGraph([ \"that\", \"us\", \"managementr\", \"technolog\", \"cloud\" ], [ \"183\", \"62\", \"46\", \"84\", \"351\" ]);\n",
              "    </script>\n",
              "    "
            ]
          },
          "metadata": {}
        },
        {
          "output_type": "display_data",
          "data": {
            "text/plain": [
              "<IPython.core.display.HTML object>"
            ],
            "text/html": [
              "\n",
              "    <script>\n",
              "      generateGraph([ \"storecontact\", \"tri\", \"foundat\", \"certif\", \"infrastructur\" ], [ \"46\", \"95\", \"49\", \"73\", \"49\" ]);\n",
              "    </script>\n",
              "    "
            ]
          },
          "metadata": {}
        },
        {
          "output_type": "display_data",
          "data": {
            "text/plain": [
              "<IPython.core.display.HTML object>"
            ],
            "text/html": [
              "\n",
              "    <script>\n",
              "      generateGraph([ \"help\", \"marketplac\", \"of\", \"we\", \"learn\" ], [ \"64\", \"69\", \"369\", \"96\", \"135\" ]);\n",
              "    </script>\n",
              "    "
            ]
          },
          "metadata": {}
        },
        {
          "output_type": "display_data",
          "data": {
            "text/plain": [
              "<IPython.core.display.HTML object>"
            ],
            "text/html": [
              "\n",
              "    <script>\n",
              "      generateGraph([ \"manag\", \"hat\", \"with\", \"legal\", \"edg\" ], [ \"168\", \"1493\", \"267\", \"53\", \"128\" ]);\n",
              "    </script>\n",
              "    "
            ]
          },
          "metadata": {}
        },
        {
          "output_type": "display_data",
          "data": {
            "text/plain": [
              "<IPython.core.display.HTML object>"
            ],
            "text/html": [
              "\n",
              "    <script>\n",
              "      generateGraph([ \"organ\", \"modern\", \"our\", \"red\", \"supportbecom\" ], [ \"54\", \"52\", \"64\", \"923\", \"46\" ]);\n",
              "    </script>\n",
              "    "
            ]
          },
          "metadata": {}
        },
        {
          "output_type": "display_data",
          "data": {
            "text/plain": [
              "<IPython.core.display.HTML object>"
            ],
            "text/html": [
              "\n",
              "    <script>\n",
              "      generateGraph([ \"certifi\", \"support\", \"administr\", \"kubernet\", \"how\" ], [ \"191\", \"57\", \"71\", \"77\", \"51\" ]);\n",
              "    </script>\n",
              "    "
            ]
          },
          "metadata": {}
        },
        {
          "output_type": "display_data",
          "data": {
            "text/plain": [
              "<IPython.core.display.HTML object>"
            ],
            "text/html": [
              "\n",
              "    <script>\n",
              "      generateGraph([ \"contact\", \"support\", \"we\", \"organ\", \"privaci\" ], [ \"53\", \"57\", \"96\", \"54\", \"52\" ]);\n",
              "    </script>\n",
              "    "
            ]
          },
          "metadata": {}
        },
        {
          "output_type": "display_data",
          "data": {
            "text/plain": [
              "<IPython.core.display.HTML object>"
            ],
            "text/html": [
              "\n",
              "    <script>\n",
              "      generateGraph([ \"oper\", \"custom\", \"technolog\", \"manag\", \"provid\" ], [ \"70\", \"83\", \"84\", \"168\", \"89\" ]);\n",
              "    </script>\n",
              "    "
            ]
          },
          "metadata": {}
        },
        {
          "output_type": "display_data",
          "data": {
            "text/plain": [
              "<IPython.core.display.HTML object>"
            ],
            "text/html": [
              "\n",
              "    <script>\n",
              "      generateGraph([ \"casessubscript\", \"ecosystem\", \"sellr\", \"with\", \"red\" ], [ \"46\", \"116\", \"46\", \"267\", \"923\" ]);\n",
              "    </script>\n",
              "    "
            ]
          },
          "metadata": {}
        },
        {
          "output_type": "display_data",
          "data": {
            "text/plain": [
              "<IPython.core.display.HTML object>"
            ],
            "text/html": [
              "\n",
              "    <script>\n",
              "      generateGraph([ \"partnerspartn\", \"specialist\", \"across\", \"legal\", \"success\" ], [ \"69\", \"125\", \"54\", \"53\", \"71\" ]);\n",
              "    </script>\n",
              "    "
            ]
          },
          "metadata": {}
        },
        {
          "output_type": "display_data",
          "data": {
            "text/plain": [
              "<IPython.core.display.HTML object>"
            ],
            "text/html": [
              "\n",
              "    <script>\n",
              "      generateGraph([ \"salesstart\", \"legal\", \"technolog\", \"that\", \"buy\" ], [ \"46\", \"53\", \"84\", \"183\", \"92\" ]);\n",
              "    </script>\n",
              "    "
            ]
          },
          "metadata": {}
        },
        {
          "output_type": "display_data",
          "data": {
            "text/plain": [
              "<IPython.core.display.HTML object>"
            ],
            "text/html": [
              "\n",
              "    <script>\n",
              "      generateGraph([ \"develop\", \"trial\", \"tri\", \"vs\", \"developershybrid\" ], [ \"95\", \"75\", \"95\", \"62\", \"46\" ]);\n",
              "    </script>\n",
              "    "
            ]
          },
          "metadata": {}
        }
      ]
    }
  ],
  "metadata": {
    "colab": {
      "provenance": [],
      "include_colab_link": true
    },
    "kernelspec": {
      "display_name": "Python 3",
      "name": "python3"
    },
    "language_info": {
      "name": "python"
    }
  },
  "nbformat": 4,
  "nbformat_minor": 0
}