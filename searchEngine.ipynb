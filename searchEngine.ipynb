{
  "nbformat": 4,
  "nbformat_minor": 0,
  "metadata": {
    "colab": {
      "provenance": [],
      "authorship_tag": "ABX9TyO1azrJ2cTOJsAislPtbMMk",
      "include_colab_link": true
    },
    "kernelspec": {
      "name": "python3",
      "display_name": "Python 3"
    },
    "language_info": {
      "name": "python"
    }
  },
  "cells": [
    {
      "cell_type": "markdown",
      "metadata": {
        "id": "view-in-github",
        "colab_type": "text"
      },
      "source": [
        "<a href=\"https://colab.research.google.com/github/ndvp39/CloudComputing-tirgul/blob/main/searchEngine.ipynb\" target=\"_parent\"><img src=\"https://colab.research.google.com/assets/colab-badge.svg\" alt=\"Open In Colab\"/></a>"
      ]
    },
    {
      "cell_type": "code",
      "execution_count": null,
      "metadata": {
        "id": "HVjiDYdKNDJN"
      },
      "outputs": [],
      "source": [
        "from google.colab import drive, output\n",
        "import IPython\n",
        "from IPython.display import HTML, Javascript\n",
        "import json\n",
        "from IPython.display import clear_output\n",
        "\n",
        "drive.mount('/content/drive')"
      ]
    },
    {
      "cell_type": "code",
      "source": [
        "\n",
        "\n"
      ],
      "metadata": {
        "id": "IeCbeSc1fYXy"
      },
      "execution_count": null,
      "outputs": []
    },
    {
      "cell_type": "code",
      "source": [
        "\n",
        "\n",
        "def receive_search_string(search_string):\n",
        "\n",
        "  clear_output(wait=True)\n",
        "  css_filename = \"/content/drive/My Drive/CloudComputing/project/style.css\"\n",
        "  html_filename = \"/content/drive/My Drive/CloudComputing/project/results.html\"\n",
        "  js_filename = \"/content/drive/My Drive/CloudComputing/project/script.js\"\n",
        "\n",
        "  with open(css_filename, 'r') as file:\n",
        "    css_content = file.read();\n",
        "    display(IPython.display.HTML(css_content))\n",
        "  with open(html_filename, 'r') as file:\n",
        "    html_content = file.read();\n",
        "    display(IPython.display.HTML(html_content))\n",
        "\n",
        "    js_code = f\"\"\"\n",
        "      <script>\n",
        "        document.getElementById(\"searchbartext\").value = \"{search_string}\";\n",
        "      </script>\n",
        "      \"\"\"\n",
        "  display(HTML(js_code))\n",
        "\n",
        "  with open(js_filename, 'r') as file:\n",
        "    js_content = file.read();\n",
        "    display(IPython.display.Javascript(js_content))\n",
        "\n",
        "\n",
        "\n",
        "# Register the function to be called from JavaScript\n",
        "output.register_callback('notebook.receive_search_string', receive_search_string)\n"
      ],
      "metadata": {
        "id": "9vReQTw9UoBE"
      },
      "execution_count": null,
      "outputs": []
    },
    {
      "cell_type": "code",
      "source": [
        "css_filename = \"/content/drive/My Drive/CloudComputing/project/style.css\"\n",
        "html_filename = \"/content/drive/My Drive/CloudComputing/project/index.html\"\n",
        "js_filename = \"/content/drive/My Drive/CloudComputing/project/script.js\"\n",
        "\n",
        "with open(css_filename, 'r') as file:\n",
        "  css_content = file.read();\n",
        "  display(IPython.display.HTML(css_content))\n",
        "\n",
        "with open(html_filename, 'r') as file:\n",
        "  html_content = file.read();\n",
        "  display(IPython.display.HTML(html_content))\n",
        "\n",
        "with open(js_filename, 'r') as file:\n",
        "  js_content = file.read();\n",
        "  display(IPython.display.Javascript(js_content))\n",
        "\n",
        "\n",
        "\n",
        "\n"
      ],
      "metadata": {
        "id": "35Zx27XoVqfB"
      },
      "execution_count": null,
      "outputs": []
    },
    {
      "cell_type": "code",
      "source": [
        "html_filename = \"/content/drive/My Drive/CloudComputing/project/admin.html\"\n",
        "\n",
        "with open(html_filename, 'r') as file:\n",
        "  html_content = file.read();\n",
        "  display(IPython.display.HTML(html_content))"
      ],
      "metadata": {
        "id": "qhsHJ-1zcLeH"
      },
      "execution_count": null,
      "outputs": []
    }
  ]
}