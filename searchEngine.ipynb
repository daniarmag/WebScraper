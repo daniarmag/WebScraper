{
  "nbformat": 4,
  "nbformat_minor": 0,
  "metadata": {
    "colab": {
      "provenance": [],
      "authorship_tag": "ABX9TyPCfgTj2f3R3aIklmyFwFuI",
      "include_colab_link": true
    },
    "kernelspec": {
      "name": "python3",
      "display_name": "Python 3"
    },
    "language_info": {
      "name": "python"
    }
  },
  "cells": [
    {
      "cell_type": "markdown",
      "metadata": {
        "id": "view-in-github",
        "colab_type": "text"
      },
      "source": [
        "<a href=\"https://colab.research.google.com/github/ndvp39/CloudComputing-tirgul/blob/main/searchEngine.ipynb\" target=\"_parent\"><img src=\"https://colab.research.google.com/assets/colab-badge.svg\" alt=\"Open In Colab\"/></a>"
      ]
    },
    {
      "cell_type": "code",
      "execution_count": 109,
      "metadata": {
        "colab": {
          "base_uri": "https://localhost:8080/"
        },
        "id": "HVjiDYdKNDJN",
        "outputId": "1a381524-6ae2-4f77-bcaa-5e2511c6c935"
      },
      "outputs": [
        {
          "output_type": "stream",
          "name": "stdout",
          "text": [
            "Drive already mounted at /content/drive; to attempt to forcibly remount, call drive.mount(\"/content/drive\", force_remount=True).\n"
          ]
        }
      ],
      "source": [
        "from google.colab import drive\n",
        "import IPython\n",
        "drive.mount('/content/drive')"
      ]
    },
    {
      "cell_type": "code",
      "source": [
        "import os\n",
        "os.chdir(\"/content/drive/MyDrive/CloudComputing/project\")\n",
        "\n"
      ],
      "metadata": {
        "id": "IeCbeSc1fYXy"
      },
      "execution_count": 110,
      "outputs": []
    },
    {
      "cell_type": "code",
      "source": [
        "from google.colab import output\n",
        "\n",
        "def receive_search_string(search_string):\n",
        "    print(f\"Received search string: {search_string}\")\n",
        "\n",
        "# Register the function to be called from JavaScript\n",
        "output.register_callback('notebook.receive_search_string', receive_search_string)"
      ],
      "metadata": {
        "id": "9vReQTw9UoBE"
      },
      "execution_count": 111,
      "outputs": []
    },
    {
      "cell_type": "code",
      "source": [
        "html_filename = \"/content/drive/My Drive/CloudComputing/project/index.html\"\n",
        "\n",
        "with open(html_filename, 'r') as file:\n",
        "  html_content = file.read();\n",
        "\n",
        "  display(IPython.display.HTML(html_content))"
      ],
      "metadata": {
        "colab": {
          "base_uri": "https://localhost:8080/",
          "height": 446
        },
        "id": "35Zx27XoVqfB",
        "outputId": "3ac330e1-a553-4fe6-fd71-7ec957c4ebb0"
      },
      "execution_count": 112,
      "outputs": [
        {
          "output_type": "display_data",
          "data": {
            "text/plain": [
              "<IPython.core.display.HTML object>"
            ],
            "text/html": [
              "<!DOCTYPE html>\n",
              "<html>\n",
              "  <head>\n",
              "    <meta charset=\"utf-8\">\n",
              "    <!-- This link tag is used to link html file with css file -->\n",
              "    <link rel=\"stylesheet\" href=\"https://fonts.googleapis.com/css2?family=Material+Symbols+Outlined:opsz,wght,FILL,GRAD@20..48,100..700,0..1,-50..200\" />\n",
              " \n",
              "    <style>\n",
              "        \n",
              "        /* Styling of navigation bar */\n",
              "#navdiv{\n",
              "    display:flex;\n",
              "    width:17%;\n",
              "    margin-left: 82%;\n",
              "    justify-content: right;\n",
              "    margin-top: 1%;\n",
              "    height:35px;\n",
              "  }\n",
              "  nav img{\n",
              "    margin-top: 5px;\n",
              "  }\n",
              "  #logoimg{\n",
              "    margin-top: 100px;\n",
              "  }\n",
              "  button{\n",
              "    border-radius: 3px;\n",
              "    height:100%;\n",
              "    padding:5px 12px;\n",
              "    background-color: #bd5616 ;\n",
              "    margin-left: 0.5em;\n",
              "    color:white;\n",
              "    border:none;\n",
              "  }\n",
              "  /* setting up size and border stle of search bar*/\n",
              "  #maindiv{\n",
              "  width:35%;\n",
              "  border-radius: 50px;\n",
              "  display: flex;\n",
              "  height:40px;\n",
              "  border:1px solid lightgrey;\n",
              "  }\n",
              "  #inputspan {\n",
              "    width: 100%;\n",
              "    padding: 0; /* Remove padding */\n",
              "    margin: 0;\n",
              "    border-radius: 24px;  /* Set the same border-radius as the parent */\n",
              "}\n",
              "#inputspan input {\n",
              "    background-color: var(--color-realbox-background);\n",
              "    border: none;\n",
              "    border-radius: var(--ntp-realbox-border-radius);\n",
              "    color: var(--color-realbox-foreground);\n",
              "    font-family: inherit;\n",
              "    font-size: inherit;\n",
              "    height: 100%;\n",
              "    outline: 0;\n",
              "    position: relative;\n",
              "    width: 85%;\n",
              "}\n",
              "  span{\n",
              "    vertical-align: top;\n",
              "  }\n",
              "  span:first-child{\n",
              "    width:10%;\n",
              "    border-radius: 50px;\n",
              "    margin-top: 7px;\n",
              "  }\n",
              "  span:last-child{\n",
              "    width:10%;\n",
              "    border-radius: 50px;\n",
              "    margin-top: 7px;\n",
              "  }\n",
              "  input{\n",
              "    height:100%;\n",
              "    width:100%;\n",
              "    border: none;\n",
              "    padding:0px;\n",
              "  }\n",
              "  section{\n",
              "    display: flex;\n",
              "    margin-top: 2%;\n",
              "    width:23%;\n",
              "    justify-content: space-around;\n",
              "    margin-bottom: 2%;\n",
              "  }\n",
              "  section button{\n",
              "    padding:10px 12px;\n",
              "    background-color: lightgrey;\n",
              "    color:black;\n",
              "  }\n",
              "  /*When hovered*/\n",
              "\n",
              "  button:hover{\n",
              "    border: 1px solid gray;\n",
              "    cursor: pointer;\n",
              "  }\n",
              "  .material-symbols-outlined{\n",
              "    margin-right: 0.3em;\n",
              "  }\n",
              "        \n",
              "    </style>\n",
              "   \n",
              "    <title></title>\n",
              "  </head>\n",
              "  <body>\n",
              "    <!--Nav tag is used here for navigation bar at top right corner -->\n",
              "    <nav>\n",
              "      <div id=\"navdiv\">\n",
              "        <span class=\"material-symbols-outlined\">emoji_people</span>\n",
              "        <div><button type=\"submit\" name=\"button\">Sign In</button></div>\n",
              "      </div>\n",
              "    </nav>\n",
              "    <!--End of navigation -->\n",
              "\n",
              "      <center>\n",
              "        <img src=\"https://github.com/ndvp39/CloudComputing-tirgul/blob/main/project/images/icon.png?raw=true\" width=\"10%\" height=\"2%\" id=\"logoimg\">\n",
              "        <!-- Search bar -->\n",
              "        <div>\n",
              "          <div id=\"maindiv\">\n",
              "            <span id=\"inputspan\"><input id=\"searchInput\" type=\"text\" name=\"search\"></span>\n",
              "            <span class=\"material-symbols-outlined\">search</span>\n",
              "          </div>\n",
              "        </div>\n",
              "        <!--Buttons -->\n",
              "        <section>\n",
              "          <div><button type=\"submit\" onclick=\"performSearch()\">Panther Search</button></div>\n",
              "          <div><button type=\"submit\">Statistics</button></div>\n",
              "        </section>\n",
              "      </center>\n",
              "</body>\n",
              "<script>\n",
              "\n",
              "    function performSearch() {\n",
              "        var searchString = document.getElementById('searchInput').value;\n",
              "    \n",
              "        // Send the search string to Python using output module\n",
              "        google.colab.kernel.invokeFunction('notebook.receive_search_string', [searchString], {});\n",
              "    }\n",
              "    \n",
              "</script>\n",
              "</html>"
            ]
          },
          "metadata": {}
        }
      ]
    },
    {
      "cell_type": "code",
      "source": [],
      "metadata": {
        "id": "qhsHJ-1zcLeH"
      },
      "execution_count": 112,
      "outputs": []
    }
  ]
}